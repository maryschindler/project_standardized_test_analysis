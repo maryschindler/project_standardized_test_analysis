{
 "cells": [
  {
   "cell_type": "markdown",
   "metadata": {},
   "source": [
    "# Project 1: Standardized Test Analysis"
   ]
  },
  {
   "cell_type": "markdown",
   "metadata": {},
   "source": [
    "--- \n",
    "# Part 1\n",
    "\n",
    "Part 1 requires knowledge of basic Python.\n",
    "\n",
    "---"
   ]
  },
  {
   "cell_type": "markdown",
   "metadata": {},
   "source": [
    "## Problem Statement"
   ]
  },
  {
   "cell_type": "markdown",
   "metadata": {
    "tags": []
   },
   "source": [
    "Decide on your problem statement that will guide your analysis for this project. For guidelines, sample prompts, or inspiration, check out the README.\n",
    "\n",
    "**To-Do:** \n",
    "\n",
    "The SAT and ACT are benchmarks by which colleges base their entrance decisions. As the college-entry process can be highly competitive, many students seek tutoring for these tests. \n",
    "\n",
    "Positing we were starting a new tutoring service for the SAT and we wanted to make our service specialized: can we position ourselves as experts for tutoring potential STEM students? Looking at whether or not students with intended college major in a STEM degree on the SAT, the SAT reading section, the SAT math section; could we make reasonable conclusions on which topics to tutor to for those STEM students? "
   ]
  },
  {
   "cell_type": "markdown",
   "metadata": {},
   "source": [
    "### Contents:\n",
    "- [Background](#Background)\n",
    "- [Data Import & Cleaning](#Data-Import-and-Cleaning)\n",
    "- [Exploratory Data Analysis](#Exploratory-Data-Analysis)\n",
    "- [Data Visualization](#Visualize-the-Data)\n",
    "- [Conclusions and Recommendations](#Conclusions-and-Recommendations)"
   ]
  },
  {
   "cell_type": "markdown",
   "metadata": {
    "tags": []
   },
   "source": [
    "## Background"
   ]
  },
  {
   "cell_type": "markdown",
   "metadata": {},
   "source": [
    "The SAT and ACT are standardized tests that many colleges and universities in the United States require for their admissions process. This score is used along with other materials such as grade point average (GPA) and essay responses to determine whether or not a potential student will be accepted to the university.\n",
    "\n",
    "The SAT has two sections of the test: Evidence-Based Reading and Writing and Math ([*source*](https://www.princetonreview.com/college/sat-sections)). The ACT has 4 sections: English, Mathematics, Reading, and Science, with an additional optional writing section ([*source*](https://www.act.org/content/act/en/products-and-services/the-act/scores/understanding-your-scores.html)). They have different score ranges, which you can read more about on their websites or additional outside sources (a quick Google search will help you understand the scores for each test):\n",
    "* [SAT](https://collegereadiness.collegeboard.org/sat)\n",
    "* [ACT](https://www.act.org/content/act/en.html)\n",
    "\n",
    "Standardized tests have long been a controversial topic for students, administrators, and legislators. Since the 1940's, an increasing number of colleges have been using scores from sudents' performances on tests like the SAT and the ACT as a measure for college readiness and aptitude ([*source*](https://www.minotdailynews.com/news/local-news/2017/04/a-brief-history-of-the-sat-and-act/)). Supporters of these tests argue that these scores can be used as an objective measure to determine college admittance. Opponents of these tests claim that these tests are not accurate measures of students potential or ability and serve as an inequitable barrier to entry. Lately, more and more schools are opting to drop the SAT/ACT requirement for their Fall 2021 applications ([*read more about this here*](https://www.cnn.com/2020/04/14/us/coronavirus-colleges-sat-act-test-trnd/index.html)).\n",
    "\n",
    "Despite what opponents of the test may claim, students would benefit to prepare themselves for standardized testing in order to maximize their performance. Both private tutors and group classroom instruction on the SAT test are typically available nationwide. \n",
    "\n",
    "In the process of taking the SAT, students complete a questionnaire and have the option to declare their intended major ([*source*](https://collegereadiness.collegeboard.org/sat/register/policies-requirements/questionnaire)). Of the declarable majors listed in sat_2019_by_intended_college_major.csv, the ACT considers the following to be STEM Majors:\n",
    "\n",
    " * Agriculture, AgricultureOperations, and Related Sciences\n",
    " * Biological and Biomedical Sciences\n",
    " * Computer and Information Sciences and Support Services\n",
    " * Engineering\n",
    " * Engineering Technologies/Technicians\n",
    " * Health Professions and related Clinical Sciences\n",
    " * Mathematics and Statistics\n",
    " * Natural resources and Conservation\n",
    " * Physical Sciences<br>\n",
    " ([*source*](https://www.act.org/content/act/en/research/reports/act-publications/condition-of-stem-2013/stem-majors-and-occupations/stem-majors-and-occupations.html))"
   ]
  },
  {
   "cell_type": "markdown",
   "metadata": {},
   "source": [
    "### Choose your Data\n",
    "\n",
    "There are 10 datasets included in the [`data`](./data/) folder for this project. You are required to pick **at least two** of these to complete your analysis. Feel free to use more than two if you would like, or add other relevant datasets you find online.\n",
    "\n",
    "* [`act_2017.csv`](./data/act_2017.csv): 2017 ACT Scores by State\n",
    "* [`act_2018.csv`](./data/act_2018.csv): 2018 ACT Scores by State\n",
    "* [`act_2019.csv`](./data/act_2019.csv): 2019 ACT Scores by State\n",
    "* [`act_2019_ca.csv`](./data/act_2019_ca.csv): 2019 ACT Scores in California by School\n",
    "* [`sat_2017.csv`](./data/sat_2017.csv): 2017 SAT Scores by State\n",
    "* [`sat_2018.csv`](./data/sat_2018.csv): 2018 SAT Scores by State\n",
    "* [`sat_2019.csv`](./data/sat_2019.csv): 2019 SAT Scores by State\n",
    "* [`sat_2019_by_intended_college_major.csv`](./data/sat_2019_by_intended_college_major.csv): 2019 SAT Scores by Intended College Major\n",
    "* [`sat_2019_ca.csv`](./data/sat_2019_ca.csv): 2019 SAT Scores in California by School\n",
    "* [`sat_act_by_college.csv`](./data/sat_act_by_college.csv): Ranges of Accepted ACT & SAT Student Scores by Colleges"
   ]
  },
  {
   "cell_type": "markdown",
   "metadata": {},
   "source": [
    "**To-Do:** \n",
    "\n",
    "The .csv files I will are:\n",
    "* .csv files:\n",
    "   * act_2019.csv (to make comparisons between state's performance on both tests)\n",
    "   * sat_2019.csv\n",
    "   * sat_2019_by_intended_college_major.csv\n",
    "   \n",
    "From those .csv files I want to look at:\n",
    "* act_2019.csv\n",
    "    * Overall composite score by state, which states performed the best on the ACT\n",
    "* sat_2019.csv\n",
    "    * Overall performance on the SAT and performance on the Math portion\n",
    "* sat_2019_by_intended_college_major.csv\n",
    "    * SAT performance by STEM students, both overall and specifically for the Math portion\n",
    "    * SAT performance by non-STEM students, both overall and specifically for the Math portion"
   ]
  },
  {
   "cell_type": "markdown",
   "metadata": {},
   "source": [
    "### Outside Research"
   ]
  },
  {
   "cell_type": "markdown",
   "metadata": {},
   "source": [
    "Based on your problem statement and your chosen datasets, spend some time doing outside research on state policies or additional information that might be relevant. Summarize your findings below. If you bring in any outside tables or charts, make sure you are explicit about having borrowed them. If you quote any text, make sure that it renders as being quoted. **Make sure that you cite your sources.**"
   ]
  },
  {
   "cell_type": "markdown",
   "metadata": {},
   "source": [
    "Upon researching the problem statement, I locate a study which presented similar analysis to what I ideally intended. A very interesting study that does analysis on a similar topic, \"Patterns of SAT Scores, Choice of STEM Major, and Gender\" by Davison, Jew, and Davenport ([*source*](https://citeseerx.ist.psu.edu/viewdoc/download?doi=10.1.1.880.350&rep=rep1&type=pdf)).\n",
    "\n",
    "From that study: \"In this conceptualization, verbal abilities are negatively associated with a STEM choice because high verbal abilities increase the attractiveness of non-STEM alternatives. High verbal abilities raise the student’s expected success in non-STEM areas and thereby make the non-STEM alternatives more attractive.\"\n",
    "\n",
    "\"Second, we hypothesized that the difference, SATQ − SATV, would be associated with choice of a STEM major. Essentially, this means that students for whom the difference is positive will tend more toward STEM majors and that students for whom the difference is negative will tend more toward non-STEM majors.\" I wondered if that that hypothesis hold true with our SAT data but did not have time to explore this question specifically.\n",
    "\n",
    "The KFF (Kaiser Family Foundation) collects and maintains data relevant to health statistics in the United States. The following link provides information on Population Distribution by Age in the United States: https://www.kff.org/other/state-indicator/distribution-by-age/?dataView=1&currentTimeframe=0&sortModel=%7B%22colId%22:%22Location%22,%22sort%22:%22asc%22%7D\n",
    "\n",
    "If I had more time, or upon revisiting this project in the future, I would have liked to encorporate this data to further breakdown the relationship between states' and their performance on the ACT and SAT. Additionally, I would have liked to examine the relationship between SATQ - SATV and its association to choice of intended STEM major but ran out of time to explore this data point. "
   ]
  },
  {
   "cell_type": "markdown",
   "metadata": {},
   "source": [
    "### Coding Challenges\n",
    "\n",
    "1. Manually calculate mean:\n",
    "\n",
    "    Write a function that takes in values and returns the mean of the values. Create a list of numbers that you test on your function to check to make sure your function works!\n",
    "    \n",
    "    *Note*: Do not use any mean methods built-in to any Python libraries to do this! This should be done without importing any additional libraries."
   ]
  },
  {
   "cell_type": "code",
   "execution_count": 1,
   "metadata": {},
   "outputs": [
    {
     "data": {
      "text/plain": [
       "35.77777777777778"
      ]
     },
     "execution_count": 1,
     "metadata": {},
     "output_type": "execute_result"
    }
   ],
   "source": [
    "def mean_manual(numbers):\n",
    "    #mean is total / occurrences\n",
    "    return sum(numbers) / len(numbers)\n",
    "\n",
    "picked_nums = [2, 55, 67, 13, 9, 12, 43, 31, 90]\n",
    "#testing function\n",
    "mean_manual(picked_nums)"
   ]
  },
  {
   "cell_type": "markdown",
   "metadata": {},
   "source": [
    "2. Manually calculate standard deviation:\n",
    "\n",
    "    The formula for standard deviation is below:\n",
    "\n",
    "    $$\\sigma = \\sqrt{\\frac{1}{n}\\sum_{i=1}^n(x_i - \\mu)^2}$$\n",
    "\n",
    "    Where $x_i$ represents each value in the dataset, $\\mu$ represents the mean of all values in the dataset and $n$ represents the number of values in the dataset.\n",
    "\n",
    "    Write a function that takes in values and returns the standard deviation of the values using the formula above. Hint: use the function you wrote above to calculate the mean! Use the list of numbers you created above to test on your function.\n",
    "    \n",
    "    *Note*: Do not use any standard deviation methods built-in to any Python libraries to do this! This should be done without importing any additional libraries."
   ]
  },
  {
   "cell_type": "code",
   "execution_count": 2,
   "metadata": {},
   "outputs": [
    {
     "data": {
      "text/plain": [
       "28.483046722871553"
      ]
     },
     "execution_count": 2,
     "metadata": {},
     "output_type": "execute_result"
    }
   ],
   "source": [
    "# Code:\n",
    "#finding SD: 1 - Find the mean. 2 - Subtract the mean from each instance (deviation). #3 - Square each deviation. \n",
    "#4 - Sum the squares. 5 - Divide the sum by the number of instances. 6 - Take the square root of the quotient \n",
    "\n",
    "def standard_deviation(numbers):\n",
    "    \n",
    "    n = len(numbers)\n",
    "    mean = mean_manual(numbers)\n",
    "    \n",
    "    deviation = list((number - mean_manual(numbers) for number in numbers))\n",
    "    deviation_sq = [number ** 2 for number in deviation]\n",
    "    \n",
    "    variance = sum(deviation_sq) / n\n",
    "    stdev = (variance ** 0.5)\n",
    "    \n",
    "    return stdev\n",
    "\n",
    "#testing standard deviation, used https://www.calculator.net/standard-deviation-calculator.html\n",
    "#to double check answer\n",
    "standard_deviation(picked_nums)"
   ]
  },
  {
   "cell_type": "markdown",
   "metadata": {},
   "source": [
    "3. Data cleaning function:\n",
    "    \n",
    "    Write a function that takes in a string that is a number and a percent symbol (ex. '50%', '30.5%', etc.) and converts this to a float that is the decimal approximation of the percent. For example, inputting '50%' in your function should return 0.5, '30.5%' should return 0.305, etc. Make sure to test your function to make sure it works!\n",
    "\n",
    "You will use these functions later on in the project!"
   ]
  },
  {
   "cell_type": "code",
   "execution_count": 3,
   "metadata": {},
   "outputs": [
    {
     "data": {
      "text/plain": [
       "0.305"
      ]
     },
     "execution_count": 3,
     "metadata": {},
     "output_type": "execute_result"
    }
   ],
   "source": [
    "def str_to_perc(numperc):\n",
    "    #using replace to remove the % character\n",
    "    return float(numperc.replace('%', '')) / 100\n",
    "\n",
    "#testing function\n",
    "str_to_perc('30.5%')"
   ]
  },
  {
   "cell_type": "code",
   "execution_count": 4,
   "metadata": {},
   "outputs": [
    {
     "data": {
      "text/plain": [
       "24000.0"
      ]
     },
     "execution_count": 4,
     "metadata": {},
     "output_type": "execute_result"
    }
   ],
   "source": [
    "#upon cleaning data later in this project I found I also needed to remove , from a column.\n",
    "#this section seemed the most appropriate for the function, #since the above code block accomplishes a similar task. \n",
    "\n",
    "def obj_to_flt(number):\n",
    "    return float(number.replace(',', ''))\n",
    "\n",
    "#testing function\n",
    "obj_to_flt('24,000')"
   ]
  },
  {
   "cell_type": "markdown",
   "metadata": {},
   "source": [
    "--- \n",
    "# Part 2\n",
    "\n",
    "Part 2 requires knowledge of Pandas, EDA, data cleaning, and data visualization.\n",
    "\n",
    "---"
   ]
  },
  {
   "cell_type": "markdown",
   "metadata": {},
   "source": [
    "*All libraries used should be added here*"
   ]
  },
  {
   "cell_type": "code",
   "execution_count": 5,
   "metadata": {},
   "outputs": [],
   "source": [
    "# Imports:\n",
    "import numpy as np\n",
    "import pandas as pd\n",
    "\n",
    "import matplotlib.pyplot as plt\n",
    "import seaborn as sns"
   ]
  },
  {
   "cell_type": "markdown",
   "metadata": {},
   "source": [
    "## Data Import and Cleaning"
   ]
  },
  {
   "cell_type": "markdown",
   "metadata": {},
   "source": [
    "### Data Import & Cleaning\n",
    "\n",
    "Import the datasets that you selected for this project and go through the following steps at a minimum. You are welcome to do further cleaning as you feel necessary:\n",
    "1. Display the data: print the first 5 rows of each dataframe to your Jupyter notebook.\n",
    "2. Check for missing values.\n",
    "3. Check for any obvious issues with the observations (keep in mind the minimum & maximum possible values for each test/subtest).\n",
    "4. Fix any errors you identified in steps 2-3.\n",
    "5. Display the data types of each feature.\n",
    "6. Fix any incorrect data types found in step 5.\n",
    "    - Fix any individual values preventing other columns from being the appropriate type.\n",
    "    - If your dataset has a column of percents (ex. '50%', '30.5%', etc.), use the function you wrote in Part 1 (coding challenges, number 3) to convert this to floats! *Hint*: use `.map()` or `.apply()`.\n",
    "7. Rename Columns.\n",
    "    - Column names should be all lowercase.\n",
    "    - Column names should not contain spaces (underscores will suffice--this allows for using the `df.column_name` method to access columns in addition to `df['column_name']`).\n",
    "    - Column names should be unique and informative.\n",
    "8. Drop unnecessary rows (if needed).\n",
    "9. Merge dataframes that can be merged.\n",
    "10. Perform any additional cleaning that you feel is necessary.\n",
    "11. Save your cleaned and merged dataframes as csv files."
   ]
  },
  {
   "cell_type": "code",
   "execution_count": 6,
   "metadata": {},
   "outputs": [],
   "source": [
    "act_2019 = pd.read_csv('../data/act_2019.csv')\n",
    "sat_2019 = pd.read_csv('../data/sat_2019.csv')\n",
    "sat_2019_int_major = pd.read_csv('../data/sat_2019_by_intended_college_major.csv')\n",
    "\n",
    "\n",
    "#FOR KFF DATA IF I HAVE TIME\n",
    "#kff_population_data = pd.read_csv('../data/raw_data_kff.csv')"
   ]
  },
  {
   "cell_type": "markdown",
   "metadata": {},
   "source": [
    "1. Display the data: print the first 5 rows of each dataframe to your Jupyter notebook."
   ]
  },
  {
   "cell_type": "code",
   "execution_count": 7,
   "metadata": {},
   "outputs": [
    {
     "data": {
      "text/html": [
       "<div>\n",
       "<style scoped>\n",
       "    .dataframe tbody tr th:only-of-type {\n",
       "        vertical-align: middle;\n",
       "    }\n",
       "\n",
       "    .dataframe tbody tr th {\n",
       "        vertical-align: top;\n",
       "    }\n",
       "\n",
       "    .dataframe thead th {\n",
       "        text-align: right;\n",
       "    }\n",
       "</style>\n",
       "<table border=\"1\" class=\"dataframe\">\n",
       "  <thead>\n",
       "    <tr style=\"text-align: right;\">\n",
       "      <th></th>\n",
       "      <th>State</th>\n",
       "      <th>Participation</th>\n",
       "      <th>Composite</th>\n",
       "    </tr>\n",
       "  </thead>\n",
       "  <tbody>\n",
       "    <tr>\n",
       "      <th>0</th>\n",
       "      <td>Alabama</td>\n",
       "      <td>100%</td>\n",
       "      <td>18.9</td>\n",
       "    </tr>\n",
       "    <tr>\n",
       "      <th>1</th>\n",
       "      <td>Alaska</td>\n",
       "      <td>38%</td>\n",
       "      <td>20.1</td>\n",
       "    </tr>\n",
       "    <tr>\n",
       "      <th>2</th>\n",
       "      <td>Arizona</td>\n",
       "      <td>73%</td>\n",
       "      <td>19.0</td>\n",
       "    </tr>\n",
       "    <tr>\n",
       "      <th>3</th>\n",
       "      <td>Arkansas</td>\n",
       "      <td>100%</td>\n",
       "      <td>19.3</td>\n",
       "    </tr>\n",
       "    <tr>\n",
       "      <th>4</th>\n",
       "      <td>California</td>\n",
       "      <td>23%</td>\n",
       "      <td>22.6</td>\n",
       "    </tr>\n",
       "  </tbody>\n",
       "</table>\n",
       "</div>"
      ],
      "text/plain": [
       "        State Participation  Composite\n",
       "0     Alabama          100%       18.9\n",
       "1      Alaska           38%       20.1\n",
       "2     Arizona           73%       19.0\n",
       "3    Arkansas          100%       19.3\n",
       "4  California           23%       22.6"
      ]
     },
     "execution_count": 7,
     "metadata": {},
     "output_type": "execute_result"
    }
   ],
   "source": [
    "act_2019.head()"
   ]
  },
  {
   "cell_type": "code",
   "execution_count": 8,
   "metadata": {},
   "outputs": [
    {
     "data": {
      "text/html": [
       "<div>\n",
       "<style scoped>\n",
       "    .dataframe tbody tr th:only-of-type {\n",
       "        vertical-align: middle;\n",
       "    }\n",
       "\n",
       "    .dataframe tbody tr th {\n",
       "        vertical-align: top;\n",
       "    }\n",
       "\n",
       "    .dataframe thead th {\n",
       "        text-align: right;\n",
       "    }\n",
       "</style>\n",
       "<table border=\"1\" class=\"dataframe\">\n",
       "  <thead>\n",
       "    <tr style=\"text-align: right;\">\n",
       "      <th></th>\n",
       "      <th>State</th>\n",
       "      <th>Participation Rate</th>\n",
       "      <th>EBRW</th>\n",
       "      <th>Math</th>\n",
       "      <th>Total</th>\n",
       "    </tr>\n",
       "  </thead>\n",
       "  <tbody>\n",
       "    <tr>\n",
       "      <th>0</th>\n",
       "      <td>Alabama</td>\n",
       "      <td>7%</td>\n",
       "      <td>583</td>\n",
       "      <td>560</td>\n",
       "      <td>1143</td>\n",
       "    </tr>\n",
       "    <tr>\n",
       "      <th>1</th>\n",
       "      <td>Alaska</td>\n",
       "      <td>41%</td>\n",
       "      <td>556</td>\n",
       "      <td>541</td>\n",
       "      <td>1097</td>\n",
       "    </tr>\n",
       "    <tr>\n",
       "      <th>2</th>\n",
       "      <td>Arizona</td>\n",
       "      <td>31%</td>\n",
       "      <td>569</td>\n",
       "      <td>565</td>\n",
       "      <td>1134</td>\n",
       "    </tr>\n",
       "    <tr>\n",
       "      <th>3</th>\n",
       "      <td>Arkansas</td>\n",
       "      <td>6%</td>\n",
       "      <td>582</td>\n",
       "      <td>559</td>\n",
       "      <td>1141</td>\n",
       "    </tr>\n",
       "    <tr>\n",
       "      <th>4</th>\n",
       "      <td>California</td>\n",
       "      <td>63%</td>\n",
       "      <td>534</td>\n",
       "      <td>531</td>\n",
       "      <td>1065</td>\n",
       "    </tr>\n",
       "  </tbody>\n",
       "</table>\n",
       "</div>"
      ],
      "text/plain": [
       "        State Participation Rate  EBRW  Math  Total\n",
       "0     Alabama                 7%   583   560   1143\n",
       "1      Alaska                41%   556   541   1097\n",
       "2     Arizona                31%   569   565   1134\n",
       "3    Arkansas                 6%   582   559   1141\n",
       "4  California                63%   534   531   1065"
      ]
     },
     "execution_count": 8,
     "metadata": {},
     "output_type": "execute_result"
    }
   ],
   "source": [
    "sat_2019.head()"
   ]
  },
  {
   "cell_type": "code",
   "execution_count": 9,
   "metadata": {},
   "outputs": [
    {
     "data": {
      "text/html": [
       "<div>\n",
       "<style scoped>\n",
       "    .dataframe tbody tr th:only-of-type {\n",
       "        vertical-align: middle;\n",
       "    }\n",
       "\n",
       "    .dataframe tbody tr th {\n",
       "        vertical-align: top;\n",
       "    }\n",
       "\n",
       "    .dataframe thead th {\n",
       "        text-align: right;\n",
       "    }\n",
       "</style>\n",
       "<table border=\"1\" class=\"dataframe\">\n",
       "  <thead>\n",
       "    <tr style=\"text-align: right;\">\n",
       "      <th></th>\n",
       "      <th>IntendedCollegeMajor</th>\n",
       "      <th>TestTakers</th>\n",
       "      <th>Percent</th>\n",
       "      <th>Total</th>\n",
       "      <th>ReadingWriting</th>\n",
       "      <th>Math</th>\n",
       "    </tr>\n",
       "  </thead>\n",
       "  <tbody>\n",
       "    <tr>\n",
       "      <th>0</th>\n",
       "      <td>Agriculture, AgricultureOperations, and Relate...</td>\n",
       "      <td>24,913</td>\n",
       "      <td>1%</td>\n",
       "      <td>977</td>\n",
       "      <td>496</td>\n",
       "      <td>481</td>\n",
       "    </tr>\n",
       "    <tr>\n",
       "      <th>1</th>\n",
       "      <td>Architecture and Related Services</td>\n",
       "      <td>28,988</td>\n",
       "      <td>2%</td>\n",
       "      <td>1047</td>\n",
       "      <td>520</td>\n",
       "      <td>527</td>\n",
       "    </tr>\n",
       "    <tr>\n",
       "      <th>2</th>\n",
       "      <td>Area, Ethnic, Cultural, and Gender Studies</td>\n",
       "      <td>2,629</td>\n",
       "      <td>0%</td>\n",
       "      <td>1040</td>\n",
       "      <td>536</td>\n",
       "      <td>504</td>\n",
       "    </tr>\n",
       "    <tr>\n",
       "      <th>3</th>\n",
       "      <td>Biological and Biomedical Sciences</td>\n",
       "      <td>155,834</td>\n",
       "      <td>8%</td>\n",
       "      <td>1139</td>\n",
       "      <td>572</td>\n",
       "      <td>566</td>\n",
       "    </tr>\n",
       "    <tr>\n",
       "      <th>4</th>\n",
       "      <td>Business, Management, Marketing, and Related S...</td>\n",
       "      <td>221,523</td>\n",
       "      <td>12%</td>\n",
       "      <td>1072</td>\n",
       "      <td>534</td>\n",
       "      <td>537</td>\n",
       "    </tr>\n",
       "  </tbody>\n",
       "</table>\n",
       "</div>"
      ],
      "text/plain": [
       "                                IntendedCollegeMajor TestTakers Percent  \\\n",
       "0  Agriculture, AgricultureOperations, and Relate...     24,913      1%   \n",
       "1                  Architecture and Related Services     28,988      2%   \n",
       "2         Area, Ethnic, Cultural, and Gender Studies      2,629      0%   \n",
       "3                 Biological and Biomedical Sciences    155,834      8%   \n",
       "4  Business, Management, Marketing, and Related S...    221,523     12%   \n",
       "\n",
       "   Total  ReadingWriting  Math  \n",
       "0    977             496   481  \n",
       "1   1047             520   527  \n",
       "2   1040             536   504  \n",
       "3   1139             572   566  \n",
       "4   1072             534   537  "
      ]
     },
     "execution_count": 9,
     "metadata": {},
     "output_type": "execute_result"
    }
   ],
   "source": [
    "sat_2019_int_major.head()"
   ]
  },
  {
   "cell_type": "markdown",
   "metadata": {},
   "source": [
    "2. Check for missing values."
   ]
  },
  {
   "cell_type": "code",
   "execution_count": 10,
   "metadata": {},
   "outputs": [
    {
     "data": {
      "text/plain": [
       "State            0\n",
       "Participation    0\n",
       "Composite        0\n",
       "dtype: int64"
      ]
     },
     "execution_count": 10,
     "metadata": {},
     "output_type": "execute_result"
    }
   ],
   "source": [
    "act_2019.isna().sum().sort_values(ascending = False)"
   ]
  },
  {
   "cell_type": "code",
   "execution_count": 11,
   "metadata": {},
   "outputs": [
    {
     "data": {
      "text/plain": [
       "State                 0\n",
       "Participation Rate    0\n",
       "EBRW                  0\n",
       "Math                  0\n",
       "Total                 0\n",
       "dtype: int64"
      ]
     },
     "execution_count": 11,
     "metadata": {},
     "output_type": "execute_result"
    }
   ],
   "source": [
    "sat_2019.isna().sum().sort_values(ascending = False)"
   ]
  },
  {
   "cell_type": "markdown",
   "metadata": {},
   "source": [
    "Note: the SAT is administer in Puerto Rico and the Virgin Islands, but the ACT is not. Additionally, the ACT also has a row for the Nation, while the SAT does not. "
   ]
  },
  {
   "cell_type": "code",
   "execution_count": 12,
   "metadata": {},
   "outputs": [
    {
     "data": {
      "text/plain": [
       "IntendedCollegeMajor    0\n",
       "TestTakers              0\n",
       "Percent                 0\n",
       "Total                   0\n",
       "ReadingWriting          0\n",
       "Math                    0\n",
       "dtype: int64"
      ]
     },
     "execution_count": 12,
     "metadata": {},
     "output_type": "execute_result"
    }
   ],
   "source": [
    "sat_2019_int_major.isna().sum().sort_values(ascending = False)"
   ]
  },
  {
   "cell_type": "markdown",
   "metadata": {},
   "source": [
    "3. Check for any obvious issues with the observations (keep in mind the minimum & maximum possible values for each test/subtest)."
   ]
  },
  {
   "cell_type": "code",
   "execution_count": 13,
   "metadata": {},
   "outputs": [
    {
     "data": {
      "text/html": [
       "<div>\n",
       "<style scoped>\n",
       "    .dataframe tbody tr th:only-of-type {\n",
       "        vertical-align: middle;\n",
       "    }\n",
       "\n",
       "    .dataframe tbody tr th {\n",
       "        vertical-align: top;\n",
       "    }\n",
       "\n",
       "    .dataframe thead th {\n",
       "        text-align: right;\n",
       "    }\n",
       "</style>\n",
       "<table border=\"1\" class=\"dataframe\">\n",
       "  <thead>\n",
       "    <tr style=\"text-align: right;\">\n",
       "      <th></th>\n",
       "      <th>Composite</th>\n",
       "    </tr>\n",
       "  </thead>\n",
       "  <tbody>\n",
       "    <tr>\n",
       "      <th>count</th>\n",
       "      <td>52.00</td>\n",
       "    </tr>\n",
       "    <tr>\n",
       "      <th>mean</th>\n",
       "      <td>21.45</td>\n",
       "    </tr>\n",
       "    <tr>\n",
       "      <th>std</th>\n",
       "      <td>2.18</td>\n",
       "    </tr>\n",
       "    <tr>\n",
       "      <th>min</th>\n",
       "      <td>17.90</td>\n",
       "    </tr>\n",
       "    <tr>\n",
       "      <th>25%</th>\n",
       "      <td>19.80</td>\n",
       "    </tr>\n",
       "    <tr>\n",
       "      <th>50%</th>\n",
       "      <td>20.95</td>\n",
       "    </tr>\n",
       "    <tr>\n",
       "      <th>75%</th>\n",
       "      <td>23.65</td>\n",
       "    </tr>\n",
       "    <tr>\n",
       "      <th>max</th>\n",
       "      <td>25.50</td>\n",
       "    </tr>\n",
       "  </tbody>\n",
       "</table>\n",
       "</div>"
      ],
      "text/plain": [
       "       Composite\n",
       "count      52.00\n",
       "mean       21.45\n",
       "std         2.18\n",
       "min        17.90\n",
       "25%        19.80\n",
       "50%        20.95\n",
       "75%        23.65\n",
       "max        25.50"
      ]
     },
     "execution_count": 13,
     "metadata": {},
     "output_type": "execute_result"
    }
   ],
   "source": [
    "act_2019.describe().round(2)"
   ]
  },
  {
   "cell_type": "markdown",
   "metadata": {},
   "source": [
    "- All statistics seem within acceptable parameters, the range for an ACT score is 1 - 36 and none of the averages would've been close to the max. "
   ]
  },
  {
   "cell_type": "code",
   "execution_count": 14,
   "metadata": {},
   "outputs": [
    {
     "data": {
      "text/html": [
       "<div>\n",
       "<style scoped>\n",
       "    .dataframe tbody tr th:only-of-type {\n",
       "        vertical-align: middle;\n",
       "    }\n",
       "\n",
       "    .dataframe tbody tr th {\n",
       "        vertical-align: top;\n",
       "    }\n",
       "\n",
       "    .dataframe thead th {\n",
       "        text-align: right;\n",
       "    }\n",
       "</style>\n",
       "<table border=\"1\" class=\"dataframe\">\n",
       "  <thead>\n",
       "    <tr style=\"text-align: right;\">\n",
       "      <th></th>\n",
       "      <th>EBRW</th>\n",
       "      <th>Math</th>\n",
       "      <th>Total</th>\n",
       "    </tr>\n",
       "  </thead>\n",
       "  <tbody>\n",
       "    <tr>\n",
       "      <th>count</th>\n",
       "      <td>53.00</td>\n",
       "      <td>53.00</td>\n",
       "      <td>53.00</td>\n",
       "    </tr>\n",
       "    <tr>\n",
       "      <th>mean</th>\n",
       "      <td>558.00</td>\n",
       "      <td>548.47</td>\n",
       "      <td>1106.53</td>\n",
       "    </tr>\n",
       "    <tr>\n",
       "      <th>std</th>\n",
       "      <td>47.55</td>\n",
       "      <td>53.79</td>\n",
       "      <td>100.99</td>\n",
       "    </tr>\n",
       "    <tr>\n",
       "      <th>min</th>\n",
       "      <td>483.00</td>\n",
       "      <td>445.00</td>\n",
       "      <td>935.00</td>\n",
       "    </tr>\n",
       "    <tr>\n",
       "      <th>25%</th>\n",
       "      <td>518.00</td>\n",
       "      <td>506.00</td>\n",
       "      <td>1024.00</td>\n",
       "    </tr>\n",
       "    <tr>\n",
       "      <th>50%</th>\n",
       "      <td>550.00</td>\n",
       "      <td>545.00</td>\n",
       "      <td>1097.00</td>\n",
       "    </tr>\n",
       "    <tr>\n",
       "      <th>75%</th>\n",
       "      <td>610.00</td>\n",
       "      <td>596.00</td>\n",
       "      <td>1200.00</td>\n",
       "    </tr>\n",
       "    <tr>\n",
       "      <th>max</th>\n",
       "      <td>636.00</td>\n",
       "      <td>648.00</td>\n",
       "      <td>1284.00</td>\n",
       "    </tr>\n",
       "  </tbody>\n",
       "</table>\n",
       "</div>"
      ],
      "text/plain": [
       "         EBRW    Math    Total\n",
       "count   53.00   53.00    53.00\n",
       "mean   558.00  548.47  1106.53\n",
       "std     47.55   53.79   100.99\n",
       "min    483.00  445.00   935.00\n",
       "25%    518.00  506.00  1024.00\n",
       "50%    550.00  545.00  1097.00\n",
       "75%    610.00  596.00  1200.00\n",
       "max    636.00  648.00  1284.00"
      ]
     },
     "execution_count": 14,
     "metadata": {},
     "output_type": "execute_result"
    }
   ],
   "source": [
    "sat_2019.describe().round(2)"
   ]
  },
  {
   "cell_type": "markdown",
   "metadata": {},
   "source": [
    "- All statistics seem within acceptable parameters, the range for each subject test is 200 - 800, max possible of 1600 total."
   ]
  },
  {
   "cell_type": "code",
   "execution_count": 15,
   "metadata": {},
   "outputs": [
    {
     "data": {
      "text/html": [
       "<div>\n",
       "<style scoped>\n",
       "    .dataframe tbody tr th:only-of-type {\n",
       "        vertical-align: middle;\n",
       "    }\n",
       "\n",
       "    .dataframe tbody tr th {\n",
       "        vertical-align: top;\n",
       "    }\n",
       "\n",
       "    .dataframe thead th {\n",
       "        text-align: right;\n",
       "    }\n",
       "</style>\n",
       "<table border=\"1\" class=\"dataframe\">\n",
       "  <thead>\n",
       "    <tr style=\"text-align: right;\">\n",
       "      <th></th>\n",
       "      <th>Total</th>\n",
       "      <th>ReadingWriting</th>\n",
       "      <th>Math</th>\n",
       "    </tr>\n",
       "  </thead>\n",
       "  <tbody>\n",
       "    <tr>\n",
       "      <th>count</th>\n",
       "      <td>38.00</td>\n",
       "      <td>38.00</td>\n",
       "      <td>38.00</td>\n",
       "    </tr>\n",
       "    <tr>\n",
       "      <th>mean</th>\n",
       "      <td>1058.50</td>\n",
       "      <td>535.50</td>\n",
       "      <td>523.00</td>\n",
       "    </tr>\n",
       "    <tr>\n",
       "      <th>std</th>\n",
       "      <td>82.45</td>\n",
       "      <td>41.36</td>\n",
       "      <td>43.39</td>\n",
       "    </tr>\n",
       "    <tr>\n",
       "      <th>min</th>\n",
       "      <td>916.00</td>\n",
       "      <td>458.00</td>\n",
       "      <td>456.00</td>\n",
       "    </tr>\n",
       "    <tr>\n",
       "      <th>25%</th>\n",
       "      <td>988.25</td>\n",
       "      <td>501.25</td>\n",
       "      <td>486.50</td>\n",
       "    </tr>\n",
       "    <tr>\n",
       "      <th>50%</th>\n",
       "      <td>1066.50</td>\n",
       "      <td>537.00</td>\n",
       "      <td>527.00</td>\n",
       "    </tr>\n",
       "    <tr>\n",
       "      <th>75%</th>\n",
       "      <td>1115.50</td>\n",
       "      <td>569.75</td>\n",
       "      <td>542.25</td>\n",
       "    </tr>\n",
       "    <tr>\n",
       "      <th>max</th>\n",
       "      <td>1242.00</td>\n",
       "      <td>597.00</td>\n",
       "      <td>646.00</td>\n",
       "    </tr>\n",
       "  </tbody>\n",
       "</table>\n",
       "</div>"
      ],
      "text/plain": [
       "         Total  ReadingWriting    Math\n",
       "count    38.00           38.00   38.00\n",
       "mean   1058.50          535.50  523.00\n",
       "std      82.45           41.36   43.39\n",
       "min     916.00          458.00  456.00\n",
       "25%     988.25          501.25  486.50\n",
       "50%    1066.50          537.00  527.00\n",
       "75%    1115.50          569.75  542.25\n",
       "max    1242.00          597.00  646.00"
      ]
     },
     "execution_count": 15,
     "metadata": {},
     "output_type": "execute_result"
    }
   ],
   "source": [
    "sat_2019_int_major.describe().round(2)"
   ]
  },
  {
   "cell_type": "markdown",
   "metadata": {},
   "source": [
    "- All statistics seem within acceptable parameters"
   ]
  },
  {
   "cell_type": "markdown",
   "metadata": {},
   "source": [
    "4. Fix any errors you identified in steps 2-3."
   ]
  },
  {
   "cell_type": "code",
   "execution_count": 16,
   "metadata": {},
   "outputs": [],
   "source": [
    "#Although the entries for 'states' PR. and VI. are not null in sat_2019.csv, they are a symbol:\n",
    "sat_2019[sat_2019['Participation Rate'] == '—']\n",
    "\n",
    "#the symbol may cause issues later and there's no PR. or VI. in act_2019.csv\n",
    "#so I'm going to drop these rows them.\n",
    "\n",
    "#Originally to accomplish this I referred to https://www.shanelynn.ie/pandas-drop-delete-dataframe-rows-columns/\n",
    "sat_2019 = sat_2019.drop(sat_2019.index[[39, 47]])\n",
    "\n",
    "#I'm also going to drop 'National' from act_2019.csv:\n",
    "act_2019 = act_2019.drop(act_2019.index[[51]])"
   ]
  },
  {
   "cell_type": "markdown",
   "metadata": {},
   "source": [
    "5. Display the data types of each feature."
   ]
  },
  {
   "cell_type": "code",
   "execution_count": 17,
   "metadata": {},
   "outputs": [
    {
     "name": "stdout",
     "output_type": "stream",
     "text": [
      "<class 'pandas.core.frame.DataFrame'>\n",
      "Int64Index: 51 entries, 0 to 50\n",
      "Data columns (total 3 columns):\n",
      " #   Column         Non-Null Count  Dtype  \n",
      "---  ------         --------------  -----  \n",
      " 0   State          51 non-null     object \n",
      " 1   Participation  51 non-null     object \n",
      " 2   Composite      51 non-null     float64\n",
      "dtypes: float64(1), object(2)\n",
      "memory usage: 1.6+ KB\n"
     ]
    }
   ],
   "source": [
    "act_2019.info()\n",
    "#I'll need to use str_to_perc(numperc) to change participation to dtype flt"
   ]
  },
  {
   "cell_type": "code",
   "execution_count": 18,
   "metadata": {},
   "outputs": [
    {
     "name": "stdout",
     "output_type": "stream",
     "text": [
      "<class 'pandas.core.frame.DataFrame'>\n",
      "Int64Index: 51 entries, 0 to 52\n",
      "Data columns (total 5 columns):\n",
      " #   Column              Non-Null Count  Dtype \n",
      "---  ------              --------------  ----- \n",
      " 0   State               51 non-null     object\n",
      " 1   Participation Rate  51 non-null     object\n",
      " 2   EBRW                51 non-null     int64 \n",
      " 3   Math                51 non-null     int64 \n",
      " 4   Total               51 non-null     int64 \n",
      "dtypes: int64(3), object(2)\n",
      "memory usage: 2.4+ KB\n"
     ]
    }
   ],
   "source": [
    "sat_2019.info()\n",
    "#I'll need to use str_to_perc(numperc) to change participation dtype to flt"
   ]
  },
  {
   "cell_type": "code",
   "execution_count": 19,
   "metadata": {},
   "outputs": [
    {
     "name": "stdout",
     "output_type": "stream",
     "text": [
      "<class 'pandas.core.frame.DataFrame'>\n",
      "RangeIndex: 38 entries, 0 to 37\n",
      "Data columns (total 6 columns):\n",
      " #   Column                Non-Null Count  Dtype \n",
      "---  ------                --------------  ----- \n",
      " 0   IntendedCollegeMajor  38 non-null     object\n",
      " 1   TestTakers            38 non-null     object\n",
      " 2   Percent               38 non-null     object\n",
      " 3   Total                 38 non-null     int64 \n",
      " 4   ReadingWriting        38 non-null     int64 \n",
      " 5   Math                  38 non-null     int64 \n",
      "dtypes: int64(3), object(3)\n",
      "memory usage: 1.9+ KB\n"
     ]
    }
   ],
   "source": [
    "sat_2019_int_major.info()\n",
    "#I'll need to use obj_to_flt(number) to change testtakers dtype to flt\n",
    "#I'll need to use str_to_perc(numperc) to change percent dtype to flt"
   ]
  },
  {
   "cell_type": "markdown",
   "metadata": {},
   "source": [
    "6. Fix any incorrect data types found in step 5."
   ]
  },
  {
   "cell_type": "code",
   "execution_count": 20,
   "metadata": {},
   "outputs": [],
   "source": [
    "#DONT RERUN THIS CELL MULTIPLE TIMES\n",
    "#DONT RERUN THIS CELL MULTIPLE TIMES\n",
    "#DONT RERUN THIS CELL MULTIPLE TIMES\n",
    "\n",
    "#cleaning the act_2019 data\n",
    "act_2019['Participation'] = act_2019['Participation'].apply(str_to_perc)\n",
    "\n",
    "#cleaning the sat_2019 data\n",
    "sat_2019['Participation Rate'] = sat_2019['Participation Rate'].apply(str_to_perc)\n",
    "\n",
    "#cleaning the sat_2019_int_major data\n",
    "sat_2019_int_major['TestTakers'] = sat_2019_int_major['TestTakers'].apply(obj_to_flt)\n",
    "sat_2019_int_major['Percent'] = sat_2019_int_major['Percent'].apply(str_to_perc)"
   ]
  },
  {
   "cell_type": "markdown",
   "metadata": {},
   "source": [
    "7. Rename Columns.\n",
    "    - Column names should be all lowercase.\n",
    "    - Column names should not contain spaces (underscores will suffice--this allows for using the df.column_name method to access columns in addition to df['column_name']).\n",
    "    - Column names should be unique and informative."
   ]
  },
  {
   "cell_type": "code",
   "execution_count": 21,
   "metadata": {},
   "outputs": [],
   "source": [
    "#for ACT_2019 data\n",
    "act_2019.rename(columns={\n",
    "    'State' : 'state',\n",
    "    'Participation' : 'act_participation_rate',\n",
    "    'Composite' : 'act_composite_score'}, inplace=True)\n",
    "\n",
    "#for SAT_2019 data\n",
    "sat_2019.rename(columns={\n",
    "    'State' : 'state',\n",
    "    'Participation Rate' : 'sat_participation_rate',\n",
    "    'EBRW' : 'sat_reading_score',\n",
    "    'Math' : 'sat_math_score',\n",
    "    'Total' : 'sat_total'}, inplace=True)\n",
    "\n",
    "#for SAT_2019_intended_major data\n",
    "sat_2019_int_major.rename(columns={\n",
    "    'IntendedCollegeMajor' : 'int_college_major',\n",
    "    'TestTakers' : 'number_test_takers',\n",
    "    'Percent' : 'percent_total_test_takers',\n",
    "    'Total' : 'sat_total',\n",
    "    'ReadingWriting' : 'reading_score',\n",
    "    'Math' : 'math_score'}, inplace=True)"
   ]
  },
  {
   "cell_type": "markdown",
   "metadata": {},
   "source": [
    "8. Drop unnecessary rows (if needed).\n",
    "    - I completed this step in Question 4. "
   ]
  },
  {
   "cell_type": "markdown",
   "metadata": {},
   "source": [
    "9. Merge dataframes that can be merged."
   ]
  },
  {
   "cell_type": "code",
   "execution_count": 22,
   "metadata": {},
   "outputs": [],
   "source": [
    "#I will merge ACT and SAT dfs and keep intended major df separate\n",
    "\n",
    "sat_act_2019 = pd.merge(act_2019, sat_2019, how='left')"
   ]
  },
  {
   "cell_type": "code",
   "execution_count": 23,
   "metadata": {},
   "outputs": [
    {
     "data": {
      "text/html": [
       "<div>\n",
       "<style scoped>\n",
       "    .dataframe tbody tr th:only-of-type {\n",
       "        vertical-align: middle;\n",
       "    }\n",
       "\n",
       "    .dataframe tbody tr th {\n",
       "        vertical-align: top;\n",
       "    }\n",
       "\n",
       "    .dataframe thead th {\n",
       "        text-align: right;\n",
       "    }\n",
       "</style>\n",
       "<table border=\"1\" class=\"dataframe\">\n",
       "  <thead>\n",
       "    <tr style=\"text-align: right;\">\n",
       "      <th></th>\n",
       "      <th>state</th>\n",
       "      <th>act_participation_rate</th>\n",
       "      <th>act_composite_score</th>\n",
       "      <th>sat_participation_rate</th>\n",
       "      <th>sat_reading_score</th>\n",
       "      <th>sat_math_score</th>\n",
       "      <th>sat_total</th>\n",
       "    </tr>\n",
       "  </thead>\n",
       "  <tbody>\n",
       "    <tr>\n",
       "      <th>0</th>\n",
       "      <td>Alabama</td>\n",
       "      <td>1.00</td>\n",
       "      <td>18.9</td>\n",
       "      <td>0.07</td>\n",
       "      <td>583</td>\n",
       "      <td>560</td>\n",
       "      <td>1143</td>\n",
       "    </tr>\n",
       "    <tr>\n",
       "      <th>1</th>\n",
       "      <td>Alaska</td>\n",
       "      <td>0.38</td>\n",
       "      <td>20.1</td>\n",
       "      <td>0.41</td>\n",
       "      <td>556</td>\n",
       "      <td>541</td>\n",
       "      <td>1097</td>\n",
       "    </tr>\n",
       "    <tr>\n",
       "      <th>2</th>\n",
       "      <td>Arizona</td>\n",
       "      <td>0.73</td>\n",
       "      <td>19.0</td>\n",
       "      <td>0.31</td>\n",
       "      <td>569</td>\n",
       "      <td>565</td>\n",
       "      <td>1134</td>\n",
       "    </tr>\n",
       "    <tr>\n",
       "      <th>3</th>\n",
       "      <td>Arkansas</td>\n",
       "      <td>1.00</td>\n",
       "      <td>19.3</td>\n",
       "      <td>0.06</td>\n",
       "      <td>582</td>\n",
       "      <td>559</td>\n",
       "      <td>1141</td>\n",
       "    </tr>\n",
       "    <tr>\n",
       "      <th>4</th>\n",
       "      <td>California</td>\n",
       "      <td>0.23</td>\n",
       "      <td>22.6</td>\n",
       "      <td>0.63</td>\n",
       "      <td>534</td>\n",
       "      <td>531</td>\n",
       "      <td>1065</td>\n",
       "    </tr>\n",
       "  </tbody>\n",
       "</table>\n",
       "</div>"
      ],
      "text/plain": [
       "        state  act_participation_rate  act_composite_score  \\\n",
       "0     Alabama                    1.00                 18.9   \n",
       "1      Alaska                    0.38                 20.1   \n",
       "2     Arizona                    0.73                 19.0   \n",
       "3    Arkansas                    1.00                 19.3   \n",
       "4  California                    0.23                 22.6   \n",
       "\n",
       "   sat_participation_rate  sat_reading_score  sat_math_score  sat_total  \n",
       "0                    0.07                583             560       1143  \n",
       "1                    0.41                556             541       1097  \n",
       "2                    0.31                569             565       1134  \n",
       "3                    0.06                582             559       1141  \n",
       "4                    0.63                534             531       1065  "
      ]
     },
     "execution_count": 23,
     "metadata": {},
     "output_type": "execute_result"
    }
   ],
   "source": [
    "sat_act_2019.head()"
   ]
  },
  {
   "cell_type": "markdown",
   "metadata": {},
   "source": [
    "10. Perform any additional cleaning that you feel is necessary."
   ]
  },
  {
   "cell_type": "markdown",
   "metadata": {},
   "source": [
    "Upon completing steps later on in the project I decided it was best to create another .csv file, separate from sat_2019_int_major.csv, that was composed only of the scores for STEM Majors."
   ]
  },
  {
   "cell_type": "code",
   "execution_count": 24,
   "metadata": {
    "tags": []
   },
   "outputs": [
    {
     "data": {
      "text/html": [
       "<div>\n",
       "<style scoped>\n",
       "    .dataframe tbody tr th:only-of-type {\n",
       "        vertical-align: middle;\n",
       "    }\n",
       "\n",
       "    .dataframe tbody tr th {\n",
       "        vertical-align: top;\n",
       "    }\n",
       "\n",
       "    .dataframe thead th {\n",
       "        text-align: right;\n",
       "    }\n",
       "</style>\n",
       "<table border=\"1\" class=\"dataframe\">\n",
       "  <thead>\n",
       "    <tr style=\"text-align: right;\">\n",
       "      <th></th>\n",
       "      <th>int_college_major</th>\n",
       "      <th>number_test_takers</th>\n",
       "      <th>percent_total_test_takers</th>\n",
       "      <th>sat_total</th>\n",
       "      <th>reading_score</th>\n",
       "      <th>math_score</th>\n",
       "    </tr>\n",
       "  </thead>\n",
       "  <tbody>\n",
       "    <tr>\n",
       "      <th>0</th>\n",
       "      <td>Agriculture, AgricultureOperations, and Relate...</td>\n",
       "      <td>24913.0</td>\n",
       "      <td>0.01</td>\n",
       "      <td>977</td>\n",
       "      <td>496</td>\n",
       "      <td>481</td>\n",
       "    </tr>\n",
       "    <tr>\n",
       "      <th>3</th>\n",
       "      <td>Biological and Biomedical Sciences</td>\n",
       "      <td>155834.0</td>\n",
       "      <td>0.08</td>\n",
       "      <td>1139</td>\n",
       "      <td>572</td>\n",
       "      <td>566</td>\n",
       "    </tr>\n",
       "    <tr>\n",
       "      <th>6</th>\n",
       "      <td>Computer and Information Sciences and Support ...</td>\n",
       "      <td>79736.0</td>\n",
       "      <td>0.04</td>\n",
       "      <td>1156</td>\n",
       "      <td>571</td>\n",
       "      <td>585</td>\n",
       "    </tr>\n",
       "    <tr>\n",
       "      <th>9</th>\n",
       "      <td>Engineering</td>\n",
       "      <td>194127.0</td>\n",
       "      <td>0.11</td>\n",
       "      <td>1139</td>\n",
       "      <td>559</td>\n",
       "      <td>581</td>\n",
       "    </tr>\n",
       "    <tr>\n",
       "      <th>10</th>\n",
       "      <td>Engineering Technologies/Technicians</td>\n",
       "      <td>33595.0</td>\n",
       "      <td>0.02</td>\n",
       "      <td>1041</td>\n",
       "      <td>512</td>\n",
       "      <td>528</td>\n",
       "    </tr>\n",
       "    <tr>\n",
       "      <th>14</th>\n",
       "      <td>Health Professions and related Clinical Sciences</td>\n",
       "      <td>331026.0</td>\n",
       "      <td>0.18</td>\n",
       "      <td>1048</td>\n",
       "      <td>529</td>\n",
       "      <td>518</td>\n",
       "    </tr>\n",
       "    <tr>\n",
       "      <th>19</th>\n",
       "      <td>Mathematics and Statistics</td>\n",
       "      <td>16508.0</td>\n",
       "      <td>0.01</td>\n",
       "      <td>1242</td>\n",
       "      <td>597</td>\n",
       "      <td>646</td>\n",
       "    </tr>\n",
       "    <tr>\n",
       "      <th>23</th>\n",
       "      <td>Natural resources and Conservation</td>\n",
       "      <td>10147.0</td>\n",
       "      <td>0.01</td>\n",
       "      <td>1104</td>\n",
       "      <td>562</td>\n",
       "      <td>543</td>\n",
       "    </tr>\n",
       "    <tr>\n",
       "      <th>27</th>\n",
       "      <td>Physical Sciences</td>\n",
       "      <td>26318.0</td>\n",
       "      <td>0.01</td>\n",
       "      <td>1203</td>\n",
       "      <td>597</td>\n",
       "      <td>606</td>\n",
       "    </tr>\n",
       "  </tbody>\n",
       "</table>\n",
       "</div>"
      ],
      "text/plain": [
       "                                    int_college_major  number_test_takers  \\\n",
       "0   Agriculture, AgricultureOperations, and Relate...             24913.0   \n",
       "3                  Biological and Biomedical Sciences            155834.0   \n",
       "6   Computer and Information Sciences and Support ...             79736.0   \n",
       "9                                         Engineering            194127.0   \n",
       "10               Engineering Technologies/Technicians             33595.0   \n",
       "14   Health Professions and related Clinical Sciences            331026.0   \n",
       "19                         Mathematics and Statistics             16508.0   \n",
       "23                 Natural resources and Conservation             10147.0   \n",
       "27                                  Physical Sciences             26318.0   \n",
       "\n",
       "    percent_total_test_takers  sat_total  reading_score  math_score  \n",
       "0                        0.01        977            496         481  \n",
       "3                        0.08       1139            572         566  \n",
       "6                        0.04       1156            571         585  \n",
       "9                        0.11       1139            559         581  \n",
       "10                       0.02       1041            512         528  \n",
       "14                       0.18       1048            529         518  \n",
       "19                       0.01       1242            597         646  \n",
       "23                       0.01       1104            562         543  \n",
       "27                       0.01       1203            597         606  "
      ]
     },
     "execution_count": 24,
     "metadata": {},
     "output_type": "execute_result"
    }
   ],
   "source": [
    "stem_majors = ['Agriculture, AgricultureOperations, and Related Sciences', \n",
    "               'Biological and Biomedical Sciences', 'Computer and Information Sciences and Support Services', \n",
    "               'Engineering', 'Engineering Technologies/Technicians', \n",
    "               'Health Professions and related Clinical Sciences', \n",
    "               'Mathematics and Statistics', \n",
    "               'Natural resources and Conservation', \n",
    "               'Physical Sciences']\n",
    "\n",
    "#reviewed https://stackoverflow.com/questions/17071871/how-do-i-select-rows-from-a-dataframe-based-on-column-values for\n",
    "#help with .loc:\n",
    "\n",
    "int_major_stem = sat_2019_int_major.loc[sat_2019_int_major['int_college_major'].isin(stem_majors)]\n",
    "int_major_stem"
   ]
  },
  {
   "cell_type": "markdown",
   "metadata": {},
   "source": [
    "11. Save your cleaned and merged dataframes as csv files."
   ]
  },
  {
   "cell_type": "code",
   "execution_count": 25,
   "metadata": {},
   "outputs": [],
   "source": [
    "#https://pandas.pydata.org/docs/reference/api/pandas.DataFrame.to_csv.html\n",
    "#https://www.geeksforgeeks.org/saving-a-pandas-dataframe-as-a-csv/\n",
    "\n",
    "sat_act_2019.to_csv('../data/sat_act_2019.csv',\n",
    "                    index = False)\n",
    "\n",
    "int_major_stem.to_csv('../data/int_major_stem.csv',\n",
    "                      index = False)"
   ]
  },
  {
   "cell_type": "markdown",
   "metadata": {},
   "source": [
    "### Data Dictionary\n",
    "\n",
    "Now that we've fixed our data, and given it appropriate names, let's create a [data dictionary](http://library.ucmerced.edu/node/10249). \n",
    "\n",
    "A data dictionary provides a quick overview of features/variables/columns, alongside data types and descriptions. The more descriptive you can be, the more useful this document is.\n",
    "\n",
    "Example of a Fictional Data Dictionary Entry: \n",
    "\n",
    "|Feature|Type|Dataset|Description|\n",
    "|---|---|---|---|\n",
    "|**county_pop**|*integer*|2010 census|The population of the county (units in thousands, where 2.5 represents 2500 people).| \n",
    "|**per_poverty**|*float*|2010 census|The percent of the county over the age of 18 living below the 200% of official US poverty rate (units percent to two decimal places 98.10 means 98.1%)|\n",
    "\n",
    "[Here's a quick link to a short guide for formatting markdown in Jupyter notebooks](https://jupyter-notebook.readthedocs.io/en/stable/examples/Notebook/Working%20With%20Markdown%20Cells.html).\n",
    "\n",
    "Provided is the skeleton for formatting a markdown table, with columns headers that will help you create a data dictionary to quickly summarize your data, as well as some examples. **This would be a great thing to copy and paste into your custom README for this project.**\n",
    "\n",
    "*Note*: if you are unsure of what a feature is, check the source of the data! This can be found in the README."
   ]
  },
  {
   "cell_type": "markdown",
   "metadata": {},
   "source": [
    "|Feature|Type|Dataset|Description|\n",
    "|---|---|---|---|\n",
    "|state|*object*| sat_act_2019 |The state in which the standardized test was taken| \n",
    "|ACT_participation_perc|*float*|sat_act_2019|The percentage of students whom participated in the ACT| \n",
    "|ACT_composite_score|*float*|sat_act_2019|The average ACT composite score| \n",
    "|SAT_participation_perc|*float*|sat_act_2019|The percentage of students who participated in the SAT| \n",
    "|SAT_evidence_based_reading_score|*int*|sat_act_2019|The average SAT Evidence Based Reading and Writing (EBRW) score| \n",
    "|SAT_math_score|*int*|sat_act_2019|The average SAT Math score| \n",
    "|SAT_total|*int*|sat_act_2019|The average SAT total score| \n",
    "\n",
    "|Feature|Type|Dataset|Description|\n",
    "|---|---|---|---|\n",
    "|int_college_major|*object*|sat_2019_int_major|The student's intended college major| \n",
    "|number_test_takers|*object*|sat_2019_int_major|The number of students who took the SAT| \n",
    "|percent_total_test_takers|*float*|sat_2019_int_major|The percent of students for each intended college major| \n",
    "|sat_total|*int*|sat_2019_int_major|The average total SAT score| \n",
    "|reading_score|*int*|sat_2019_int_major|The average SAT EBRW score| \n",
    "|math_score|*int*|sat_2019_int_major|The average SAT Math score| \n",
    "\n",
    "|Feature|Type|Dataset|Description|\n",
    "|---|---|---|---|\n",
    "|int_college_major|*object*|int_major_stem|A student's intended college major (STEM majors only)| \n",
    "|number_test_takers|*float*|int_major_stem|The number of students who took the SAT (STEM majors only)| \n",
    "|percent_total_test_takers|*float*|int_major_stem|The percent of students for each intended college major (STEM majors only)|\n",
    "|sat_total|*int*|int_major_stem|The average total SAT score|\n",
    "|reading_score|*int*|int_major_stem|The average SAT EBRW score|\n",
    "|math_score|*int*|int_major_stem|The average SAT Math score|"
   ]
  },
  {
   "cell_type": "markdown",
   "metadata": {},
   "source": [
    "## Exploratory Data Analysis\n",
    "\n",
    "Complete the following steps to explore your data. You are welcome to do more EDA than the steps outlined here as you feel necessary:\n",
    "1. Summary Statistics.\n",
    "2. Use a **dictionary comprehension** to apply the standard deviation function you create in part 1 to each numeric column in the dataframe.  **No loops**.\n",
    "    - Assign the output to variable `sd` as a dictionary where: \n",
    "        - Each column name is now a key \n",
    "        - That standard deviation of the column is the value \n",
    "        - *Example Output :* `{'ACT_Math': 120, 'ACT_Reading': 120, ...}`\n",
    "3. Investigate trends in the data.\n",
    "    - Using sorting and/or masking (along with the `.head()` method to avoid printing our entire dataframe), consider questions relevant to your problem statement. Some examples are provided below (but feel free to change these questions for your specific problem):\n",
    "        - Which states have the highest and lowest participation rates for the 2017, 2019, or 2019 SAT and ACT?\n",
    "        - Which states have the highest and lowest mean total/composite scores for the 2017, 2019, or 2019 SAT and ACT?\n",
    "        - Do any states with 100% participation on a given test have a rate change year-to-year?\n",
    "        - Do any states show have >50% participation on *both* tests each year?\n",
    "        - Which colleges have the highest median SAT and ACT scores for admittance?\n",
    "        - Which California school districts have the highest and lowest mean test scores?\n",
    "    - **You should comment on your findings at each step in a markdown cell below your code block**. Make sure you include at least one example of sorting your dataframe by a column, and one example of using boolean filtering (i.e., masking) to select a subset of the dataframe."
   ]
  },
  {
   "cell_type": "markdown",
   "metadata": {},
   "source": [
    "1. Summary Statistics."
   ]
  },
  {
   "cell_type": "code",
   "execution_count": 26,
   "metadata": {},
   "outputs": [],
   "source": [
    "summary_sat_act = sat_act_2019.describe().round(2).T\n",
    "summary_int_major = sat_2019_int_major.describe().round(2).T\n",
    "summary_stem_major = int_major_stem.describe().round(2).T"
   ]
  },
  {
   "cell_type": "code",
   "execution_count": 27,
   "metadata": {},
   "outputs": [
    {
     "data": {
      "text/html": [
       "<div>\n",
       "<style scoped>\n",
       "    .dataframe tbody tr th:only-of-type {\n",
       "        vertical-align: middle;\n",
       "    }\n",
       "\n",
       "    .dataframe tbody tr th {\n",
       "        vertical-align: top;\n",
       "    }\n",
       "\n",
       "    .dataframe thead th {\n",
       "        text-align: right;\n",
       "    }\n",
       "</style>\n",
       "<table border=\"1\" class=\"dataframe\">\n",
       "  <thead>\n",
       "    <tr style=\"text-align: right;\">\n",
       "      <th></th>\n",
       "      <th>count</th>\n",
       "      <th>mean</th>\n",
       "      <th>std</th>\n",
       "      <th>min</th>\n",
       "      <th>25%</th>\n",
       "      <th>50%</th>\n",
       "      <th>75%</th>\n",
       "      <th>max</th>\n",
       "    </tr>\n",
       "  </thead>\n",
       "  <tbody>\n",
       "    <tr>\n",
       "      <th>act_participation_rate</th>\n",
       "      <td>51.0</td>\n",
       "      <td>0.59</td>\n",
       "      <td>0.35</td>\n",
       "      <td>0.06</td>\n",
       "      <td>0.24</td>\n",
       "      <td>0.54</td>\n",
       "      <td>1.00</td>\n",
       "      <td>1.0</td>\n",
       "    </tr>\n",
       "    <tr>\n",
       "      <th>act_composite_score</th>\n",
       "      <td>51.0</td>\n",
       "      <td>21.46</td>\n",
       "      <td>2.19</td>\n",
       "      <td>17.90</td>\n",
       "      <td>19.80</td>\n",
       "      <td>21.10</td>\n",
       "      <td>23.70</td>\n",
       "      <td>25.5</td>\n",
       "    </tr>\n",
       "    <tr>\n",
       "      <th>sat_participation_rate</th>\n",
       "      <td>51.0</td>\n",
       "      <td>0.49</td>\n",
       "      <td>0.39</td>\n",
       "      <td>0.02</td>\n",
       "      <td>0.06</td>\n",
       "      <td>0.54</td>\n",
       "      <td>0.82</td>\n",
       "      <td>1.0</td>\n",
       "    </tr>\n",
       "    <tr>\n",
       "      <th>sat_reading_score</th>\n",
       "      <td>51.0</td>\n",
       "      <td>560.80</td>\n",
       "      <td>46.25</td>\n",
       "      <td>483.00</td>\n",
       "      <td>527.50</td>\n",
       "      <td>550.00</td>\n",
       "      <td>612.00</td>\n",
       "      <td>636.0</td>\n",
       "    </tr>\n",
       "    <tr>\n",
       "      <th>sat_math_score</th>\n",
       "      <td>51.0</td>\n",
       "      <td>552.20</td>\n",
       "      <td>51.29</td>\n",
       "      <td>460.00</td>\n",
       "      <td>511.50</td>\n",
       "      <td>546.00</td>\n",
       "      <td>599.00</td>\n",
       "      <td>648.0</td>\n",
       "    </tr>\n",
       "    <tr>\n",
       "      <th>sat_total</th>\n",
       "      <td>51.0</td>\n",
       "      <td>1113.08</td>\n",
       "      <td>97.20</td>\n",
       "      <td>943.00</td>\n",
       "      <td>1038.00</td>\n",
       "      <td>1097.00</td>\n",
       "      <td>1210.00</td>\n",
       "      <td>1284.0</td>\n",
       "    </tr>\n",
       "  </tbody>\n",
       "</table>\n",
       "</div>"
      ],
      "text/plain": [
       "                        count     mean    std     min      25%      50%  \\\n",
       "act_participation_rate   51.0     0.59   0.35    0.06     0.24     0.54   \n",
       "act_composite_score      51.0    21.46   2.19   17.90    19.80    21.10   \n",
       "sat_participation_rate   51.0     0.49   0.39    0.02     0.06     0.54   \n",
       "sat_reading_score        51.0   560.80  46.25  483.00   527.50   550.00   \n",
       "sat_math_score           51.0   552.20  51.29  460.00   511.50   546.00   \n",
       "sat_total                51.0  1113.08  97.20  943.00  1038.00  1097.00   \n",
       "\n",
       "                            75%     max  \n",
       "act_participation_rate     1.00     1.0  \n",
       "act_composite_score       23.70    25.5  \n",
       "sat_participation_rate     0.82     1.0  \n",
       "sat_reading_score        612.00   636.0  \n",
       "sat_math_score           599.00   648.0  \n",
       "sat_total               1210.00  1284.0  "
      ]
     },
     "execution_count": 27,
     "metadata": {},
     "output_type": "execute_result"
    }
   ],
   "source": [
    "summary_sat_act"
   ]
  },
  {
   "cell_type": "code",
   "execution_count": 28,
   "metadata": {},
   "outputs": [
    {
     "data": {
      "text/html": [
       "<div>\n",
       "<style scoped>\n",
       "    .dataframe tbody tr th:only-of-type {\n",
       "        vertical-align: middle;\n",
       "    }\n",
       "\n",
       "    .dataframe tbody tr th {\n",
       "        vertical-align: top;\n",
       "    }\n",
       "\n",
       "    .dataframe thead th {\n",
       "        text-align: right;\n",
       "    }\n",
       "</style>\n",
       "<table border=\"1\" class=\"dataframe\">\n",
       "  <thead>\n",
       "    <tr style=\"text-align: right;\">\n",
       "      <th></th>\n",
       "      <th>count</th>\n",
       "      <th>mean</th>\n",
       "      <th>std</th>\n",
       "      <th>min</th>\n",
       "      <th>25%</th>\n",
       "      <th>50%</th>\n",
       "      <th>75%</th>\n",
       "      <th>max</th>\n",
       "    </tr>\n",
       "  </thead>\n",
       "  <tbody>\n",
       "    <tr>\n",
       "      <th>number_test_takers</th>\n",
       "      <td>38.0</td>\n",
       "      <td>48394.50</td>\n",
       "      <td>72753.09</td>\n",
       "      <td>283.0</td>\n",
       "      <td>6611.00</td>\n",
       "      <td>16370.50</td>\n",
       "      <td>60215.75</td>\n",
       "      <td>331026.00</td>\n",
       "    </tr>\n",
       "    <tr>\n",
       "      <th>percent_total_test_takers</th>\n",
       "      <td>38.0</td>\n",
       "      <td>0.03</td>\n",
       "      <td>0.04</td>\n",
       "      <td>0.0</td>\n",
       "      <td>0.00</td>\n",
       "      <td>0.01</td>\n",
       "      <td>0.03</td>\n",
       "      <td>0.18</td>\n",
       "    </tr>\n",
       "    <tr>\n",
       "      <th>sat_total</th>\n",
       "      <td>38.0</td>\n",
       "      <td>1058.50</td>\n",
       "      <td>82.45</td>\n",
       "      <td>916.0</td>\n",
       "      <td>988.25</td>\n",
       "      <td>1066.50</td>\n",
       "      <td>1115.50</td>\n",
       "      <td>1242.00</td>\n",
       "    </tr>\n",
       "    <tr>\n",
       "      <th>reading_score</th>\n",
       "      <td>38.0</td>\n",
       "      <td>535.50</td>\n",
       "      <td>41.36</td>\n",
       "      <td>458.0</td>\n",
       "      <td>501.25</td>\n",
       "      <td>537.00</td>\n",
       "      <td>569.75</td>\n",
       "      <td>597.00</td>\n",
       "    </tr>\n",
       "    <tr>\n",
       "      <th>math_score</th>\n",
       "      <td>38.0</td>\n",
       "      <td>523.00</td>\n",
       "      <td>43.39</td>\n",
       "      <td>456.0</td>\n",
       "      <td>486.50</td>\n",
       "      <td>527.00</td>\n",
       "      <td>542.25</td>\n",
       "      <td>646.00</td>\n",
       "    </tr>\n",
       "  </tbody>\n",
       "</table>\n",
       "</div>"
      ],
      "text/plain": [
       "                           count      mean       std    min      25%  \\\n",
       "number_test_takers          38.0  48394.50  72753.09  283.0  6611.00   \n",
       "percent_total_test_takers   38.0      0.03      0.04    0.0     0.00   \n",
       "sat_total                   38.0   1058.50     82.45  916.0   988.25   \n",
       "reading_score               38.0    535.50     41.36  458.0   501.25   \n",
       "math_score                  38.0    523.00     43.39  456.0   486.50   \n",
       "\n",
       "                                50%       75%        max  \n",
       "number_test_takers         16370.50  60215.75  331026.00  \n",
       "percent_total_test_takers      0.01      0.03       0.18  \n",
       "sat_total                   1066.50   1115.50    1242.00  \n",
       "reading_score                537.00    569.75     597.00  \n",
       "math_score                   527.00    542.25     646.00  "
      ]
     },
     "execution_count": 28,
     "metadata": {},
     "output_type": "execute_result"
    }
   ],
   "source": [
    "summary_int_major"
   ]
  },
  {
   "cell_type": "code",
   "execution_count": 29,
   "metadata": {},
   "outputs": [
    {
     "data": {
      "text/html": [
       "<div>\n",
       "<style scoped>\n",
       "    .dataframe tbody tr th:only-of-type {\n",
       "        vertical-align: middle;\n",
       "    }\n",
       "\n",
       "    .dataframe tbody tr th {\n",
       "        vertical-align: top;\n",
       "    }\n",
       "\n",
       "    .dataframe thead th {\n",
       "        text-align: right;\n",
       "    }\n",
       "</style>\n",
       "<table border=\"1\" class=\"dataframe\">\n",
       "  <thead>\n",
       "    <tr style=\"text-align: right;\">\n",
       "      <th></th>\n",
       "      <th>count</th>\n",
       "      <th>mean</th>\n",
       "      <th>std</th>\n",
       "      <th>min</th>\n",
       "      <th>25%</th>\n",
       "      <th>50%</th>\n",
       "      <th>75%</th>\n",
       "      <th>max</th>\n",
       "    </tr>\n",
       "  </thead>\n",
       "  <tbody>\n",
       "    <tr>\n",
       "      <th>number_test_takers</th>\n",
       "      <td>9.0</td>\n",
       "      <td>96911.56</td>\n",
       "      <td>109656.46</td>\n",
       "      <td>10147.00</td>\n",
       "      <td>24913.00</td>\n",
       "      <td>33595.00</td>\n",
       "      <td>155834.00</td>\n",
       "      <td>331026.00</td>\n",
       "    </tr>\n",
       "    <tr>\n",
       "      <th>percent_total_test_takers</th>\n",
       "      <td>9.0</td>\n",
       "      <td>0.05</td>\n",
       "      <td>0.06</td>\n",
       "      <td>0.01</td>\n",
       "      <td>0.01</td>\n",
       "      <td>0.02</td>\n",
       "      <td>0.08</td>\n",
       "      <td>0.18</td>\n",
       "    </tr>\n",
       "    <tr>\n",
       "      <th>sat_total</th>\n",
       "      <td>9.0</td>\n",
       "      <td>1116.56</td>\n",
       "      <td>83.53</td>\n",
       "      <td>977.00</td>\n",
       "      <td>1048.00</td>\n",
       "      <td>1139.00</td>\n",
       "      <td>1156.00</td>\n",
       "      <td>1242.00</td>\n",
       "    </tr>\n",
       "    <tr>\n",
       "      <th>reading_score</th>\n",
       "      <td>9.0</td>\n",
       "      <td>555.00</td>\n",
       "      <td>35.61</td>\n",
       "      <td>496.00</td>\n",
       "      <td>529.00</td>\n",
       "      <td>562.00</td>\n",
       "      <td>572.00</td>\n",
       "      <td>597.00</td>\n",
       "    </tr>\n",
       "    <tr>\n",
       "      <th>math_score</th>\n",
       "      <td>9.0</td>\n",
       "      <td>561.56</td>\n",
       "      <td>49.89</td>\n",
       "      <td>481.00</td>\n",
       "      <td>528.00</td>\n",
       "      <td>566.00</td>\n",
       "      <td>585.00</td>\n",
       "      <td>646.00</td>\n",
       "    </tr>\n",
       "  </tbody>\n",
       "</table>\n",
       "</div>"
      ],
      "text/plain": [
       "                           count      mean        std       min       25%  \\\n",
       "number_test_takers           9.0  96911.56  109656.46  10147.00  24913.00   \n",
       "percent_total_test_takers    9.0      0.05       0.06      0.01      0.01   \n",
       "sat_total                    9.0   1116.56      83.53    977.00   1048.00   \n",
       "reading_score                9.0    555.00      35.61    496.00    529.00   \n",
       "math_score                   9.0    561.56      49.89    481.00    528.00   \n",
       "\n",
       "                                50%        75%        max  \n",
       "number_test_takers         33595.00  155834.00  331026.00  \n",
       "percent_total_test_takers      0.02       0.08       0.18  \n",
       "sat_total                   1139.00    1156.00    1242.00  \n",
       "reading_score                562.00     572.00     597.00  \n",
       "math_score                   566.00     585.00     646.00  "
      ]
     },
     "execution_count": 29,
     "metadata": {},
     "output_type": "execute_result"
    }
   ],
   "source": [
    "summary_stem_major"
   ]
  },
  {
   "cell_type": "markdown",
   "metadata": {},
   "source": [
    "2. Use a dictionary comprehension to apply the standard deviation function you create in part 1 to each numeric column in the dataframe. No loops.\n",
    "    - Assign the output to variable sd as a dictionary where:\n",
    "        - Each column name is now a key\n",
    "        - That standard deviation of the column is the value\n",
    "        - Example Output : {'ACT_Math': 120, 'ACT_Reading': 120, ...}"
   ]
  },
  {
   "cell_type": "code",
   "execution_count": 30,
   "metadata": {},
   "outputs": [
    {
     "data": {
      "text/plain": [
       "{'act_participation_rate': 0.3417582373703047,\n",
       " 'act_composite_score': 2.172901153595978,\n",
       " 'sat_participation_rate': 0.3836584048685726,\n",
       " 'sat_reading_score': 45.792378682545134,\n",
       " 'sat_math_score': 50.78521461840036,\n",
       " 'sat_total': 96.24027185617864}"
      ]
     },
     "execution_count": 30,
     "metadata": {},
     "output_type": "execute_result"
    }
   ],
   "source": [
    "#2. Use a **dictionary comprehension** to apply the standard deviation function you create in part 1 to each numeric column in the dataframe.\n",
    "\n",
    "#using standard_deviation(numbers) from part 1 as directed\n",
    "#working through the dictionary comp. I set (k,v) as (col., std. dev.[for each col.]) as instructed.\n",
    "#The question specifies 'numeric column' so I need to exclude column = 'state',\n",
    "#if I didn't, my function for std. dev. wouldn't work anyways\n",
    "\n",
    "sd = {column:standard_deviation(sat_act_2019[column]) for column in sat_act_2019 if column != 'state'}\n",
    "sd"
   ]
  },
  {
   "cell_type": "code",
   "execution_count": 31,
   "metadata": {},
   "outputs": [
    {
     "data": {
      "text/plain": [
       "{'number_test_takers': 71789.43289002257,\n",
       " 'percent_total_test_takers': 0.03944560404747735,\n",
       " 'sat_total': 81.35392139482761,\n",
       " 'reading_score': 40.814567832679806,\n",
       " 'math_score': 42.811705236572365}"
      ]
     },
     "execution_count": 31,
     "metadata": {},
     "output_type": "execute_result"
    }
   ],
   "source": [
    "#repeating 2. for my other datasets\n",
    "sd_int_major = {column:standard_deviation(sat_2019_int_major[column]) for column in sat_2019_int_major if column != 'int_college_major'}\n",
    "sd_int_major"
   ]
  },
  {
   "cell_type": "code",
   "execution_count": 32,
   "metadata": {},
   "outputs": [
    {
     "data": {
      "text/plain": [
       "{'number_test_takers': 103385.10426030232,\n",
       " 'percent_total_test_takers': 0.05652487707545291,\n",
       " 'sat_total': 78.75011267873576,\n",
       " 'reading_score': 33.572475498704456,\n",
       " 'math_score': 47.034528950338675}"
      ]
     },
     "execution_count": 32,
     "metadata": {},
     "output_type": "execute_result"
    }
   ],
   "source": [
    "#repeating 2. for my other datasets\n",
    "sd_stem = {column:standard_deviation(int_major_stem[column]) for column in int_major_stem if column != 'int_college_major'}\n",
    "sd_stem"
   ]
  },
  {
   "cell_type": "markdown",
   "metadata": {},
   "source": [
    "3. Investigate trends in the data.\n",
    "    - Using sorting and/or masking (along with the .head() method to avoid printing our entire dataframe), consider questions relevant to your problem statement. Some examples are provided below (but feel free to change these questions for your specific problem):\n",
    "        - Which states have the highest and lowest participation rates for the 2017, 2018, or 2019 SAT and ACT?\n",
    "        - Which states have the highest and lowest mean total/composite scores for the 2017, 2018, or 2019 SAT and ACT?\n",
    "        - Do any states with 100% participation on a given test have a rate change year-to-year?\n",
    "        - Do any states show have >50% participation on both tests each year?\n",
    "        - Which colleges have the highest median SAT and ACT scores for admittance?\n",
    "        - Which California school districts have the highest and lowest mean test scores?\n",
    "    - You should comment on your findings at each step in a markdown cell below your code block. Make sure you include at least one example of sorting your dataframe by a column, and one example of using boolean filtering (i.e., masking) to select a subset of the dataframe."
   ]
  },
  {
   "cell_type": "markdown",
   "metadata": {},
   "source": [
    "As an exercise I am going to address the sample questions provided above (the ones that are relevant to the imported datasets). "
   ]
  },
  {
   "cell_type": "code",
   "execution_count": 33,
   "metadata": {
    "tags": []
   },
   "outputs": [
    {
     "data": {
      "text/html": [
       "<div>\n",
       "<style scoped>\n",
       "    .dataframe tbody tr th:only-of-type {\n",
       "        vertical-align: middle;\n",
       "    }\n",
       "\n",
       "    .dataframe tbody tr th {\n",
       "        vertical-align: top;\n",
       "    }\n",
       "\n",
       "    .dataframe thead th {\n",
       "        text-align: right;\n",
       "    }\n",
       "</style>\n",
       "<table border=\"1\" class=\"dataframe\">\n",
       "  <thead>\n",
       "    <tr style=\"text-align: right;\">\n",
       "      <th></th>\n",
       "      <th>state</th>\n",
       "      <th>act_participation_rate</th>\n",
       "      <th>act_composite_score</th>\n",
       "      <th>sat_participation_rate</th>\n",
       "      <th>sat_reading_score</th>\n",
       "      <th>sat_math_score</th>\n",
       "      <th>sat_total</th>\n",
       "    </tr>\n",
       "  </thead>\n",
       "  <tbody>\n",
       "    <tr>\n",
       "      <th>19</th>\n",
       "      <td>Maine</td>\n",
       "      <td>0.06</td>\n",
       "      <td>24.3</td>\n",
       "      <td>0.99</td>\n",
       "      <td>512</td>\n",
       "      <td>502</td>\n",
       "      <td>1013</td>\n",
       "    </tr>\n",
       "    <tr>\n",
       "      <th>39</th>\n",
       "      <td>Rhode Island</td>\n",
       "      <td>0.12</td>\n",
       "      <td>24.7</td>\n",
       "      <td>1.00</td>\n",
       "      <td>503</td>\n",
       "      <td>492</td>\n",
       "      <td>995</td>\n",
       "    </tr>\n",
       "    <tr>\n",
       "      <th>7</th>\n",
       "      <td>Delaware</td>\n",
       "      <td>0.13</td>\n",
       "      <td>24.1</td>\n",
       "      <td>1.00</td>\n",
       "      <td>499</td>\n",
       "      <td>486</td>\n",
       "      <td>985</td>\n",
       "    </tr>\n",
       "    <tr>\n",
       "      <th>29</th>\n",
       "      <td>New Hampshire</td>\n",
       "      <td>0.14</td>\n",
       "      <td>25.0</td>\n",
       "      <td>0.95</td>\n",
       "      <td>533</td>\n",
       "      <td>526</td>\n",
       "      <td>1059</td>\n",
       "    </tr>\n",
       "    <tr>\n",
       "      <th>38</th>\n",
       "      <td>Pennsylvania</td>\n",
       "      <td>0.17</td>\n",
       "      <td>23.6</td>\n",
       "      <td>0.70</td>\n",
       "      <td>545</td>\n",
       "      <td>537</td>\n",
       "      <td>1082</td>\n",
       "    </tr>\n",
       "  </tbody>\n",
       "</table>\n",
       "</div>"
      ],
      "text/plain": [
       "            state  act_participation_rate  act_composite_score  \\\n",
       "19          Maine                    0.06                 24.3   \n",
       "39   Rhode Island                    0.12                 24.7   \n",
       "7        Delaware                    0.13                 24.1   \n",
       "29  New Hampshire                    0.14                 25.0   \n",
       "38   Pennsylvania                    0.17                 23.6   \n",
       "\n",
       "    sat_participation_rate  sat_reading_score  sat_math_score  sat_total  \n",
       "19                    0.99                512             502       1013  \n",
       "39                    1.00                503             492        995  \n",
       "7                     1.00                499             486        985  \n",
       "29                    0.95                533             526       1059  \n",
       "38                    0.70                545             537       1082  "
      ]
     },
     "execution_count": 33,
     "metadata": {},
     "output_type": "execute_result"
    }
   ],
   "source": [
    "#Which states have the highest and lowest participation rates for the 2017, 2018, or 2019 SAT and ACT?\n",
    "sat_act_2019.sort_values(by = 'act_participation_rate').head()"
   ]
  },
  {
   "cell_type": "markdown",
   "metadata": {},
   "source": [
    "The states: Maine, Rhode Island, Delaware, New Hampshire, and Pennsylvania have the lowest ACT participation. "
   ]
  },
  {
   "cell_type": "code",
   "execution_count": 34,
   "metadata": {},
   "outputs": [
    {
     "data": {
      "text/html": [
       "<div>\n",
       "<style scoped>\n",
       "    .dataframe tbody tr th:only-of-type {\n",
       "        vertical-align: middle;\n",
       "    }\n",
       "\n",
       "    .dataframe tbody tr th {\n",
       "        vertical-align: top;\n",
       "    }\n",
       "\n",
       "    .dataframe thead th {\n",
       "        text-align: right;\n",
       "    }\n",
       "</style>\n",
       "<table border=\"1\" class=\"dataframe\">\n",
       "  <thead>\n",
       "    <tr style=\"text-align: right;\">\n",
       "      <th></th>\n",
       "      <th>state</th>\n",
       "      <th>act_participation_rate</th>\n",
       "      <th>act_composite_score</th>\n",
       "      <th>sat_participation_rate</th>\n",
       "      <th>sat_reading_score</th>\n",
       "      <th>sat_math_score</th>\n",
       "      <th>sat_total</th>\n",
       "    </tr>\n",
       "  </thead>\n",
       "  <tbody>\n",
       "    <tr>\n",
       "      <th>0</th>\n",
       "      <td>Alabama</td>\n",
       "      <td>1.0</td>\n",
       "      <td>18.9</td>\n",
       "      <td>0.07</td>\n",
       "      <td>583</td>\n",
       "      <td>560</td>\n",
       "      <td>1143</td>\n",
       "    </tr>\n",
       "    <tr>\n",
       "      <th>3</th>\n",
       "      <td>Arkansas</td>\n",
       "      <td>1.0</td>\n",
       "      <td>19.3</td>\n",
       "      <td>0.06</td>\n",
       "      <td>582</td>\n",
       "      <td>559</td>\n",
       "      <td>1141</td>\n",
       "    </tr>\n",
       "    <tr>\n",
       "      <th>17</th>\n",
       "      <td>Kentucky</td>\n",
       "      <td>1.0</td>\n",
       "      <td>19.8</td>\n",
       "      <td>0.04</td>\n",
       "      <td>620</td>\n",
       "      <td>612</td>\n",
       "      <td>1232</td>\n",
       "    </tr>\n",
       "    <tr>\n",
       "      <th>18</th>\n",
       "      <td>Louisiana</td>\n",
       "      <td>1.0</td>\n",
       "      <td>18.8</td>\n",
       "      <td>0.05</td>\n",
       "      <td>610</td>\n",
       "      <td>591</td>\n",
       "      <td>1200</td>\n",
       "    </tr>\n",
       "    <tr>\n",
       "      <th>24</th>\n",
       "      <td>Mississippi</td>\n",
       "      <td>1.0</td>\n",
       "      <td>18.4</td>\n",
       "      <td>0.03</td>\n",
       "      <td>628</td>\n",
       "      <td>608</td>\n",
       "      <td>1237</td>\n",
       "    </tr>\n",
       "    <tr>\n",
       "      <th>26</th>\n",
       "      <td>Montana</td>\n",
       "      <td>1.0</td>\n",
       "      <td>19.8</td>\n",
       "      <td>0.09</td>\n",
       "      <td>603</td>\n",
       "      <td>596</td>\n",
       "      <td>1199</td>\n",
       "    </tr>\n",
       "    <tr>\n",
       "      <th>27</th>\n",
       "      <td>Nebraska</td>\n",
       "      <td>1.0</td>\n",
       "      <td>20.0</td>\n",
       "      <td>0.03</td>\n",
       "      <td>628</td>\n",
       "      <td>631</td>\n",
       "      <td>1260</td>\n",
       "    </tr>\n",
       "    <tr>\n",
       "      <th>28</th>\n",
       "      <td>Nevada</td>\n",
       "      <td>1.0</td>\n",
       "      <td>17.9</td>\n",
       "      <td>0.20</td>\n",
       "      <td>580</td>\n",
       "      <td>576</td>\n",
       "      <td>1156</td>\n",
       "    </tr>\n",
       "    <tr>\n",
       "      <th>33</th>\n",
       "      <td>North Carolina</td>\n",
       "      <td>1.0</td>\n",
       "      <td>19.0</td>\n",
       "      <td>0.51</td>\n",
       "      <td>554</td>\n",
       "      <td>546</td>\n",
       "      <td>1100</td>\n",
       "    </tr>\n",
       "    <tr>\n",
       "      <th>35</th>\n",
       "      <td>Ohio</td>\n",
       "      <td>1.0</td>\n",
       "      <td>20.0</td>\n",
       "      <td>0.19</td>\n",
       "      <td>550</td>\n",
       "      <td>548</td>\n",
       "      <td>1097</td>\n",
       "    </tr>\n",
       "    <tr>\n",
       "      <th>36</th>\n",
       "      <td>Oklahoma</td>\n",
       "      <td>1.0</td>\n",
       "      <td>18.9</td>\n",
       "      <td>0.22</td>\n",
       "      <td>490</td>\n",
       "      <td>472</td>\n",
       "      <td>963</td>\n",
       "    </tr>\n",
       "    <tr>\n",
       "      <th>42</th>\n",
       "      <td>Tennessee</td>\n",
       "      <td>1.0</td>\n",
       "      <td>19.4</td>\n",
       "      <td>0.07</td>\n",
       "      <td>618</td>\n",
       "      <td>602</td>\n",
       "      <td>1220</td>\n",
       "    </tr>\n",
       "    <tr>\n",
       "      <th>44</th>\n",
       "      <td>Utah</td>\n",
       "      <td>1.0</td>\n",
       "      <td>20.3</td>\n",
       "      <td>0.04</td>\n",
       "      <td>614</td>\n",
       "      <td>615</td>\n",
       "      <td>1230</td>\n",
       "    </tr>\n",
       "    <tr>\n",
       "      <th>49</th>\n",
       "      <td>Wisconsin</td>\n",
       "      <td>1.0</td>\n",
       "      <td>20.3</td>\n",
       "      <td>0.03</td>\n",
       "      <td>635</td>\n",
       "      <td>648</td>\n",
       "      <td>1283</td>\n",
       "    </tr>\n",
       "    <tr>\n",
       "      <th>50</th>\n",
       "      <td>Wyoming</td>\n",
       "      <td>1.0</td>\n",
       "      <td>19.8</td>\n",
       "      <td>0.03</td>\n",
       "      <td>623</td>\n",
       "      <td>615</td>\n",
       "      <td>1238</td>\n",
       "    </tr>\n",
       "  </tbody>\n",
       "</table>\n",
       "</div>"
      ],
      "text/plain": [
       "             state  act_participation_rate  act_composite_score  \\\n",
       "0          Alabama                     1.0                 18.9   \n",
       "3         Arkansas                     1.0                 19.3   \n",
       "17        Kentucky                     1.0                 19.8   \n",
       "18       Louisiana                     1.0                 18.8   \n",
       "24     Mississippi                     1.0                 18.4   \n",
       "26         Montana                     1.0                 19.8   \n",
       "27        Nebraska                     1.0                 20.0   \n",
       "28          Nevada                     1.0                 17.9   \n",
       "33  North Carolina                     1.0                 19.0   \n",
       "35            Ohio                     1.0                 20.0   \n",
       "36        Oklahoma                     1.0                 18.9   \n",
       "42       Tennessee                     1.0                 19.4   \n",
       "44            Utah                     1.0                 20.3   \n",
       "49       Wisconsin                     1.0                 20.3   \n",
       "50         Wyoming                     1.0                 19.8   \n",
       "\n",
       "    sat_participation_rate  sat_reading_score  sat_math_score  sat_total  \n",
       "0                     0.07                583             560       1143  \n",
       "3                     0.06                582             559       1141  \n",
       "17                    0.04                620             612       1232  \n",
       "18                    0.05                610             591       1200  \n",
       "24                    0.03                628             608       1237  \n",
       "26                    0.09                603             596       1199  \n",
       "27                    0.03                628             631       1260  \n",
       "28                    0.20                580             576       1156  \n",
       "33                    0.51                554             546       1100  \n",
       "35                    0.19                550             548       1097  \n",
       "36                    0.22                490             472        963  \n",
       "42                    0.07                618             602       1220  \n",
       "44                    0.04                614             615       1230  \n",
       "49                    0.03                635             648       1283  \n",
       "50                    0.03                623             615       1238  "
      ]
     },
     "execution_count": 34,
     "metadata": {},
     "output_type": "execute_result"
    }
   ],
   "source": [
    "sat_act_2019[sat_act_2019['act_participation_rate'] == 1.00]"
   ]
  },
  {
   "cell_type": "markdown",
   "metadata": {},
   "source": [
    "The states: Alabama, Arkansas, Kentucky, Louisiana, Mississippi, Montana, Nebraska, Nevada, North Carolina, Ohio, Oklahoma, Tennessee, Utah, Wisconsin, and Wyoming have 100% participation in the ACT. "
   ]
  },
  {
   "cell_type": "code",
   "execution_count": 35,
   "metadata": {},
   "outputs": [
    {
     "data": {
      "text/html": [
       "<div>\n",
       "<style scoped>\n",
       "    .dataframe tbody tr th:only-of-type {\n",
       "        vertical-align: middle;\n",
       "    }\n",
       "\n",
       "    .dataframe tbody tr th {\n",
       "        vertical-align: top;\n",
       "    }\n",
       "\n",
       "    .dataframe thead th {\n",
       "        text-align: right;\n",
       "    }\n",
       "</style>\n",
       "<table border=\"1\" class=\"dataframe\">\n",
       "  <thead>\n",
       "    <tr style=\"text-align: right;\">\n",
       "      <th></th>\n",
       "      <th>state</th>\n",
       "      <th>act_participation_rate</th>\n",
       "      <th>act_composite_score</th>\n",
       "      <th>sat_participation_rate</th>\n",
       "      <th>sat_reading_score</th>\n",
       "      <th>sat_math_score</th>\n",
       "      <th>sat_total</th>\n",
       "    </tr>\n",
       "  </thead>\n",
       "  <tbody>\n",
       "    <tr>\n",
       "      <th>34</th>\n",
       "      <td>North Dakota</td>\n",
       "      <td>0.96</td>\n",
       "      <td>19.9</td>\n",
       "      <td>0.02</td>\n",
       "      <td>627</td>\n",
       "      <td>636</td>\n",
       "      <td>1263</td>\n",
       "    </tr>\n",
       "    <tr>\n",
       "      <th>50</th>\n",
       "      <td>Wyoming</td>\n",
       "      <td>1.00</td>\n",
       "      <td>19.8</td>\n",
       "      <td>0.03</td>\n",
       "      <td>623</td>\n",
       "      <td>615</td>\n",
       "      <td>1238</td>\n",
       "    </tr>\n",
       "    <tr>\n",
       "      <th>41</th>\n",
       "      <td>South Dakota</td>\n",
       "      <td>0.75</td>\n",
       "      <td>21.6</td>\n",
       "      <td>0.03</td>\n",
       "      <td>633</td>\n",
       "      <td>635</td>\n",
       "      <td>1268</td>\n",
       "    </tr>\n",
       "    <tr>\n",
       "      <th>27</th>\n",
       "      <td>Nebraska</td>\n",
       "      <td>1.00</td>\n",
       "      <td>20.0</td>\n",
       "      <td>0.03</td>\n",
       "      <td>628</td>\n",
       "      <td>631</td>\n",
       "      <td>1260</td>\n",
       "    </tr>\n",
       "    <tr>\n",
       "      <th>49</th>\n",
       "      <td>Wisconsin</td>\n",
       "      <td>1.00</td>\n",
       "      <td>20.3</td>\n",
       "      <td>0.03</td>\n",
       "      <td>635</td>\n",
       "      <td>648</td>\n",
       "      <td>1283</td>\n",
       "    </tr>\n",
       "  </tbody>\n",
       "</table>\n",
       "</div>"
      ],
      "text/plain": [
       "           state  act_participation_rate  act_composite_score  \\\n",
       "34  North Dakota                    0.96                 19.9   \n",
       "50       Wyoming                    1.00                 19.8   \n",
       "41  South Dakota                    0.75                 21.6   \n",
       "27      Nebraska                    1.00                 20.0   \n",
       "49     Wisconsin                    1.00                 20.3   \n",
       "\n",
       "    sat_participation_rate  sat_reading_score  sat_math_score  sat_total  \n",
       "34                    0.02                627             636       1263  \n",
       "50                    0.03                623             615       1238  \n",
       "41                    0.03                633             635       1268  \n",
       "27                    0.03                628             631       1260  \n",
       "49                    0.03                635             648       1283  "
      ]
     },
     "execution_count": 35,
     "metadata": {},
     "output_type": "execute_result"
    }
   ],
   "source": [
    "sat_act_2019.sort_values(by = 'sat_participation_rate').head()"
   ]
  },
  {
   "cell_type": "markdown",
   "metadata": {},
   "source": [
    "The states: North Dakota, Wyoming, South Dakota, Nebraska, and Wisconsin have the lowest SAT participation. "
   ]
  },
  {
   "cell_type": "code",
   "execution_count": 36,
   "metadata": {},
   "outputs": [
    {
     "data": {
      "text/html": [
       "<div>\n",
       "<style scoped>\n",
       "    .dataframe tbody tr th:only-of-type {\n",
       "        vertical-align: middle;\n",
       "    }\n",
       "\n",
       "    .dataframe tbody tr th {\n",
       "        vertical-align: top;\n",
       "    }\n",
       "\n",
       "    .dataframe thead th {\n",
       "        text-align: right;\n",
       "    }\n",
       "</style>\n",
       "<table border=\"1\" class=\"dataframe\">\n",
       "  <thead>\n",
       "    <tr style=\"text-align: right;\">\n",
       "      <th></th>\n",
       "      <th>state</th>\n",
       "      <th>act_participation_rate</th>\n",
       "      <th>act_composite_score</th>\n",
       "      <th>sat_participation_rate</th>\n",
       "      <th>sat_reading_score</th>\n",
       "      <th>sat_math_score</th>\n",
       "      <th>sat_total</th>\n",
       "    </tr>\n",
       "  </thead>\n",
       "  <tbody>\n",
       "    <tr>\n",
       "      <th>5</th>\n",
       "      <td>Colorado</td>\n",
       "      <td>0.27</td>\n",
       "      <td>23.8</td>\n",
       "      <td>1.0</td>\n",
       "      <td>518</td>\n",
       "      <td>506</td>\n",
       "      <td>1024</td>\n",
       "    </tr>\n",
       "    <tr>\n",
       "      <th>6</th>\n",
       "      <td>Connecticut</td>\n",
       "      <td>0.22</td>\n",
       "      <td>25.5</td>\n",
       "      <td>1.0</td>\n",
       "      <td>529</td>\n",
       "      <td>516</td>\n",
       "      <td>1046</td>\n",
       "    </tr>\n",
       "    <tr>\n",
       "      <th>7</th>\n",
       "      <td>Delaware</td>\n",
       "      <td>0.13</td>\n",
       "      <td>24.1</td>\n",
       "      <td>1.0</td>\n",
       "      <td>499</td>\n",
       "      <td>486</td>\n",
       "      <td>985</td>\n",
       "    </tr>\n",
       "    <tr>\n",
       "      <th>9</th>\n",
       "      <td>Florida</td>\n",
       "      <td>0.54</td>\n",
       "      <td>20.1</td>\n",
       "      <td>1.0</td>\n",
       "      <td>516</td>\n",
       "      <td>483</td>\n",
       "      <td>999</td>\n",
       "    </tr>\n",
       "    <tr>\n",
       "      <th>12</th>\n",
       "      <td>Idaho</td>\n",
       "      <td>0.31</td>\n",
       "      <td>22.5</td>\n",
       "      <td>1.0</td>\n",
       "      <td>505</td>\n",
       "      <td>488</td>\n",
       "      <td>993</td>\n",
       "    </tr>\n",
       "    <tr>\n",
       "      <th>13</th>\n",
       "      <td>Illinois</td>\n",
       "      <td>0.35</td>\n",
       "      <td>24.3</td>\n",
       "      <td>1.0</td>\n",
       "      <td>509</td>\n",
       "      <td>504</td>\n",
       "      <td>1013</td>\n",
       "    </tr>\n",
       "    <tr>\n",
       "      <th>22</th>\n",
       "      <td>Michigan</td>\n",
       "      <td>0.19</td>\n",
       "      <td>24.4</td>\n",
       "      <td>1.0</td>\n",
       "      <td>507</td>\n",
       "      <td>496</td>\n",
       "      <td>1003</td>\n",
       "    </tr>\n",
       "    <tr>\n",
       "      <th>39</th>\n",
       "      <td>Rhode Island</td>\n",
       "      <td>0.12</td>\n",
       "      <td>24.7</td>\n",
       "      <td>1.0</td>\n",
       "      <td>503</td>\n",
       "      <td>492</td>\n",
       "      <td>995</td>\n",
       "    </tr>\n",
       "  </tbody>\n",
       "</table>\n",
       "</div>"
      ],
      "text/plain": [
       "           state  act_participation_rate  act_composite_score  \\\n",
       "5       Colorado                    0.27                 23.8   \n",
       "6    Connecticut                    0.22                 25.5   \n",
       "7       Delaware                    0.13                 24.1   \n",
       "9        Florida                    0.54                 20.1   \n",
       "12         Idaho                    0.31                 22.5   \n",
       "13      Illinois                    0.35                 24.3   \n",
       "22      Michigan                    0.19                 24.4   \n",
       "39  Rhode Island                    0.12                 24.7   \n",
       "\n",
       "    sat_participation_rate  sat_reading_score  sat_math_score  sat_total  \n",
       "5                      1.0                518             506       1024  \n",
       "6                      1.0                529             516       1046  \n",
       "7                      1.0                499             486        985  \n",
       "9                      1.0                516             483        999  \n",
       "12                     1.0                505             488        993  \n",
       "13                     1.0                509             504       1013  \n",
       "22                     1.0                507             496       1003  \n",
       "39                     1.0                503             492        995  "
      ]
     },
     "execution_count": 36,
     "metadata": {},
     "output_type": "execute_result"
    }
   ],
   "source": [
    "sat_act_2019[sat_act_2019['sat_participation_rate'] == 1.00]"
   ]
  },
  {
   "cell_type": "markdown",
   "metadata": {},
   "source": [
    "The states: Colorado, Connecticut, Delaware, Florida, Idaho, Illinois, Michigan, and Rhode Island have 100% participation in the SAT. "
   ]
  },
  {
   "cell_type": "code",
   "execution_count": 37,
   "metadata": {},
   "outputs": [],
   "source": [
    "#Which states have the highest and lowest mean total/composite scores for the 2017, 2018, or 2019 SAT and ACT?"
   ]
  },
  {
   "cell_type": "code",
   "execution_count": 38,
   "metadata": {},
   "outputs": [
    {
     "data": {
      "text/html": [
       "<div>\n",
       "<style scoped>\n",
       "    .dataframe tbody tr th:only-of-type {\n",
       "        vertical-align: middle;\n",
       "    }\n",
       "\n",
       "    .dataframe tbody tr th {\n",
       "        vertical-align: top;\n",
       "    }\n",
       "\n",
       "    .dataframe thead th {\n",
       "        text-align: right;\n",
       "    }\n",
       "</style>\n",
       "<table border=\"1\" class=\"dataframe\">\n",
       "  <thead>\n",
       "    <tr style=\"text-align: right;\">\n",
       "      <th></th>\n",
       "      <th>state</th>\n",
       "      <th>act_participation_rate</th>\n",
       "      <th>act_composite_score</th>\n",
       "      <th>sat_participation_rate</th>\n",
       "      <th>sat_reading_score</th>\n",
       "      <th>sat_math_score</th>\n",
       "      <th>sat_total</th>\n",
       "    </tr>\n",
       "  </thead>\n",
       "  <tbody>\n",
       "    <tr>\n",
       "      <th>28</th>\n",
       "      <td>Nevada</td>\n",
       "      <td>1.00</td>\n",
       "      <td>17.9</td>\n",
       "      <td>0.20</td>\n",
       "      <td>580</td>\n",
       "      <td>576</td>\n",
       "      <td>1156</td>\n",
       "    </tr>\n",
       "    <tr>\n",
       "      <th>24</th>\n",
       "      <td>Mississippi</td>\n",
       "      <td>1.00</td>\n",
       "      <td>18.4</td>\n",
       "      <td>0.03</td>\n",
       "      <td>628</td>\n",
       "      <td>608</td>\n",
       "      <td>1237</td>\n",
       "    </tr>\n",
       "    <tr>\n",
       "      <th>40</th>\n",
       "      <td>South Carolina</td>\n",
       "      <td>0.78</td>\n",
       "      <td>18.8</td>\n",
       "      <td>0.68</td>\n",
       "      <td>526</td>\n",
       "      <td>504</td>\n",
       "      <td>1030</td>\n",
       "    </tr>\n",
       "    <tr>\n",
       "      <th>18</th>\n",
       "      <td>Louisiana</td>\n",
       "      <td>1.00</td>\n",
       "      <td>18.8</td>\n",
       "      <td>0.05</td>\n",
       "      <td>610</td>\n",
       "      <td>591</td>\n",
       "      <td>1200</td>\n",
       "    </tr>\n",
       "    <tr>\n",
       "      <th>0</th>\n",
       "      <td>Alabama</td>\n",
       "      <td>1.00</td>\n",
       "      <td>18.9</td>\n",
       "      <td>0.07</td>\n",
       "      <td>583</td>\n",
       "      <td>560</td>\n",
       "      <td>1143</td>\n",
       "    </tr>\n",
       "  </tbody>\n",
       "</table>\n",
       "</div>"
      ],
      "text/plain": [
       "             state  act_participation_rate  act_composite_score  \\\n",
       "28          Nevada                    1.00                 17.9   \n",
       "24     Mississippi                    1.00                 18.4   \n",
       "40  South Carolina                    0.78                 18.8   \n",
       "18       Louisiana                    1.00                 18.8   \n",
       "0          Alabama                    1.00                 18.9   \n",
       "\n",
       "    sat_participation_rate  sat_reading_score  sat_math_score  sat_total  \n",
       "28                    0.20                580             576       1156  \n",
       "24                    0.03                628             608       1237  \n",
       "40                    0.68                526             504       1030  \n",
       "18                    0.05                610             591       1200  \n",
       "0                     0.07                583             560       1143  "
      ]
     },
     "execution_count": 38,
     "metadata": {},
     "output_type": "execute_result"
    }
   ],
   "source": [
    "sat_act_2019.sort_values(by = 'act_composite_score').head()"
   ]
  },
  {
   "cell_type": "markdown",
   "metadata": {},
   "source": [
    "The states: Nevada, Mississippi, South Carolina, Louisiana, and Alabama have the lowest ACT composite scores. "
   ]
  },
  {
   "cell_type": "code",
   "execution_count": 39,
   "metadata": {},
   "outputs": [
    {
     "data": {
      "text/html": [
       "<div>\n",
       "<style scoped>\n",
       "    .dataframe tbody tr th:only-of-type {\n",
       "        vertical-align: middle;\n",
       "    }\n",
       "\n",
       "    .dataframe tbody tr th {\n",
       "        vertical-align: top;\n",
       "    }\n",
       "\n",
       "    .dataframe thead th {\n",
       "        text-align: right;\n",
       "    }\n",
       "</style>\n",
       "<table border=\"1\" class=\"dataframe\">\n",
       "  <thead>\n",
       "    <tr style=\"text-align: right;\">\n",
       "      <th></th>\n",
       "      <th>state</th>\n",
       "      <th>act_participation_rate</th>\n",
       "      <th>act_composite_score</th>\n",
       "      <th>sat_participation_rate</th>\n",
       "      <th>sat_reading_score</th>\n",
       "      <th>sat_math_score</th>\n",
       "      <th>sat_total</th>\n",
       "    </tr>\n",
       "  </thead>\n",
       "  <tbody>\n",
       "    <tr>\n",
       "      <th>32</th>\n",
       "      <td>New York</td>\n",
       "      <td>0.22</td>\n",
       "      <td>24.5</td>\n",
       "      <td>0.79</td>\n",
       "      <td>531</td>\n",
       "      <td>533</td>\n",
       "      <td>1064</td>\n",
       "    </tr>\n",
       "    <tr>\n",
       "      <th>39</th>\n",
       "      <td>Rhode Island</td>\n",
       "      <td>0.12</td>\n",
       "      <td>24.7</td>\n",
       "      <td>1.00</td>\n",
       "      <td>503</td>\n",
       "      <td>492</td>\n",
       "      <td>995</td>\n",
       "    </tr>\n",
       "    <tr>\n",
       "      <th>29</th>\n",
       "      <td>New Hampshire</td>\n",
       "      <td>0.14</td>\n",
       "      <td>25.0</td>\n",
       "      <td>0.95</td>\n",
       "      <td>533</td>\n",
       "      <td>526</td>\n",
       "      <td>1059</td>\n",
       "    </tr>\n",
       "    <tr>\n",
       "      <th>6</th>\n",
       "      <td>Connecticut</td>\n",
       "      <td>0.22</td>\n",
       "      <td>25.5</td>\n",
       "      <td>1.00</td>\n",
       "      <td>529</td>\n",
       "      <td>516</td>\n",
       "      <td>1046</td>\n",
       "    </tr>\n",
       "    <tr>\n",
       "      <th>21</th>\n",
       "      <td>Massachusetts</td>\n",
       "      <td>0.21</td>\n",
       "      <td>25.5</td>\n",
       "      <td>0.81</td>\n",
       "      <td>559</td>\n",
       "      <td>561</td>\n",
       "      <td>1120</td>\n",
       "    </tr>\n",
       "  </tbody>\n",
       "</table>\n",
       "</div>"
      ],
      "text/plain": [
       "            state  act_participation_rate  act_composite_score  \\\n",
       "32       New York                    0.22                 24.5   \n",
       "39   Rhode Island                    0.12                 24.7   \n",
       "29  New Hampshire                    0.14                 25.0   \n",
       "6     Connecticut                    0.22                 25.5   \n",
       "21  Massachusetts                    0.21                 25.5   \n",
       "\n",
       "    sat_participation_rate  sat_reading_score  sat_math_score  sat_total  \n",
       "32                    0.79                531             533       1064  \n",
       "39                    1.00                503             492        995  \n",
       "29                    0.95                533             526       1059  \n",
       "6                     1.00                529             516       1046  \n",
       "21                    0.81                559             561       1120  "
      ]
     },
     "execution_count": 39,
     "metadata": {},
     "output_type": "execute_result"
    }
   ],
   "source": [
    "sat_act_2019.sort_values(by = 'act_composite_score').tail()"
   ]
  },
  {
   "cell_type": "markdown",
   "metadata": {},
   "source": [
    "The states: New York, Rhode Island, New Hampshire, Connecticut, and Massachusetts have the highest ACT composite scores."
   ]
  },
  {
   "cell_type": "code",
   "execution_count": 40,
   "metadata": {},
   "outputs": [
    {
     "data": {
      "text/html": [
       "<div>\n",
       "<style scoped>\n",
       "    .dataframe tbody tr th:only-of-type {\n",
       "        vertical-align: middle;\n",
       "    }\n",
       "\n",
       "    .dataframe tbody tr th {\n",
       "        vertical-align: top;\n",
       "    }\n",
       "\n",
       "    .dataframe thead th {\n",
       "        text-align: right;\n",
       "    }\n",
       "</style>\n",
       "<table border=\"1\" class=\"dataframe\">\n",
       "  <thead>\n",
       "    <tr style=\"text-align: right;\">\n",
       "      <th></th>\n",
       "      <th>state</th>\n",
       "      <th>act_participation_rate</th>\n",
       "      <th>act_composite_score</th>\n",
       "      <th>sat_participation_rate</th>\n",
       "      <th>sat_reading_score</th>\n",
       "      <th>sat_math_score</th>\n",
       "      <th>sat_total</th>\n",
       "    </tr>\n",
       "  </thead>\n",
       "  <tbody>\n",
       "    <tr>\n",
       "      <th>48</th>\n",
       "      <td>West Virginia</td>\n",
       "      <td>0.49</td>\n",
       "      <td>20.8</td>\n",
       "      <td>0.99</td>\n",
       "      <td>483</td>\n",
       "      <td>460</td>\n",
       "      <td>943</td>\n",
       "    </tr>\n",
       "    <tr>\n",
       "      <th>36</th>\n",
       "      <td>Oklahoma</td>\n",
       "      <td>1.00</td>\n",
       "      <td>18.9</td>\n",
       "      <td>0.22</td>\n",
       "      <td>490</td>\n",
       "      <td>472</td>\n",
       "      <td>963</td>\n",
       "    </tr>\n",
       "    <tr>\n",
       "      <th>8</th>\n",
       "      <td>District of Columbia</td>\n",
       "      <td>0.32</td>\n",
       "      <td>23.5</td>\n",
       "      <td>0.94</td>\n",
       "      <td>495</td>\n",
       "      <td>480</td>\n",
       "      <td>975</td>\n",
       "    </tr>\n",
       "    <tr>\n",
       "      <th>7</th>\n",
       "      <td>Delaware</td>\n",
       "      <td>0.13</td>\n",
       "      <td>24.1</td>\n",
       "      <td>1.00</td>\n",
       "      <td>499</td>\n",
       "      <td>486</td>\n",
       "      <td>985</td>\n",
       "    </tr>\n",
       "    <tr>\n",
       "      <th>12</th>\n",
       "      <td>Idaho</td>\n",
       "      <td>0.31</td>\n",
       "      <td>22.5</td>\n",
       "      <td>1.00</td>\n",
       "      <td>505</td>\n",
       "      <td>488</td>\n",
       "      <td>993</td>\n",
       "    </tr>\n",
       "  </tbody>\n",
       "</table>\n",
       "</div>"
      ],
      "text/plain": [
       "                   state  act_participation_rate  act_composite_score  \\\n",
       "48         West Virginia                    0.49                 20.8   \n",
       "36              Oklahoma                    1.00                 18.9   \n",
       "8   District of Columbia                    0.32                 23.5   \n",
       "7               Delaware                    0.13                 24.1   \n",
       "12                 Idaho                    0.31                 22.5   \n",
       "\n",
       "    sat_participation_rate  sat_reading_score  sat_math_score  sat_total  \n",
       "48                    0.99                483             460        943  \n",
       "36                    0.22                490             472        963  \n",
       "8                     0.94                495             480        975  \n",
       "7                     1.00                499             486        985  \n",
       "12                    1.00                505             488        993  "
      ]
     },
     "execution_count": 40,
     "metadata": {},
     "output_type": "execute_result"
    }
   ],
   "source": [
    "sat_act_2019.sort_values(by = 'sat_total').head()"
   ]
  },
  {
   "cell_type": "markdown",
   "metadata": {},
   "source": [
    "The states: West Virginia, Oklahoma, District of Columbia, Delaware, and Idaho have the lowest SAT total scores. "
   ]
  },
  {
   "cell_type": "code",
   "execution_count": 41,
   "metadata": {},
   "outputs": [
    {
     "data": {
      "text/html": [
       "<div>\n",
       "<style scoped>\n",
       "    .dataframe tbody tr th:only-of-type {\n",
       "        vertical-align: middle;\n",
       "    }\n",
       "\n",
       "    .dataframe tbody tr th {\n",
       "        vertical-align: top;\n",
       "    }\n",
       "\n",
       "    .dataframe thead th {\n",
       "        text-align: right;\n",
       "    }\n",
       "</style>\n",
       "<table border=\"1\" class=\"dataframe\">\n",
       "  <thead>\n",
       "    <tr style=\"text-align: right;\">\n",
       "      <th></th>\n",
       "      <th>state</th>\n",
       "      <th>act_participation_rate</th>\n",
       "      <th>act_composite_score</th>\n",
       "      <th>sat_participation_rate</th>\n",
       "      <th>sat_reading_score</th>\n",
       "      <th>sat_math_score</th>\n",
       "      <th>sat_total</th>\n",
       "    </tr>\n",
       "  </thead>\n",
       "  <tbody>\n",
       "    <tr>\n",
       "      <th>27</th>\n",
       "      <td>Nebraska</td>\n",
       "      <td>1.00</td>\n",
       "      <td>20.0</td>\n",
       "      <td>0.03</td>\n",
       "      <td>628</td>\n",
       "      <td>631</td>\n",
       "      <td>1260</td>\n",
       "    </tr>\n",
       "    <tr>\n",
       "      <th>34</th>\n",
       "      <td>North Dakota</td>\n",
       "      <td>0.96</td>\n",
       "      <td>19.9</td>\n",
       "      <td>0.02</td>\n",
       "      <td>627</td>\n",
       "      <td>636</td>\n",
       "      <td>1263</td>\n",
       "    </tr>\n",
       "    <tr>\n",
       "      <th>41</th>\n",
       "      <td>South Dakota</td>\n",
       "      <td>0.75</td>\n",
       "      <td>21.6</td>\n",
       "      <td>0.03</td>\n",
       "      <td>633</td>\n",
       "      <td>635</td>\n",
       "      <td>1268</td>\n",
       "    </tr>\n",
       "    <tr>\n",
       "      <th>49</th>\n",
       "      <td>Wisconsin</td>\n",
       "      <td>1.00</td>\n",
       "      <td>20.3</td>\n",
       "      <td>0.03</td>\n",
       "      <td>635</td>\n",
       "      <td>648</td>\n",
       "      <td>1283</td>\n",
       "    </tr>\n",
       "    <tr>\n",
       "      <th>23</th>\n",
       "      <td>Minnesota</td>\n",
       "      <td>0.95</td>\n",
       "      <td>21.4</td>\n",
       "      <td>0.04</td>\n",
       "      <td>636</td>\n",
       "      <td>648</td>\n",
       "      <td>1284</td>\n",
       "    </tr>\n",
       "  </tbody>\n",
       "</table>\n",
       "</div>"
      ],
      "text/plain": [
       "           state  act_participation_rate  act_composite_score  \\\n",
       "27      Nebraska                    1.00                 20.0   \n",
       "34  North Dakota                    0.96                 19.9   \n",
       "41  South Dakota                    0.75                 21.6   \n",
       "49     Wisconsin                    1.00                 20.3   \n",
       "23     Minnesota                    0.95                 21.4   \n",
       "\n",
       "    sat_participation_rate  sat_reading_score  sat_math_score  sat_total  \n",
       "27                    0.03                628             631       1260  \n",
       "34                    0.02                627             636       1263  \n",
       "41                    0.03                633             635       1268  \n",
       "49                    0.03                635             648       1283  \n",
       "23                    0.04                636             648       1284  "
      ]
     },
     "execution_count": 41,
     "metadata": {},
     "output_type": "execute_result"
    }
   ],
   "source": [
    "sat_act_2019.sort_values(by = 'sat_total').tail()"
   ]
  },
  {
   "cell_type": "markdown",
   "metadata": {},
   "source": [
    "The states: Nebraska, North Dakota, South Dakota, Wisconsin, and Minnesota have the highest SAT total scores. "
   ]
  },
  {
   "cell_type": "code",
   "execution_count": 42,
   "metadata": {},
   "outputs": [
    {
     "data": {
      "text/html": [
       "<div>\n",
       "<style scoped>\n",
       "    .dataframe tbody tr th:only-of-type {\n",
       "        vertical-align: middle;\n",
       "    }\n",
       "\n",
       "    .dataframe tbody tr th {\n",
       "        vertical-align: top;\n",
       "    }\n",
       "\n",
       "    .dataframe thead th {\n",
       "        text-align: right;\n",
       "    }\n",
       "</style>\n",
       "<table border=\"1\" class=\"dataframe\">\n",
       "  <thead>\n",
       "    <tr style=\"text-align: right;\">\n",
       "      <th></th>\n",
       "      <th>state</th>\n",
       "      <th>act_participation_rate</th>\n",
       "      <th>act_composite_score</th>\n",
       "      <th>sat_participation_rate</th>\n",
       "      <th>sat_reading_score</th>\n",
       "      <th>sat_math_score</th>\n",
       "      <th>sat_total</th>\n",
       "    </tr>\n",
       "  </thead>\n",
       "  <tbody>\n",
       "    <tr>\n",
       "      <th>9</th>\n",
       "      <td>Florida</td>\n",
       "      <td>0.54</td>\n",
       "      <td>20.1</td>\n",
       "      <td>1.00</td>\n",
       "      <td>516</td>\n",
       "      <td>483</td>\n",
       "      <td>999</td>\n",
       "    </tr>\n",
       "    <tr>\n",
       "      <th>11</th>\n",
       "      <td>Hawaii</td>\n",
       "      <td>0.80</td>\n",
       "      <td>19.0</td>\n",
       "      <td>0.54</td>\n",
       "      <td>550</td>\n",
       "      <td>550</td>\n",
       "      <td>1100</td>\n",
       "    </tr>\n",
       "    <tr>\n",
       "      <th>33</th>\n",
       "      <td>North Carolina</td>\n",
       "      <td>1.00</td>\n",
       "      <td>19.0</td>\n",
       "      <td>0.51</td>\n",
       "      <td>554</td>\n",
       "      <td>546</td>\n",
       "      <td>1100</td>\n",
       "    </tr>\n",
       "    <tr>\n",
       "      <th>40</th>\n",
       "      <td>South Carolina</td>\n",
       "      <td>0.78</td>\n",
       "      <td>18.8</td>\n",
       "      <td>0.68</td>\n",
       "      <td>526</td>\n",
       "      <td>504</td>\n",
       "      <td>1030</td>\n",
       "    </tr>\n",
       "  </tbody>\n",
       "</table>\n",
       "</div>"
      ],
      "text/plain": [
       "             state  act_participation_rate  act_composite_score  \\\n",
       "9          Florida                    0.54                 20.1   \n",
       "11          Hawaii                    0.80                 19.0   \n",
       "33  North Carolina                    1.00                 19.0   \n",
       "40  South Carolina                    0.78                 18.8   \n",
       "\n",
       "    sat_participation_rate  sat_reading_score  sat_math_score  sat_total  \n",
       "9                     1.00                516             483        999  \n",
       "11                    0.54                550             550       1100  \n",
       "33                    0.51                554             546       1100  \n",
       "40                    0.68                526             504       1030  "
      ]
     },
     "execution_count": 42,
     "metadata": {},
     "output_type": "execute_result"
    }
   ],
   "source": [
    "#Do any states show have >50% participation on both tests each year?\n",
    "sat_act_2019[(sat_act_2019['act_participation_rate'] > 0.50) & (sat_act_2019['sat_participation_rate'] > 0.50)]"
   ]
  },
  {
   "cell_type": "markdown",
   "metadata": {},
   "source": [
    "The states: Florida, Hawaii, North Carolina, and South Carolina each have greater than 50% participation on both the ACT and SAT."
   ]
  },
  {
   "cell_type": "markdown",
   "metadata": {},
   "source": [
    "3. Investigate trends in the data. (con't)\n",
    "At this point in the project I designed my own questions to answer with the available data. Some of these questions were duplicates of the example questions (ex. ACT/SAT participation rates) so they have been omitted here. \n",
    "\n",
    "- from sat_act_2019:\n",
    "    - Which states performed best on each SAT subject? The worst?\n",
    "    - Was there any correlation between SAT partcipation and overall performance? By state?\n",
    "    - Was there any correlation between ACT partcipation and overall performance By state?\n",
    "    \n",
    "- from sat_2019_int_major:\n",
    "    - Which college majors had the highest number of intended students?\n",
    "    - Which college majors had the lowest number of intended students?\n",
    "    - Which intended college majors had the highest overall score? The lowest?\n",
    "        - Which intended college majors had the highest Math score? The lowest?\n",
    "        - Which intended college majors had the highest EBRW score? The lowest?\n",
    "        \n",
    "- #from int_major_stem:"
   ]
  },
  {
   "cell_type": "code",
   "execution_count": 43,
   "metadata": {},
   "outputs": [
    {
     "data": {
      "text/html": [
       "<div>\n",
       "<style scoped>\n",
       "    .dataframe tbody tr th:only-of-type {\n",
       "        vertical-align: middle;\n",
       "    }\n",
       "\n",
       "    .dataframe tbody tr th {\n",
       "        vertical-align: top;\n",
       "    }\n",
       "\n",
       "    .dataframe thead th {\n",
       "        text-align: right;\n",
       "    }\n",
       "</style>\n",
       "<table border=\"1\" class=\"dataframe\">\n",
       "  <thead>\n",
       "    <tr style=\"text-align: right;\">\n",
       "      <th></th>\n",
       "      <th>state</th>\n",
       "      <th>act_participation_rate</th>\n",
       "      <th>act_composite_score</th>\n",
       "      <th>sat_participation_rate</th>\n",
       "      <th>sat_reading_score</th>\n",
       "      <th>sat_math_score</th>\n",
       "      <th>sat_total</th>\n",
       "    </tr>\n",
       "  </thead>\n",
       "  <tbody>\n",
       "    <tr>\n",
       "      <th>0</th>\n",
       "      <td>Alabama</td>\n",
       "      <td>1.00</td>\n",
       "      <td>18.9</td>\n",
       "      <td>0.07</td>\n",
       "      <td>583</td>\n",
       "      <td>560</td>\n",
       "      <td>1143</td>\n",
       "    </tr>\n",
       "    <tr>\n",
       "      <th>1</th>\n",
       "      <td>Alaska</td>\n",
       "      <td>0.38</td>\n",
       "      <td>20.1</td>\n",
       "      <td>0.41</td>\n",
       "      <td>556</td>\n",
       "      <td>541</td>\n",
       "      <td>1097</td>\n",
       "    </tr>\n",
       "    <tr>\n",
       "      <th>2</th>\n",
       "      <td>Arizona</td>\n",
       "      <td>0.73</td>\n",
       "      <td>19.0</td>\n",
       "      <td>0.31</td>\n",
       "      <td>569</td>\n",
       "      <td>565</td>\n",
       "      <td>1134</td>\n",
       "    </tr>\n",
       "    <tr>\n",
       "      <th>3</th>\n",
       "      <td>Arkansas</td>\n",
       "      <td>1.00</td>\n",
       "      <td>19.3</td>\n",
       "      <td>0.06</td>\n",
       "      <td>582</td>\n",
       "      <td>559</td>\n",
       "      <td>1141</td>\n",
       "    </tr>\n",
       "    <tr>\n",
       "      <th>4</th>\n",
       "      <td>California</td>\n",
       "      <td>0.23</td>\n",
       "      <td>22.6</td>\n",
       "      <td>0.63</td>\n",
       "      <td>534</td>\n",
       "      <td>531</td>\n",
       "      <td>1065</td>\n",
       "    </tr>\n",
       "  </tbody>\n",
       "</table>\n",
       "</div>"
      ],
      "text/plain": [
       "        state  act_participation_rate  act_composite_score  \\\n",
       "0     Alabama                    1.00                 18.9   \n",
       "1      Alaska                    0.38                 20.1   \n",
       "2     Arizona                    0.73                 19.0   \n",
       "3    Arkansas                    1.00                 19.3   \n",
       "4  California                    0.23                 22.6   \n",
       "\n",
       "   sat_participation_rate  sat_reading_score  sat_math_score  sat_total  \n",
       "0                    0.07                583             560       1143  \n",
       "1                    0.41                556             541       1097  \n",
       "2                    0.31                569             565       1134  \n",
       "3                    0.06                582             559       1141  \n",
       "4                    0.63                534             531       1065  "
      ]
     },
     "execution_count": 43,
     "metadata": {},
     "output_type": "execute_result"
    }
   ],
   "source": [
    "#for ease of reference:\n",
    "sat_act_2019.head()"
   ]
  },
  {
   "cell_type": "code",
   "execution_count": 44,
   "metadata": {},
   "outputs": [
    {
     "data": {
      "text/html": [
       "<div>\n",
       "<style scoped>\n",
       "    .dataframe tbody tr th:only-of-type {\n",
       "        vertical-align: middle;\n",
       "    }\n",
       "\n",
       "    .dataframe tbody tr th {\n",
       "        vertical-align: top;\n",
       "    }\n",
       "\n",
       "    .dataframe thead th {\n",
       "        text-align: right;\n",
       "    }\n",
       "</style>\n",
       "<table border=\"1\" class=\"dataframe\">\n",
       "  <thead>\n",
       "    <tr style=\"text-align: right;\">\n",
       "      <th></th>\n",
       "      <th>state</th>\n",
       "      <th>sat_total</th>\n",
       "      <th>sat_reading_score</th>\n",
       "      <th>sat_math_score</th>\n",
       "    </tr>\n",
       "  </thead>\n",
       "  <tbody>\n",
       "    <tr>\n",
       "      <th>23</th>\n",
       "      <td>Minnesota</td>\n",
       "      <td>1284</td>\n",
       "      <td>636</td>\n",
       "      <td>648</td>\n",
       "    </tr>\n",
       "    <tr>\n",
       "      <th>49</th>\n",
       "      <td>Wisconsin</td>\n",
       "      <td>1283</td>\n",
       "      <td>635</td>\n",
       "      <td>648</td>\n",
       "    </tr>\n",
       "    <tr>\n",
       "      <th>41</th>\n",
       "      <td>South Dakota</td>\n",
       "      <td>1268</td>\n",
       "      <td>633</td>\n",
       "      <td>635</td>\n",
       "    </tr>\n",
       "    <tr>\n",
       "      <th>34</th>\n",
       "      <td>North Dakota</td>\n",
       "      <td>1263</td>\n",
       "      <td>627</td>\n",
       "      <td>636</td>\n",
       "    </tr>\n",
       "    <tr>\n",
       "      <th>27</th>\n",
       "      <td>Nebraska</td>\n",
       "      <td>1260</td>\n",
       "      <td>628</td>\n",
       "      <td>631</td>\n",
       "    </tr>\n",
       "  </tbody>\n",
       "</table>\n",
       "</div>"
      ],
      "text/plain": [
       "           state  sat_total  sat_reading_score  sat_math_score\n",
       "23     Minnesota       1284                636             648\n",
       "49     Wisconsin       1283                635             648\n",
       "41  South Dakota       1268                633             635\n",
       "34  North Dakota       1263                627             636\n",
       "27      Nebraska       1260                628             631"
      ]
     },
     "execution_count": 44,
     "metadata": {},
     "output_type": "execute_result"
    }
   ],
   "source": [
    "#from sat_act_2019:\n",
    "    #Which states performed the best on the SAT?\n",
    "sat_2019_scores_by_state = sat_act_2019[['state', 'sat_total','sat_reading_score', 'sat_math_score']]\n",
    "\n",
    "sat_2019_scores_by_state.sort_values('sat_total', ascending = False).head()"
   ]
  },
  {
   "cell_type": "markdown",
   "metadata": {},
   "source": [
    "- The following states performed the best on the SAT in 2019: Minnesota, Wisconsin, South Dakota, North Dakota, and Nebraska."
   ]
  },
  {
   "cell_type": "code",
   "execution_count": 45,
   "metadata": {},
   "outputs": [
    {
     "data": {
      "text/html": [
       "<div>\n",
       "<style scoped>\n",
       "    .dataframe tbody tr th:only-of-type {\n",
       "        vertical-align: middle;\n",
       "    }\n",
       "\n",
       "    .dataframe tbody tr th {\n",
       "        vertical-align: top;\n",
       "    }\n",
       "\n",
       "    .dataframe thead th {\n",
       "        text-align: right;\n",
       "    }\n",
       "</style>\n",
       "<table border=\"1\" class=\"dataframe\">\n",
       "  <thead>\n",
       "    <tr style=\"text-align: right;\">\n",
       "      <th></th>\n",
       "      <th>state</th>\n",
       "      <th>sat_total</th>\n",
       "      <th>sat_reading_score</th>\n",
       "      <th>sat_math_score</th>\n",
       "    </tr>\n",
       "  </thead>\n",
       "  <tbody>\n",
       "    <tr>\n",
       "      <th>12</th>\n",
       "      <td>Idaho</td>\n",
       "      <td>993</td>\n",
       "      <td>505</td>\n",
       "      <td>488</td>\n",
       "    </tr>\n",
       "    <tr>\n",
       "      <th>7</th>\n",
       "      <td>Delaware</td>\n",
       "      <td>985</td>\n",
       "      <td>499</td>\n",
       "      <td>486</td>\n",
       "    </tr>\n",
       "    <tr>\n",
       "      <th>8</th>\n",
       "      <td>District of Columbia</td>\n",
       "      <td>975</td>\n",
       "      <td>495</td>\n",
       "      <td>480</td>\n",
       "    </tr>\n",
       "    <tr>\n",
       "      <th>36</th>\n",
       "      <td>Oklahoma</td>\n",
       "      <td>963</td>\n",
       "      <td>490</td>\n",
       "      <td>472</td>\n",
       "    </tr>\n",
       "    <tr>\n",
       "      <th>48</th>\n",
       "      <td>West Virginia</td>\n",
       "      <td>943</td>\n",
       "      <td>483</td>\n",
       "      <td>460</td>\n",
       "    </tr>\n",
       "  </tbody>\n",
       "</table>\n",
       "</div>"
      ],
      "text/plain": [
       "                   state  sat_total  sat_reading_score  sat_math_score\n",
       "12                 Idaho        993                505             488\n",
       "7               Delaware        985                499             486\n",
       "8   District of Columbia        975                495             480\n",
       "36              Oklahoma        963                490             472\n",
       "48         West Virginia        943                483             460"
      ]
     },
     "execution_count": 45,
     "metadata": {},
     "output_type": "execute_result"
    }
   ],
   "source": [
    "sat_2019_scores_by_state.sort_values('sat_total', ascending = False).tail()"
   ]
  },
  {
   "cell_type": "markdown",
   "metadata": {},
   "source": [
    "- The following states performed the worst on the SAT in 2019: Idaho, Delaware, District of Columbia, Oklahoma, and West Virginia."
   ]
  },
  {
   "cell_type": "code",
   "execution_count": 46,
   "metadata": {},
   "outputs": [
    {
     "data": {
      "text/html": [
       "<div>\n",
       "<style scoped>\n",
       "    .dataframe tbody tr th:only-of-type {\n",
       "        vertical-align: middle;\n",
       "    }\n",
       "\n",
       "    .dataframe tbody tr th {\n",
       "        vertical-align: top;\n",
       "    }\n",
       "\n",
       "    .dataframe thead th {\n",
       "        text-align: right;\n",
       "    }\n",
       "</style>\n",
       "<table border=\"1\" class=\"dataframe\">\n",
       "  <thead>\n",
       "    <tr style=\"text-align: right;\">\n",
       "      <th></th>\n",
       "      <th>state</th>\n",
       "      <th>sat_total</th>\n",
       "      <th>sat_reading_score</th>\n",
       "      <th>sat_math_score</th>\n",
       "    </tr>\n",
       "  </thead>\n",
       "  <tbody>\n",
       "    <tr>\n",
       "      <th>23</th>\n",
       "      <td>Minnesota</td>\n",
       "      <td>1284</td>\n",
       "      <td>636</td>\n",
       "      <td>648</td>\n",
       "    </tr>\n",
       "    <tr>\n",
       "      <th>49</th>\n",
       "      <td>Wisconsin</td>\n",
       "      <td>1283</td>\n",
       "      <td>635</td>\n",
       "      <td>648</td>\n",
       "    </tr>\n",
       "    <tr>\n",
       "      <th>41</th>\n",
       "      <td>South Dakota</td>\n",
       "      <td>1268</td>\n",
       "      <td>633</td>\n",
       "      <td>635</td>\n",
       "    </tr>\n",
       "    <tr>\n",
       "      <th>27</th>\n",
       "      <td>Nebraska</td>\n",
       "      <td>1260</td>\n",
       "      <td>628</td>\n",
       "      <td>631</td>\n",
       "    </tr>\n",
       "    <tr>\n",
       "      <th>24</th>\n",
       "      <td>Mississippi</td>\n",
       "      <td>1237</td>\n",
       "      <td>628</td>\n",
       "      <td>608</td>\n",
       "    </tr>\n",
       "  </tbody>\n",
       "</table>\n",
       "</div>"
      ],
      "text/plain": [
       "           state  sat_total  sat_reading_score  sat_math_score\n",
       "23     Minnesota       1284                636             648\n",
       "49     Wisconsin       1283                635             648\n",
       "41  South Dakota       1268                633             635\n",
       "27      Nebraska       1260                628             631\n",
       "24   Mississippi       1237                628             608"
      ]
     },
     "execution_count": 46,
     "metadata": {},
     "output_type": "execute_result"
    }
   ],
   "source": [
    "sat_2019_scores_by_state.sort_values('sat_reading_score', ascending = False).head()"
   ]
  },
  {
   "cell_type": "markdown",
   "metadata": {},
   "source": [
    "- The following states performed the best on the SAT EBRW section in 2019: Minnesota, Wisconsin, South Dakota, Nebraska, and Mississippi."
   ]
  },
  {
   "cell_type": "code",
   "execution_count": 47,
   "metadata": {},
   "outputs": [
    {
     "data": {
      "text/html": [
       "<div>\n",
       "<style scoped>\n",
       "    .dataframe tbody tr th:only-of-type {\n",
       "        vertical-align: middle;\n",
       "    }\n",
       "\n",
       "    .dataframe tbody tr th {\n",
       "        vertical-align: top;\n",
       "    }\n",
       "\n",
       "    .dataframe thead th {\n",
       "        text-align: right;\n",
       "    }\n",
       "</style>\n",
       "<table border=\"1\" class=\"dataframe\">\n",
       "  <thead>\n",
       "    <tr style=\"text-align: right;\">\n",
       "      <th></th>\n",
       "      <th>state</th>\n",
       "      <th>sat_total</th>\n",
       "      <th>sat_reading_score</th>\n",
       "      <th>sat_math_score</th>\n",
       "    </tr>\n",
       "  </thead>\n",
       "  <tbody>\n",
       "    <tr>\n",
       "      <th>39</th>\n",
       "      <td>Rhode Island</td>\n",
       "      <td>995</td>\n",
       "      <td>503</td>\n",
       "      <td>492</td>\n",
       "    </tr>\n",
       "    <tr>\n",
       "      <th>7</th>\n",
       "      <td>Delaware</td>\n",
       "      <td>985</td>\n",
       "      <td>499</td>\n",
       "      <td>486</td>\n",
       "    </tr>\n",
       "    <tr>\n",
       "      <th>8</th>\n",
       "      <td>District of Columbia</td>\n",
       "      <td>975</td>\n",
       "      <td>495</td>\n",
       "      <td>480</td>\n",
       "    </tr>\n",
       "    <tr>\n",
       "      <th>36</th>\n",
       "      <td>Oklahoma</td>\n",
       "      <td>963</td>\n",
       "      <td>490</td>\n",
       "      <td>472</td>\n",
       "    </tr>\n",
       "    <tr>\n",
       "      <th>48</th>\n",
       "      <td>West Virginia</td>\n",
       "      <td>943</td>\n",
       "      <td>483</td>\n",
       "      <td>460</td>\n",
       "    </tr>\n",
       "  </tbody>\n",
       "</table>\n",
       "</div>"
      ],
      "text/plain": [
       "                   state  sat_total  sat_reading_score  sat_math_score\n",
       "39          Rhode Island        995                503             492\n",
       "7               Delaware        985                499             486\n",
       "8   District of Columbia        975                495             480\n",
       "36              Oklahoma        963                490             472\n",
       "48         West Virginia        943                483             460"
      ]
     },
     "execution_count": 47,
     "metadata": {},
     "output_type": "execute_result"
    }
   ],
   "source": [
    "sat_2019_scores_by_state.sort_values('sat_reading_score', ascending = False).tail()"
   ]
  },
  {
   "cell_type": "markdown",
   "metadata": {},
   "source": [
    "- The following states performed the worst on the SAT EBRW section in 2019: Rhode Island, Delaware, District of Columbia, Oklahoma, and West Virginia."
   ]
  },
  {
   "cell_type": "code",
   "execution_count": 48,
   "metadata": {},
   "outputs": [
    {
     "data": {
      "text/html": [
       "<div>\n",
       "<style scoped>\n",
       "    .dataframe tbody tr th:only-of-type {\n",
       "        vertical-align: middle;\n",
       "    }\n",
       "\n",
       "    .dataframe tbody tr th {\n",
       "        vertical-align: top;\n",
       "    }\n",
       "\n",
       "    .dataframe thead th {\n",
       "        text-align: right;\n",
       "    }\n",
       "</style>\n",
       "<table border=\"1\" class=\"dataframe\">\n",
       "  <thead>\n",
       "    <tr style=\"text-align: right;\">\n",
       "      <th></th>\n",
       "      <th>state</th>\n",
       "      <th>sat_total</th>\n",
       "      <th>sat_reading_score</th>\n",
       "      <th>sat_math_score</th>\n",
       "    </tr>\n",
       "  </thead>\n",
       "  <tbody>\n",
       "    <tr>\n",
       "      <th>49</th>\n",
       "      <td>Wisconsin</td>\n",
       "      <td>1283</td>\n",
       "      <td>635</td>\n",
       "      <td>648</td>\n",
       "    </tr>\n",
       "    <tr>\n",
       "      <th>23</th>\n",
       "      <td>Minnesota</td>\n",
       "      <td>1284</td>\n",
       "      <td>636</td>\n",
       "      <td>648</td>\n",
       "    </tr>\n",
       "    <tr>\n",
       "      <th>34</th>\n",
       "      <td>North Dakota</td>\n",
       "      <td>1263</td>\n",
       "      <td>627</td>\n",
       "      <td>636</td>\n",
       "    </tr>\n",
       "    <tr>\n",
       "      <th>41</th>\n",
       "      <td>South Dakota</td>\n",
       "      <td>1268</td>\n",
       "      <td>633</td>\n",
       "      <td>635</td>\n",
       "    </tr>\n",
       "    <tr>\n",
       "      <th>27</th>\n",
       "      <td>Nebraska</td>\n",
       "      <td>1260</td>\n",
       "      <td>628</td>\n",
       "      <td>631</td>\n",
       "    </tr>\n",
       "  </tbody>\n",
       "</table>\n",
       "</div>"
      ],
      "text/plain": [
       "           state  sat_total  sat_reading_score  sat_math_score\n",
       "49     Wisconsin       1283                635             648\n",
       "23     Minnesota       1284                636             648\n",
       "34  North Dakota       1263                627             636\n",
       "41  South Dakota       1268                633             635\n",
       "27      Nebraska       1260                628             631"
      ]
     },
     "execution_count": 48,
     "metadata": {},
     "output_type": "execute_result"
    }
   ],
   "source": [
    "sat_2019_scores_by_state.sort_values('sat_math_score', ascending = False).head()"
   ]
  },
  {
   "cell_type": "markdown",
   "metadata": {},
   "source": [
    "- The following states performed the best on the SAT Math section in 2019: Wisconsin, Minnesota, North Dakota, South Dakota, and Nebraska."
   ]
  },
  {
   "cell_type": "code",
   "execution_count": 49,
   "metadata": {},
   "outputs": [
    {
     "data": {
      "text/html": [
       "<div>\n",
       "<style scoped>\n",
       "    .dataframe tbody tr th:only-of-type {\n",
       "        vertical-align: middle;\n",
       "    }\n",
       "\n",
       "    .dataframe tbody tr th {\n",
       "        vertical-align: top;\n",
       "    }\n",
       "\n",
       "    .dataframe thead th {\n",
       "        text-align: right;\n",
       "    }\n",
       "</style>\n",
       "<table border=\"1\" class=\"dataframe\">\n",
       "  <thead>\n",
       "    <tr style=\"text-align: right;\">\n",
       "      <th></th>\n",
       "      <th>state</th>\n",
       "      <th>sat_total</th>\n",
       "      <th>sat_reading_score</th>\n",
       "      <th>sat_math_score</th>\n",
       "    </tr>\n",
       "  </thead>\n",
       "  <tbody>\n",
       "    <tr>\n",
       "      <th>7</th>\n",
       "      <td>Delaware</td>\n",
       "      <td>985</td>\n",
       "      <td>499</td>\n",
       "      <td>486</td>\n",
       "    </tr>\n",
       "    <tr>\n",
       "      <th>9</th>\n",
       "      <td>Florida</td>\n",
       "      <td>999</td>\n",
       "      <td>516</td>\n",
       "      <td>483</td>\n",
       "    </tr>\n",
       "    <tr>\n",
       "      <th>8</th>\n",
       "      <td>District of Columbia</td>\n",
       "      <td>975</td>\n",
       "      <td>495</td>\n",
       "      <td>480</td>\n",
       "    </tr>\n",
       "    <tr>\n",
       "      <th>36</th>\n",
       "      <td>Oklahoma</td>\n",
       "      <td>963</td>\n",
       "      <td>490</td>\n",
       "      <td>472</td>\n",
       "    </tr>\n",
       "    <tr>\n",
       "      <th>48</th>\n",
       "      <td>West Virginia</td>\n",
       "      <td>943</td>\n",
       "      <td>483</td>\n",
       "      <td>460</td>\n",
       "    </tr>\n",
       "  </tbody>\n",
       "</table>\n",
       "</div>"
      ],
      "text/plain": [
       "                   state  sat_total  sat_reading_score  sat_math_score\n",
       "7               Delaware        985                499             486\n",
       "9                Florida        999                516             483\n",
       "8   District of Columbia        975                495             480\n",
       "36              Oklahoma        963                490             472\n",
       "48         West Virginia        943                483             460"
      ]
     },
     "execution_count": 49,
     "metadata": {},
     "output_type": "execute_result"
    }
   ],
   "source": [
    "sat_2019_scores_by_state.sort_values('sat_math_score', ascending = False).tail()"
   ]
  },
  {
   "cell_type": "markdown",
   "metadata": {},
   "source": [
    "- The following states performed the worst on the SAT Math section in 2019: Delaware, Florida, District of Columbia, Oklahoma and West Virginia."
   ]
  },
  {
   "cell_type": "code",
   "execution_count": 50,
   "metadata": {},
   "outputs": [
    {
     "data": {
      "text/plain": [
       "-0.8617856279968544"
      ]
     },
     "execution_count": 50,
     "metadata": {},
     "output_type": "execute_result"
    }
   ],
   "source": [
    "#https://www.kite.com/python/answers/how-to-find-the-correlation-between-two-pandas-dataframe-columns-in-pythonv\n",
    "\n",
    "#Was there any correlation between SAT partcipation and overall performance? By state?\n",
    "\n",
    "sat_column_1 = sat_act_2019['sat_participation_rate']\n",
    "sat_column_2 = sat_act_2019['sat_total']\n",
    "sat_column_1.corr(sat_column_2)"
   ]
  },
  {
   "cell_type": "code",
   "execution_count": 51,
   "metadata": {},
   "outputs": [
    {
     "data": {
      "text/plain": [
       "-0.8668191877685284"
      ]
     },
     "execution_count": 51,
     "metadata": {},
     "output_type": "execute_result"
    }
   ],
   "source": [
    "#Was there any correlation between ACT partcipation and overall performance? By state?\n",
    "act_column_1 = sat_act_2019['act_participation_rate']\n",
    "act_column_2 = sat_act_2019['act_composite_score']\n",
    "act_column_1.corr(act_column_2)"
   ]
  },
  {
   "cell_type": "markdown",
   "metadata": {},
   "source": [
    "- There are negative correlations between both ACT/SAT participation and ACT/SAT composite/total scores. The more participation in either test, the lower the overall scores."
   ]
  },
  {
   "cell_type": "code",
   "execution_count": 52,
   "metadata": {},
   "outputs": [
    {
     "data": {
      "text/plain": [
       "-0.8654353036794787"
      ]
     },
     "execution_count": 52,
     "metadata": {},
     "output_type": "execute_result"
    }
   ],
   "source": [
    "sat_column_1.corr(act_column_1)"
   ]
  },
  {
   "cell_type": "code",
   "execution_count": 53,
   "metadata": {},
   "outputs": [
    {
     "data": {
      "text/plain": [
       "-0.42478151902686695"
      ]
     },
     "execution_count": 53,
     "metadata": {},
     "output_type": "execute_result"
    }
   ],
   "source": [
    "sat_column_2.corr(act_column_2)"
   ]
  },
  {
   "cell_type": "code",
   "execution_count": 54,
   "metadata": {},
   "outputs": [
    {
     "data": {
      "text/plain": [
       "0.7246185897281456"
      ]
     },
     "execution_count": 54,
     "metadata": {},
     "output_type": "execute_result"
    }
   ],
   "source": [
    "sat_column_1.corr(act_column_2)"
   ]
  },
  {
   "cell_type": "code",
   "execution_count": 55,
   "metadata": {},
   "outputs": [
    {
     "data": {
      "text/plain": [
       "0.6669662550706247"
      ]
     },
     "execution_count": 55,
     "metadata": {},
     "output_type": "execute_result"
    }
   ],
   "source": [
    "act_column_1.corr(sat_column_2)"
   ]
  },
  {
   "cell_type": "markdown",
   "metadata": {},
   "source": [
    "- Positive correlations above 50% exist between ACT participation and SAT score and SAT participation and ACT score, meaning that participation in either test leads to a higher score in the other."
   ]
  },
  {
   "cell_type": "code",
   "execution_count": 56,
   "metadata": {},
   "outputs": [
    {
     "data": {
      "text/html": [
       "<div>\n",
       "<style scoped>\n",
       "    .dataframe tbody tr th:only-of-type {\n",
       "        vertical-align: middle;\n",
       "    }\n",
       "\n",
       "    .dataframe tbody tr th {\n",
       "        vertical-align: top;\n",
       "    }\n",
       "\n",
       "    .dataframe thead th {\n",
       "        text-align: right;\n",
       "    }\n",
       "</style>\n",
       "<table border=\"1\" class=\"dataframe\">\n",
       "  <thead>\n",
       "    <tr style=\"text-align: right;\">\n",
       "      <th></th>\n",
       "      <th>int_college_major</th>\n",
       "      <th>number_test_takers</th>\n",
       "      <th>percent_total_test_takers</th>\n",
       "      <th>sat_total</th>\n",
       "      <th>reading_score</th>\n",
       "      <th>math_score</th>\n",
       "    </tr>\n",
       "  </thead>\n",
       "  <tbody>\n",
       "    <tr>\n",
       "      <th>14</th>\n",
       "      <td>Health Professions and related Clinical Sciences</td>\n",
       "      <td>331026.0</td>\n",
       "      <td>0.18</td>\n",
       "      <td>1048</td>\n",
       "      <td>529</td>\n",
       "      <td>518</td>\n",
       "    </tr>\n",
       "    <tr>\n",
       "      <th>4</th>\n",
       "      <td>Business, Management, Marketing, and Related S...</td>\n",
       "      <td>221523.0</td>\n",
       "      <td>0.12</td>\n",
       "      <td>1072</td>\n",
       "      <td>534</td>\n",
       "      <td>537</td>\n",
       "    </tr>\n",
       "    <tr>\n",
       "      <th>9</th>\n",
       "      <td>Engineering</td>\n",
       "      <td>194127.0</td>\n",
       "      <td>0.11</td>\n",
       "      <td>1139</td>\n",
       "      <td>559</td>\n",
       "      <td>581</td>\n",
       "    </tr>\n",
       "    <tr>\n",
       "      <th>3</th>\n",
       "      <td>Biological and Biomedical Sciences</td>\n",
       "      <td>155834.0</td>\n",
       "      <td>0.08</td>\n",
       "      <td>1139</td>\n",
       "      <td>572</td>\n",
       "      <td>566</td>\n",
       "    </tr>\n",
       "    <tr>\n",
       "      <th>35</th>\n",
       "      <td>Visual and Performing Arts, General</td>\n",
       "      <td>130642.0</td>\n",
       "      <td>0.07</td>\n",
       "      <td>1045</td>\n",
       "      <td>536</td>\n",
       "      <td>510</td>\n",
       "    </tr>\n",
       "  </tbody>\n",
       "</table>\n",
       "</div>"
      ],
      "text/plain": [
       "                                    int_college_major  number_test_takers  \\\n",
       "14   Health Professions and related Clinical Sciences            331026.0   \n",
       "4   Business, Management, Marketing, and Related S...            221523.0   \n",
       "9                                         Engineering            194127.0   \n",
       "3                  Biological and Biomedical Sciences            155834.0   \n",
       "35                Visual and Performing Arts, General            130642.0   \n",
       "\n",
       "    percent_total_test_takers  sat_total  reading_score  math_score  \n",
       "14                       0.18       1048            529         518  \n",
       "4                        0.12       1072            534         537  \n",
       "9                        0.11       1139            559         581  \n",
       "3                        0.08       1139            572         566  \n",
       "35                       0.07       1045            536         510  "
      ]
     },
     "execution_count": 56,
     "metadata": {},
     "output_type": "execute_result"
    }
   ],
   "source": [
    "#from sat_2019_int_major:\n",
    "#Which college majors had the highest number of intended students?\n",
    "int_college_major_partc = sat_2019_int_major.sort_values('number_test_takers', ascending = False)\n",
    "int_college_major_partc.head()"
   ]
  },
  {
   "cell_type": "markdown",
   "metadata": {},
   "source": [
    "- The majors for which the highest number of students declared their intended college major were:\n",
    "    - Health Professions and related Clinical Sciences (STEM major)\n",
    "    - Business, Management, Marketing, and Related Support Services\n",
    "    - Engineering (STEM major)\n",
    "    - Biological and Biomedical Sciences (STEM major)\n",
    "    - Visual and Performing Arts, General"
   ]
  },
  {
   "cell_type": "code",
   "execution_count": 57,
   "metadata": {},
   "outputs": [
    {
     "data": {
      "text/html": [
       "<div>\n",
       "<style scoped>\n",
       "    .dataframe tbody tr th:only-of-type {\n",
       "        vertical-align: middle;\n",
       "    }\n",
       "\n",
       "    .dataframe tbody tr th {\n",
       "        vertical-align: top;\n",
       "    }\n",
       "\n",
       "    .dataframe thead th {\n",
       "        text-align: right;\n",
       "    }\n",
       "</style>\n",
       "<table border=\"1\" class=\"dataframe\">\n",
       "  <thead>\n",
       "    <tr style=\"text-align: right;\">\n",
       "      <th></th>\n",
       "      <th>int_college_major</th>\n",
       "      <th>number_test_takers</th>\n",
       "      <th>percent_total_test_takers</th>\n",
       "      <th>sat_total</th>\n",
       "      <th>reading_score</th>\n",
       "      <th>math_score</th>\n",
       "    </tr>\n",
       "  </thead>\n",
       "  <tbody>\n",
       "    <tr>\n",
       "      <th>7</th>\n",
       "      <td>Construction Trades, General</td>\n",
       "      <td>2500.0</td>\n",
       "      <td>0.0</td>\n",
       "      <td>919</td>\n",
       "      <td>459</td>\n",
       "      <td>460</td>\n",
       "    </tr>\n",
       "    <tr>\n",
       "      <th>33</th>\n",
       "      <td>Theology and Religious Vocations</td>\n",
       "      <td>1991.0</td>\n",
       "      <td>0.0</td>\n",
       "      <td>1096</td>\n",
       "      <td>561</td>\n",
       "      <td>535</td>\n",
       "    </tr>\n",
       "    <tr>\n",
       "      <th>34</th>\n",
       "      <td>Transportation and Materials Moving</td>\n",
       "      <td>1105.0</td>\n",
       "      <td>0.0</td>\n",
       "      <td>1019</td>\n",
       "      <td>511</td>\n",
       "      <td>508</td>\n",
       "    </tr>\n",
       "    <tr>\n",
       "      <th>28</th>\n",
       "      <td>Precision Production</td>\n",
       "      <td>319.0</td>\n",
       "      <td>0.0</td>\n",
       "      <td>932</td>\n",
       "      <td>466</td>\n",
       "      <td>466</td>\n",
       "    </tr>\n",
       "    <tr>\n",
       "      <th>18</th>\n",
       "      <td>Library Science/Librarianship</td>\n",
       "      <td>283.0</td>\n",
       "      <td>0.0</td>\n",
       "      <td>1105</td>\n",
       "      <td>577</td>\n",
       "      <td>527</td>\n",
       "    </tr>\n",
       "  </tbody>\n",
       "</table>\n",
       "</div>"
      ],
      "text/plain": [
       "                      int_college_major  number_test_takers  \\\n",
       "7          Construction Trades, General              2500.0   \n",
       "33     Theology and Religious Vocations              1991.0   \n",
       "34  Transportation and Materials Moving              1105.0   \n",
       "28                 Precision Production               319.0   \n",
       "18        Library Science/Librarianship               283.0   \n",
       "\n",
       "    percent_total_test_takers  sat_total  reading_score  math_score  \n",
       "7                         0.0        919            459         460  \n",
       "33                        0.0       1096            561         535  \n",
       "34                        0.0       1019            511         508  \n",
       "28                        0.0        932            466         466  \n",
       "18                        0.0       1105            577         527  "
      ]
     },
     "execution_count": 57,
     "metadata": {},
     "output_type": "execute_result"
    }
   ],
   "source": [
    "#Which college majors had the lowest number of intended students?\n",
    "int_college_major_partc.tail()"
   ]
  },
  {
   "cell_type": "markdown",
   "metadata": {},
   "source": [
    "- The majors for which the lowest number of students declared their intended college major were:\n",
    "    - Construction Trades, General\n",
    "    - Theology and Religious Vocations\n",
    "    - Transportation and Materials Moving\n",
    "    - Precision Production\n",
    "    - Library Science/Librarianship"
   ]
  },
  {
   "cell_type": "code",
   "execution_count": 58,
   "metadata": {},
   "outputs": [
    {
     "data": {
      "text/html": [
       "<div>\n",
       "<style scoped>\n",
       "    .dataframe tbody tr th:only-of-type {\n",
       "        vertical-align: middle;\n",
       "    }\n",
       "\n",
       "    .dataframe tbody tr th {\n",
       "        vertical-align: top;\n",
       "    }\n",
       "\n",
       "    .dataframe thead th {\n",
       "        text-align: right;\n",
       "    }\n",
       "</style>\n",
       "<table border=\"1\" class=\"dataframe\">\n",
       "  <thead>\n",
       "    <tr style=\"text-align: right;\">\n",
       "      <th></th>\n",
       "      <th>int_college_major</th>\n",
       "      <th>number_test_takers</th>\n",
       "      <th>percent_total_test_takers</th>\n",
       "      <th>sat_total</th>\n",
       "      <th>reading_score</th>\n",
       "      <th>math_score</th>\n",
       "    </tr>\n",
       "  </thead>\n",
       "  <tbody>\n",
       "    <tr>\n",
       "      <th>19</th>\n",
       "      <td>Mathematics and Statistics</td>\n",
       "      <td>16508.0</td>\n",
       "      <td>0.01</td>\n",
       "      <td>1242</td>\n",
       "      <td>597</td>\n",
       "      <td>646</td>\n",
       "    </tr>\n",
       "    <tr>\n",
       "      <th>27</th>\n",
       "      <td>Physical Sciences</td>\n",
       "      <td>26318.0</td>\n",
       "      <td>0.01</td>\n",
       "      <td>1203</td>\n",
       "      <td>597</td>\n",
       "      <td>606</td>\n",
       "    </tr>\n",
       "    <tr>\n",
       "      <th>32</th>\n",
       "      <td>Social Sciences</td>\n",
       "      <td>33356.0</td>\n",
       "      <td>0.02</td>\n",
       "      <td>1164</td>\n",
       "      <td>594</td>\n",
       "      <td>570</td>\n",
       "    </tr>\n",
       "    <tr>\n",
       "      <th>6</th>\n",
       "      <td>Computer and Information Sciences and Support ...</td>\n",
       "      <td>79736.0</td>\n",
       "      <td>0.04</td>\n",
       "      <td>1156</td>\n",
       "      <td>571</td>\n",
       "      <td>585</td>\n",
       "    </tr>\n",
       "    <tr>\n",
       "      <th>22</th>\n",
       "      <td>Multi/Interdisciplinary Studies</td>\n",
       "      <td>2979.0</td>\n",
       "      <td>0.00</td>\n",
       "      <td>1155</td>\n",
       "      <td>581</td>\n",
       "      <td>574</td>\n",
       "    </tr>\n",
       "  </tbody>\n",
       "</table>\n",
       "</div>"
      ],
      "text/plain": [
       "                                    int_college_major  number_test_takers  \\\n",
       "19                         Mathematics and Statistics             16508.0   \n",
       "27                                  Physical Sciences             26318.0   \n",
       "32                                    Social Sciences             33356.0   \n",
       "6   Computer and Information Sciences and Support ...             79736.0   \n",
       "22                    Multi/Interdisciplinary Studies              2979.0   \n",
       "\n",
       "    percent_total_test_takers  sat_total  reading_score  math_score  \n",
       "19                       0.01       1242            597         646  \n",
       "27                       0.01       1203            597         606  \n",
       "32                       0.02       1164            594         570  \n",
       "6                        0.04       1156            571         585  \n",
       "22                       0.00       1155            581         574  "
      ]
     },
     "execution_count": 58,
     "metadata": {},
     "output_type": "execute_result"
    }
   ],
   "source": [
    "#Which intended college majors had the highest overall score? The lowest?\n",
    "int_college_major_score = sat_2019_int_major.sort_values('sat_total', ascending = False)\n",
    "int_college_major_score.head()"
   ]
  },
  {
   "cell_type": "markdown",
   "metadata": {},
   "source": [
    "- The intended college majors for which students scored the highest on the SAT were:\n",
    "    - Mathematics and Statistics (STEM major)\n",
    "    - Physical Sciences\t(STEM major)\n",
    "    - Social Sciences\t\n",
    "    - Computer and Information Sciences and Support Services (STEM major)\n",
    "    - Multi/Interdisciplinary Studies"
   ]
  },
  {
   "cell_type": "code",
   "execution_count": 59,
   "metadata": {},
   "outputs": [
    {
     "data": {
      "text/html": [
       "<div>\n",
       "<style scoped>\n",
       "    .dataframe tbody tr th:only-of-type {\n",
       "        vertical-align: middle;\n",
       "    }\n",
       "\n",
       "    .dataframe tbody tr th {\n",
       "        vertical-align: top;\n",
       "    }\n",
       "\n",
       "    .dataframe thead th {\n",
       "        text-align: right;\n",
       "    }\n",
       "</style>\n",
       "<table border=\"1\" class=\"dataframe\">\n",
       "  <thead>\n",
       "    <tr style=\"text-align: right;\">\n",
       "      <th></th>\n",
       "      <th>int_college_major</th>\n",
       "      <th>number_test_takers</th>\n",
       "      <th>percent_total_test_takers</th>\n",
       "      <th>sat_total</th>\n",
       "      <th>reading_score</th>\n",
       "      <th>math_score</th>\n",
       "    </tr>\n",
       "  </thead>\n",
       "  <tbody>\n",
       "    <tr>\n",
       "      <th>12</th>\n",
       "      <td>Family and Consumer Sciences/Human Sciences</td>\n",
       "      <td>6469.0</td>\n",
       "      <td>0.0</td>\n",
       "      <td>953</td>\n",
       "      <td>484</td>\n",
       "      <td>469</td>\n",
       "    </tr>\n",
       "    <tr>\n",
       "      <th>28</th>\n",
       "      <td>Precision Production</td>\n",
       "      <td>319.0</td>\n",
       "      <td>0.0</td>\n",
       "      <td>932</td>\n",
       "      <td>466</td>\n",
       "      <td>466</td>\n",
       "    </tr>\n",
       "    <tr>\n",
       "      <th>25</th>\n",
       "      <td>Personal and Culinary Services, General</td>\n",
       "      <td>6668.0</td>\n",
       "      <td>0.0</td>\n",
       "      <td>929</td>\n",
       "      <td>474</td>\n",
       "      <td>456</td>\n",
       "    </tr>\n",
       "    <tr>\n",
       "      <th>7</th>\n",
       "      <td>Construction Trades, General</td>\n",
       "      <td>2500.0</td>\n",
       "      <td>0.0</td>\n",
       "      <td>919</td>\n",
       "      <td>459</td>\n",
       "      <td>460</td>\n",
       "    </tr>\n",
       "    <tr>\n",
       "      <th>20</th>\n",
       "      <td>Mechanic and Repair Technologies/Technicians</td>\n",
       "      <td>6592.0</td>\n",
       "      <td>0.0</td>\n",
       "      <td>916</td>\n",
       "      <td>458</td>\n",
       "      <td>458</td>\n",
       "    </tr>\n",
       "  </tbody>\n",
       "</table>\n",
       "</div>"
      ],
      "text/plain": [
       "                               int_college_major  number_test_takers  \\\n",
       "12   Family and Consumer Sciences/Human Sciences              6469.0   \n",
       "28                          Precision Production               319.0   \n",
       "25       Personal and Culinary Services, General              6668.0   \n",
       "7                   Construction Trades, General              2500.0   \n",
       "20  Mechanic and Repair Technologies/Technicians              6592.0   \n",
       "\n",
       "    percent_total_test_takers  sat_total  reading_score  math_score  \n",
       "12                        0.0        953            484         469  \n",
       "28                        0.0        932            466         466  \n",
       "25                        0.0        929            474         456  \n",
       "7                         0.0        919            459         460  \n",
       "20                        0.0        916            458         458  "
      ]
     },
     "execution_count": 59,
     "metadata": {},
     "output_type": "execute_result"
    }
   ],
   "source": [
    "int_college_major_score.tail()"
   ]
  },
  {
   "cell_type": "markdown",
   "metadata": {},
   "source": [
    "- The intended college majors for which students scored the lowest on the SAT were:\n",
    "    - Family and Consumer Sciences/Human Sciences\n",
    "    - Precision Production\n",
    "    - Personal and Culinary Services, General\n",
    "    - Construction Trades, General\n",
    "    - Mechanic and Repair Technologies/Technicians"
   ]
  },
  {
   "cell_type": "code",
   "execution_count": 60,
   "metadata": {},
   "outputs": [
    {
     "data": {
      "text/html": [
       "<div>\n",
       "<style scoped>\n",
       "    .dataframe tbody tr th:only-of-type {\n",
       "        vertical-align: middle;\n",
       "    }\n",
       "\n",
       "    .dataframe tbody tr th {\n",
       "        vertical-align: top;\n",
       "    }\n",
       "\n",
       "    .dataframe thead th {\n",
       "        text-align: right;\n",
       "    }\n",
       "</style>\n",
       "<table border=\"1\" class=\"dataframe\">\n",
       "  <thead>\n",
       "    <tr style=\"text-align: right;\">\n",
       "      <th></th>\n",
       "      <th>int_college_major</th>\n",
       "      <th>number_test_takers</th>\n",
       "      <th>percent_total_test_takers</th>\n",
       "      <th>sat_total</th>\n",
       "      <th>reading_score</th>\n",
       "      <th>math_score</th>\n",
       "    </tr>\n",
       "  </thead>\n",
       "  <tbody>\n",
       "    <tr>\n",
       "      <th>19</th>\n",
       "      <td>Mathematics and Statistics</td>\n",
       "      <td>16508.0</td>\n",
       "      <td>0.01</td>\n",
       "      <td>1242</td>\n",
       "      <td>597</td>\n",
       "      <td>646</td>\n",
       "    </tr>\n",
       "    <tr>\n",
       "      <th>27</th>\n",
       "      <td>Physical Sciences</td>\n",
       "      <td>26318.0</td>\n",
       "      <td>0.01</td>\n",
       "      <td>1203</td>\n",
       "      <td>597</td>\n",
       "      <td>606</td>\n",
       "    </tr>\n",
       "    <tr>\n",
       "      <th>6</th>\n",
       "      <td>Computer and Information Sciences and Support ...</td>\n",
       "      <td>79736.0</td>\n",
       "      <td>0.04</td>\n",
       "      <td>1156</td>\n",
       "      <td>571</td>\n",
       "      <td>585</td>\n",
       "    </tr>\n",
       "    <tr>\n",
       "      <th>9</th>\n",
       "      <td>Engineering</td>\n",
       "      <td>194127.0</td>\n",
       "      <td>0.11</td>\n",
       "      <td>1139</td>\n",
       "      <td>559</td>\n",
       "      <td>581</td>\n",
       "    </tr>\n",
       "    <tr>\n",
       "      <th>22</th>\n",
       "      <td>Multi/Interdisciplinary Studies</td>\n",
       "      <td>2979.0</td>\n",
       "      <td>0.00</td>\n",
       "      <td>1155</td>\n",
       "      <td>581</td>\n",
       "      <td>574</td>\n",
       "    </tr>\n",
       "  </tbody>\n",
       "</table>\n",
       "</div>"
      ],
      "text/plain": [
       "                                    int_college_major  number_test_takers  \\\n",
       "19                         Mathematics and Statistics             16508.0   \n",
       "27                                  Physical Sciences             26318.0   \n",
       "6   Computer and Information Sciences and Support ...             79736.0   \n",
       "9                                         Engineering            194127.0   \n",
       "22                    Multi/Interdisciplinary Studies              2979.0   \n",
       "\n",
       "    percent_total_test_takers  sat_total  reading_score  math_score  \n",
       "19                       0.01       1242            597         646  \n",
       "27                       0.01       1203            597         606  \n",
       "6                        0.04       1156            571         585  \n",
       "9                        0.11       1139            559         581  \n",
       "22                       0.00       1155            581         574  "
      ]
     },
     "execution_count": 60,
     "metadata": {},
     "output_type": "execute_result"
    }
   ],
   "source": [
    "#Which intended college majors had the highest Math score? The lowest?\n",
    "int_college_major_math = sat_2019_int_major.sort_values('math_score', ascending = False)\n",
    "int_college_major_math.head()"
   ]
  },
  {
   "cell_type": "markdown",
   "metadata": {},
   "source": [
    "- The intended college majors for which students scored the highest on the SAT Math section were:\n",
    "    - Mathematics and Statistics (STEM major)\n",
    "    - Physical Sciences\t(STEM major)\n",
    "    - Computer and Information Sciences and Support Services (STEM major)\n",
    "    - Engineering (STEM major)\n",
    "    - Multi/Interdisciplinary Studies"
   ]
  },
  {
   "cell_type": "code",
   "execution_count": 61,
   "metadata": {},
   "outputs": [
    {
     "data": {
      "text/html": [
       "<div>\n",
       "<style scoped>\n",
       "    .dataframe tbody tr th:only-of-type {\n",
       "        vertical-align: middle;\n",
       "    }\n",
       "\n",
       "    .dataframe tbody tr th {\n",
       "        vertical-align: top;\n",
       "    }\n",
       "\n",
       "    .dataframe thead th {\n",
       "        text-align: right;\n",
       "    }\n",
       "</style>\n",
       "<table border=\"1\" class=\"dataframe\">\n",
       "  <thead>\n",
       "    <tr style=\"text-align: right;\">\n",
       "      <th></th>\n",
       "      <th>int_college_major</th>\n",
       "      <th>number_test_takers</th>\n",
       "      <th>percent_total_test_takers</th>\n",
       "      <th>sat_total</th>\n",
       "      <th>reading_score</th>\n",
       "      <th>math_score</th>\n",
       "    </tr>\n",
       "  </thead>\n",
       "  <tbody>\n",
       "    <tr>\n",
       "      <th>12</th>\n",
       "      <td>Family and Consumer Sciences/Human Sciences</td>\n",
       "      <td>6469.0</td>\n",
       "      <td>0.0</td>\n",
       "      <td>953</td>\n",
       "      <td>484</td>\n",
       "      <td>469</td>\n",
       "    </tr>\n",
       "    <tr>\n",
       "      <th>28</th>\n",
       "      <td>Precision Production</td>\n",
       "      <td>319.0</td>\n",
       "      <td>0.0</td>\n",
       "      <td>932</td>\n",
       "      <td>466</td>\n",
       "      <td>466</td>\n",
       "    </tr>\n",
       "    <tr>\n",
       "      <th>7</th>\n",
       "      <td>Construction Trades, General</td>\n",
       "      <td>2500.0</td>\n",
       "      <td>0.0</td>\n",
       "      <td>919</td>\n",
       "      <td>459</td>\n",
       "      <td>460</td>\n",
       "    </tr>\n",
       "    <tr>\n",
       "      <th>20</th>\n",
       "      <td>Mechanic and Repair Technologies/Technicians</td>\n",
       "      <td>6592.0</td>\n",
       "      <td>0.0</td>\n",
       "      <td>916</td>\n",
       "      <td>458</td>\n",
       "      <td>458</td>\n",
       "    </tr>\n",
       "    <tr>\n",
       "      <th>25</th>\n",
       "      <td>Personal and Culinary Services, General</td>\n",
       "      <td>6668.0</td>\n",
       "      <td>0.0</td>\n",
       "      <td>929</td>\n",
       "      <td>474</td>\n",
       "      <td>456</td>\n",
       "    </tr>\n",
       "  </tbody>\n",
       "</table>\n",
       "</div>"
      ],
      "text/plain": [
       "                               int_college_major  number_test_takers  \\\n",
       "12   Family and Consumer Sciences/Human Sciences              6469.0   \n",
       "28                          Precision Production               319.0   \n",
       "7                   Construction Trades, General              2500.0   \n",
       "20  Mechanic and Repair Technologies/Technicians              6592.0   \n",
       "25       Personal and Culinary Services, General              6668.0   \n",
       "\n",
       "    percent_total_test_takers  sat_total  reading_score  math_score  \n",
       "12                        0.0        953            484         469  \n",
       "28                        0.0        932            466         466  \n",
       "7                         0.0        919            459         460  \n",
       "20                        0.0        916            458         458  \n",
       "25                        0.0        929            474         456  "
      ]
     },
     "execution_count": 61,
     "metadata": {},
     "output_type": "execute_result"
    }
   ],
   "source": [
    "int_college_major_math.tail()"
   ]
  },
  {
   "cell_type": "markdown",
   "metadata": {},
   "source": [
    "- The intended college majors for which students scored the lowest on the SAT Math section were:\n",
    "    - Family and Consumer Sciences/Human Sciences\n",
    "    - Precision Production\n",
    "    - Construction Trades, General\n",
    "    - Mechanic and Repair Technologies/Technicians\n",
    "    - Personal and Culinary Services, General"
   ]
  },
  {
   "cell_type": "code",
   "execution_count": 62,
   "metadata": {},
   "outputs": [
    {
     "data": {
      "text/html": [
       "<div>\n",
       "<style scoped>\n",
       "    .dataframe tbody tr th:only-of-type {\n",
       "        vertical-align: middle;\n",
       "    }\n",
       "\n",
       "    .dataframe tbody tr th {\n",
       "        vertical-align: top;\n",
       "    }\n",
       "\n",
       "    .dataframe thead th {\n",
       "        text-align: right;\n",
       "    }\n",
       "</style>\n",
       "<table border=\"1\" class=\"dataframe\">\n",
       "  <thead>\n",
       "    <tr style=\"text-align: right;\">\n",
       "      <th></th>\n",
       "      <th>int_college_major</th>\n",
       "      <th>number_test_takers</th>\n",
       "      <th>percent_total_test_takers</th>\n",
       "      <th>sat_total</th>\n",
       "      <th>reading_score</th>\n",
       "      <th>math_score</th>\n",
       "    </tr>\n",
       "  </thead>\n",
       "  <tbody>\n",
       "    <tr>\n",
       "      <th>19</th>\n",
       "      <td>Mathematics and Statistics</td>\n",
       "      <td>16508.0</td>\n",
       "      <td>0.01</td>\n",
       "      <td>1242</td>\n",
       "      <td>597</td>\n",
       "      <td>646</td>\n",
       "    </tr>\n",
       "    <tr>\n",
       "      <th>27</th>\n",
       "      <td>Physical Sciences</td>\n",
       "      <td>26318.0</td>\n",
       "      <td>0.01</td>\n",
       "      <td>1203</td>\n",
       "      <td>597</td>\n",
       "      <td>606</td>\n",
       "    </tr>\n",
       "    <tr>\n",
       "      <th>32</th>\n",
       "      <td>Social Sciences</td>\n",
       "      <td>33356.0</td>\n",
       "      <td>0.02</td>\n",
       "      <td>1164</td>\n",
       "      <td>594</td>\n",
       "      <td>570</td>\n",
       "    </tr>\n",
       "    <tr>\n",
       "      <th>11</th>\n",
       "      <td>English Language and Literature/Letters</td>\n",
       "      <td>16233.0</td>\n",
       "      <td>0.01</td>\n",
       "      <td>1119</td>\n",
       "      <td>585</td>\n",
       "      <td>533</td>\n",
       "    </tr>\n",
       "    <tr>\n",
       "      <th>17</th>\n",
       "      <td>Liberal Arts and Sciences, General Studies and...</td>\n",
       "      <td>8611.0</td>\n",
       "      <td>0.00</td>\n",
       "      <td>1140</td>\n",
       "      <td>584</td>\n",
       "      <td>556</td>\n",
       "    </tr>\n",
       "  </tbody>\n",
       "</table>\n",
       "</div>"
      ],
      "text/plain": [
       "                                    int_college_major  number_test_takers  \\\n",
       "19                         Mathematics and Statistics             16508.0   \n",
       "27                                  Physical Sciences             26318.0   \n",
       "32                                    Social Sciences             33356.0   \n",
       "11            English Language and Literature/Letters             16233.0   \n",
       "17  Liberal Arts and Sciences, General Studies and...              8611.0   \n",
       "\n",
       "    percent_total_test_takers  sat_total  reading_score  math_score  \n",
       "19                       0.01       1242            597         646  \n",
       "27                       0.01       1203            597         606  \n",
       "32                       0.02       1164            594         570  \n",
       "11                       0.01       1119            585         533  \n",
       "17                       0.00       1140            584         556  "
      ]
     },
     "execution_count": 62,
     "metadata": {},
     "output_type": "execute_result"
    }
   ],
   "source": [
    "#Which intended college majors had the highest EBRW score? The lowest?\n",
    "int_college_major_reading = sat_2019_int_major.sort_values('reading_score', ascending = False)\n",
    "int_college_major_reading.head()"
   ]
  },
  {
   "cell_type": "markdown",
   "metadata": {},
   "source": [
    "- The intended college majors for which students scored the highest on the SAT EBRW section were:\n",
    "    - Mathematics and Statistics (STEM major)\n",
    "    - Physical Sciences\t(STEM major)\n",
    "    - Social Sciences\n",
    "    - English Language and Literature/Letters\n",
    "    - Liberal Arts and Sciences, General Studies and Humanities"
   ]
  },
  {
   "cell_type": "code",
   "execution_count": 63,
   "metadata": {},
   "outputs": [
    {
     "data": {
      "text/html": [
       "<div>\n",
       "<style scoped>\n",
       "    .dataframe tbody tr th:only-of-type {\n",
       "        vertical-align: middle;\n",
       "    }\n",
       "\n",
       "    .dataframe tbody tr th {\n",
       "        vertical-align: top;\n",
       "    }\n",
       "\n",
       "    .dataframe thead th {\n",
       "        text-align: right;\n",
       "    }\n",
       "</style>\n",
       "<table border=\"1\" class=\"dataframe\">\n",
       "  <thead>\n",
       "    <tr style=\"text-align: right;\">\n",
       "      <th></th>\n",
       "      <th>int_college_major</th>\n",
       "      <th>number_test_takers</th>\n",
       "      <th>percent_total_test_takers</th>\n",
       "      <th>sat_total</th>\n",
       "      <th>reading_score</th>\n",
       "      <th>math_score</th>\n",
       "    </tr>\n",
       "  </thead>\n",
       "  <tbody>\n",
       "    <tr>\n",
       "      <th>24</th>\n",
       "      <td>Parks, Recreation and Leisure Studies</td>\n",
       "      <td>13039.0</td>\n",
       "      <td>0.01</td>\n",
       "      <td>960</td>\n",
       "      <td>482</td>\n",
       "      <td>478</td>\n",
       "    </tr>\n",
       "    <tr>\n",
       "      <th>25</th>\n",
       "      <td>Personal and Culinary Services, General</td>\n",
       "      <td>6668.0</td>\n",
       "      <td>0.00</td>\n",
       "      <td>929</td>\n",
       "      <td>474</td>\n",
       "      <td>456</td>\n",
       "    </tr>\n",
       "    <tr>\n",
       "      <th>28</th>\n",
       "      <td>Precision Production</td>\n",
       "      <td>319.0</td>\n",
       "      <td>0.00</td>\n",
       "      <td>932</td>\n",
       "      <td>466</td>\n",
       "      <td>466</td>\n",
       "    </tr>\n",
       "    <tr>\n",
       "      <th>7</th>\n",
       "      <td>Construction Trades, General</td>\n",
       "      <td>2500.0</td>\n",
       "      <td>0.00</td>\n",
       "      <td>919</td>\n",
       "      <td>459</td>\n",
       "      <td>460</td>\n",
       "    </tr>\n",
       "    <tr>\n",
       "      <th>20</th>\n",
       "      <td>Mechanic and Repair Technologies/Technicians</td>\n",
       "      <td>6592.0</td>\n",
       "      <td>0.00</td>\n",
       "      <td>916</td>\n",
       "      <td>458</td>\n",
       "      <td>458</td>\n",
       "    </tr>\n",
       "  </tbody>\n",
       "</table>\n",
       "</div>"
      ],
      "text/plain": [
       "                               int_college_major  number_test_takers  \\\n",
       "24         Parks, Recreation and Leisure Studies             13039.0   \n",
       "25       Personal and Culinary Services, General              6668.0   \n",
       "28                          Precision Production               319.0   \n",
       "7                   Construction Trades, General              2500.0   \n",
       "20  Mechanic and Repair Technologies/Technicians              6592.0   \n",
       "\n",
       "    percent_total_test_takers  sat_total  reading_score  math_score  \n",
       "24                       0.01        960            482         478  \n",
       "25                       0.00        929            474         456  \n",
       "28                       0.00        932            466         466  \n",
       "7                        0.00        919            459         460  \n",
       "20                       0.00        916            458         458  "
      ]
     },
     "execution_count": 63,
     "metadata": {},
     "output_type": "execute_result"
    }
   ],
   "source": [
    "int_college_major_reading.tail()"
   ]
  },
  {
   "cell_type": "markdown",
   "metadata": {},
   "source": [
    "- The intended college majors for which students scored the lowest on the SAT EBRW section were:\n",
    "    - Parks, Recreation and Leisure Studies\n",
    "    - Personal and Culinary Services, General\n",
    "    - Precision Production\t\n",
    "    - Construction Trades, General\n",
    "    - Mechanic and Repair Technologies/Technicians"
   ]
  },
  {
   "cell_type": "markdown",
   "metadata": {},
   "source": [
    "## Findings Thus Far: ##\n",
    "\n",
    "The descriptive statistics allow a quick overview of the data gathered. Of all students, regardless of intended major:\n",
    "- The mean SAT score was 1058.8 with a standard deviation of 82.45. \n",
    "- The range of overall SAT scores was 326. \n",
    "- For the Reading section, the average score was 535.5 with a standard deviation of 41.36. The range of Reading scores was 139. \n",
    "- For the Math section, the average score was 523.0 with a standard deviation of 43.39. The range of Math scores was 190.\n",
    "\n",
    "To gather data valuable to our original posit, we further examined the nine STEM majors included in our data. As outlined above, those majors are:\n",
    "- Agriculture, AgricultureOperations, and Related Sciences, Biological and Biomedical Sciences, Computer and Information Sciences and Support Services, Engineering, Engineering Technologies/Technicians, Health Professions and Related Clinical Sciences, Mathematics and Statistics, Natural Resources and Conservation, and Physical Sciences.\n",
    "\n",
    "Of those STEM students:\n",
    "- The mean SAT score was 1116.56 with a standard deviation of 83.53. \n",
    "- The range of overall SAT scores was 265. \n",
    "- For the Reading section, the average score was 555.0 with a standard deviation of 35.61. The range of Reading scores was 101. \n",
    "- For the Math section, the average score was 561.0 with a standard deviation of 49.89. The range of Math scores was 165.\n",
    "\n",
    "Of all the different majors, regardless of whether or not it was STEM, those students who declared for Mathematics & Statistics scored the highest on the SAT, across all subjects. There were not any STEM majors that were the lowest in all three scores: SAT total, Reading, and Math.\n",
    "\n",
    "The students for declared majors: Precision Production, Personal and Culinary Services (General), Mechanic and Repair Technologies/Technicians, and Construction Trades (General) all scored among the lowest five majors for each aforementioned criteria.  \n",
    "\n",
    "Overall, there was a negative correlation between a state's score and taking the test. This is logical as one has to actually participate in order to have your performance judged.  "
   ]
  },
  {
   "cell_type": "markdown",
   "metadata": {},
   "source": [
    "## Visualize the Data\n",
    "\n",
    "There's not a magic bullet recommendation for the right number of plots to understand a given dataset, but visualizing your data is *always* a good idea. Not only does it allow you to quickly convey your findings (even if you have a non-technical audience), it will often reveal trends in your data that escaped you when you were looking only at numbers. It is important to not only create visualizations, but to **interpret your visualizations** as well.\n",
    "\n",
    "**Every plot should**:\n",
    "- Have a title\n",
    "- Have axis labels\n",
    "- Have appropriate tick labels\n",
    "- Text is legible in a plot\n",
    "- Plots demonstrate meaningful and valid relationships\n",
    "- Have an interpretation to aid understanding\n",
    "\n",
    "---\n",
    "\n",
    "Here are some prompts to get you started with visualizations. Feel free to add additional visualizations as you see fit:\n",
    "1. Use Seaborn's heatmap with pandas `.corr()` to visualize correlations between all numeric features.\n",
    "    - Heatmaps are generally not appropriate for presentations, and should often be excluded from reports as they can be visually overwhelming. **However**, they can be extremely useful in identify relationships of potential interest (as well as identifying potential collinearity before modeling).\n",
    "    - Please take time to format your output, adding a title. Look through some of the additional arguments and options. (Axis labels aren't really necessary, as long as the title is informative).\n",
    "2. Visualize distributions using histograms. If you have a lot, consider writing a custom function and use subplots.\n",
    "    - *OPTIONAL*: Summarize the underlying distributions of your features (in words & statistics)\n",
    "         - Be thorough in your verbal description of these distributions.\n",
    "         - Be sure to back up these summaries with statistics.\n",
    "         - We generally assume that data we sample from a population will be normally distributed. Do we observe this trend? Explain your answers for each distribution and how you think this will affect estimates made from these data.\n",
    "3. Plot and interpret boxplots. \n",
    "    - Boxplots demonstrate central tendency and spread in variables. In a certain sense, these are somewhat redundant with histograms, but you may be better able to identify clear outliers or differences in IQR, etc.\n",
    "    - Multiple values can be plotted to a single boxplot as long as they are of the same relative scale (meaning they have similar min/max values).\n",
    "    - Each boxplot should:\n",
    "        - Only include variables of a similar scale\n",
    "        - Have clear labels for each variable\n",
    "        - Have appropriate titles and labels\n",
    "4. Plot and interpret scatter plots to view relationships between features. Feel free to write a custom function, and subplot if you'd like. Functions save both time and space.\n",
    "    - Your plots should have:\n",
    "        - Two clearly labeled axes\n",
    "        - A proper title\n",
    "        - Colors and symbols that are clear and unmistakable\n",
    "5. Additional plots of your choosing.\n",
    "    - Are there any additional trends or relationships you haven't explored? Was there something interesting you saw that you'd like to dive further into? It's likely that there are a few more plots you might want to generate to support your narrative and recommendations that you are building toward. **As always, make sure you're interpreting your plots as you go**."
   ]
  },
  {
   "cell_type": "markdown",
   "metadata": {},
   "source": [
    "1. Use Seaborn's heatmap with pandas `.corr()` to visualize correlations between all numeric features."
   ]
  },
  {
   "cell_type": "code",
   "execution_count": 64,
   "metadata": {},
   "outputs": [
    {
     "data": {
      "image/png": "[encoded data removed]",
      "text/plain": [
       "<Figure size 648x648 with 2 Axes>"
      ]
     },
     "metadata": {
      "needs_background": "light"
     },
     "output_type": "display_data"
    }
   ],
   "source": [
    "#used https://www.statology.org/seaborn-title/#:~:text=To%20add%20a%20title%20to%20a%20single\n",
    "#%20seaborn%20plot%2C%20you,set()%20function.&text=To%20add%20an%20overall%20title,suptitle()%20function.\n",
    "#for more information on sns features\n",
    "\n",
    "plt.subplots(figsize = (9, 9))\n",
    "\n",
    "sns.heatmap(sat_act_2019.corr(),\n",
    "            vmin = -1,\n",
    "            vmax = 1,\n",
    "            cmap = 'viridis',\n",
    "            annot = True,\n",
    "            linewidths = 1)\n",
    "\n",
    "plt.title('Correlation Heat Map - ACT and SAT Participation and Scores',\n",
    "          fontsize = 16,\n",
    "          fontweight = 'bold',\n",
    "          y = 1.05);"
   ]
  },
  {
   "cell_type": "markdown",
   "metadata": {},
   "source": [
    "- ACT participation is negatively correlated with SAT participation but positively correlated with SAT performance and is more strong associated with a better SAT Reading score than SAT Math score. A state's ACT composite score is positvely correlated with SAT participation but negatively correlated to overall SAT score. SAT participation is positvely correlated with a state's ACT composite score. "
   ]
  },
  {
   "cell_type": "markdown",
   "metadata": {},
   "source": [
    "2. Visualize distributions using histograms. If you have a lot, consider writing a custom function and use subplots."
   ]
  },
  {
   "cell_type": "code",
   "execution_count": 83,
   "metadata": {},
   "outputs": [],
   "source": [
    "#https://stackoverflow.com/questions/16180946/drawing-average-line-in-histogram-matplotlib\n",
    "#https://matplotlib.org/stable/api/_as_gen/matplotlib.pyplot.axvline.html\n",
    "#https://www.kite.com/python/answers/how-to-plot-a-histogram-in-matplotlib-in-python\n",
    "#https://matplotlib.org/2.0.2/examples/statistics/histogram_demo_features.html\n",
    "\n",
    "#function to generate histograms:\n",
    "def make_hist(index_df_col):\n",
    "    \n",
    "    plt.figure(figsize = (8, 6))\n",
    "\n",
    "    figure = index_df_col.hist()\n",
    "\n",
    "    plt.axvline(index_df_col.mean(),\n",
    "                color = 'red',\n",
    "                linestyle = 'dashed',\n",
    "                linewidth = 2)\n",
    "\n",
    "    min_ylim, max_ylim = plt.ylim()\n",
    "    plt.text(index_df_col.mean()*1.01,\n",
    "             max_ylim*0.9,\n",
    "             'Mean: {:.2f}'.format(index_df_col.mean()))\n",
    "\n",
    "#     figure.set_title(label = 'Histogram of ACT Composite Scores - 2019',\n",
    "#                             fontdict = {'fontsize': 16,\n",
    "#                                         'fontweight': 'bold'},\n",
    "#                             y = 1.10)\n",
    "\n",
    "#     figure.set_xlabel('ACT Composite Score')\n",
    "\n",
    "    figure.set_ylabel('Frequency (by State)');\n",
    "    \n",
    "    return figure"
   ]
  },
  {
   "cell_type": "code",
   "execution_count": 84,
   "metadata": {},
   "outputs": [
    {
     "data": {
      "image/png": "[encoded data removed]",
      "text/plain": [
       "<Figure size 576x432 with 1 Axes>"
      ]
     },
     "metadata": {
      "needs_background": "light"
     },
     "output_type": "display_data"
    }
   ],
   "source": [
    "#plotting the frequency of ACT Composite scores in 2019\n",
    "figure = make_hist(sat_act_2019['act_composite_score'])\n",
    "\n",
    "figure.set_title(label = 'Histogram of ACT Composite Scores - 2019',\n",
    "                 fontdict = {'fontsize': 16,\n",
    "                             'fontweight': 'bold'},\n",
    "                 y = 1.10)\n",
    "\n",
    "figure.set_xlabel('ACT Composite Score');"
   ]
  },
  {
   "cell_type": "markdown",
   "metadata": {},
   "source": [
    "- At a first glance, the above histrogram demonstrates that more states score lower on the ACT than states that scored higher, however, 20 states had a composite score less than 20 and 20 states had an ACT score greater than 22. "
   ]
  },
  {
   "cell_type": "code",
   "execution_count": 67,
   "metadata": {},
   "outputs": [
    {
     "data": {
      "image/png": "[encoded data removed]",
      "text/plain": [
       "<Figure size 576x432 with 1 Axes>"
      ]
     },
     "metadata": {
      "needs_background": "light"
     },
     "output_type": "display_data"
    }
   ],
   "source": [
    "#plotting the frequency of ACT Composite scores in 2019\n",
    "figure = make_hist(sat_act_2019['sat_total'])\n",
    "\n",
    "figure.set_title(label = 'Histogram of SAT Total Scores - 2019',\n",
    "                 fontdict = {'fontsize': 16,\n",
    "                             'fontweight': 'bold'},\n",
    "                 y = 1.10)\n",
    "\n",
    "figure.set_xlabel('SAT Total Score');"
   ]
  },
  {
   "cell_type": "markdown",
   "metadata": {},
   "source": [
    "- The above histogram shows the distribution of SAT scores for 2019. As we already know our mean for this dataset is 1113.08, this histogram serves to show how scores are further concentrated around and lower than the mean, rather than above the mean. "
   ]
  },
  {
   "cell_type": "code",
   "execution_count": 68,
   "metadata": {},
   "outputs": [
    {
     "data": {
      "image/png": "[encoded data removed]",
      "text/plain": [
       "<Figure size 576x432 with 1 Axes>"
      ]
     },
     "metadata": {
      "needs_background": "light"
     },
     "output_type": "display_data"
    }
   ],
   "source": [
    "#plotting the frequency of SAT Math scores in 2019, by state\n",
    "figure = make_hist(sat_act_2019['sat_math_score'])\n",
    "\n",
    "figure.set_title(label = 'Histogram of SAT Math Scores - 2019',\n",
    "                 fontdict = {'fontsize': 16,\n",
    "                             'fontweight': 'bold'},\n",
    "                 y = 1.10)\n",
    "\n",
    "figure.set_xlabel('SAT Math Score');"
   ]
  },
  {
   "cell_type": "code",
   "execution_count": 69,
   "metadata": {},
   "outputs": [
    {
     "data": {
      "image/png": "[encoded data removed]",
      "text/plain": [
       "<Figure size 576x432 with 1 Axes>"
      ]
     },
     "metadata": {
      "needs_background": "light"
     },
     "output_type": "display_data"
    }
   ],
   "source": [
    "#plotting the frequency of SAT Reading scores in 2019, by state\n",
    "figure = make_hist(sat_act_2019['sat_reading_score'])\n",
    "\n",
    "figure.set_title(label = 'Histogram of SAT Reading Scores - 2019',\n",
    "                 fontdict = {'fontsize': 16,\n",
    "                             'fontweight': 'bold'},\n",
    "                 y = 1.10)\n",
    "\n",
    "figure.set_xlabel('SAT Reading Score');"
   ]
  },
  {
   "cell_type": "code",
   "execution_count": 70,
   "metadata": {},
   "outputs": [
    {
     "data": {
      "image/png": "[encoded data removed]",
      "text/plain": [
       "<Figure size 1152x576 with 2 Axes>"
      ]
     },
     "metadata": {
      "needs_background": "light"
     },
     "output_type": "display_data"
    }
   ],
   "source": [
    "fig, axs = plt.subplots(figsize = (16, 8),\n",
    "                        nrows = 1,\n",
    "                        ncols = 2,\n",
    "                        sharex = True,\n",
    "                        sharey = True)\n",
    "plt.suptitle('SAT Section Scores',\n",
    "             fontsize = 16,\n",
    "             fontweight = 'bold')\n",
    "\n",
    "for ax in axs.flat:\n",
    "    ax.set(xlabel = 'SAT Section Score', ylabel = 'Frequency (by State)')\n",
    "    ax.tick_params(labelsize = 12)  \n",
    "\n",
    "#plot in position 1\n",
    "axs[0].hist(x = sat_act_2019['sat_reading_score'])\n",
    "axs[0].set_title('SAT Reading Score')\n",
    "axs[0].axvline(sat_act_2019['sat_reading_score'].mean(),\n",
    "                color = 'red',\n",
    "                linestyle = 'dashed',\n",
    "                linewidth = 2)\n",
    "\n",
    "min_ylim, max_ylim = plt.ylim()  \n",
    "axs[0].text(sat_act_2019['sat_reading_score'].mean()*1.01,\n",
    "            max_ylim*0.9,\n",
    "            'Mean: {:.2f}'.format(sat_act_2019['sat_reading_score'].mean()))\n",
    "\n",
    "#plot in position 2\n",
    "axs[1].hist(x = sat_act_2019['sat_math_score'])\n",
    "axs[1].set_title('SAT Math Score')\n",
    "axs[1].axvline(sat_act_2019['sat_math_score'].mean(),\n",
    "                color = 'red',\n",
    "                linestyle = 'dashed',\n",
    "                linewidth = 2)\n",
    "axs[1].text(sat_act_2019['sat_math_score'].mean()*1.01,\n",
    "            max_ylim*0.9,\n",
    "            'Mean: {:.2f}'.format(sat_act_2019['sat_math_score'].mean()));"
   ]
  },
  {
   "cell_type": "markdown",
   "metadata": {},
   "source": [
    "- The above two histograms, 'Histogram of SAT Math Score - 2019' and 'Histogram of SAT Reading Score - 2019' further breakdown a state's average SAT scores by subject. We would expect both of these shapes to resemble 'Histogram of SAT Total Score - 2019', and they do, however we can now note that Math scores are concentrated more about the mean, while Reading scores are slightly right skewed. "
   ]
  },
  {
   "cell_type": "code",
   "execution_count": 78,
   "metadata": {},
   "outputs": [
    {
     "data": {
      "image/png": "[encoded data removed]",
      "text/plain": [
       "<Figure size 576x432 with 1 Axes>"
      ]
     },
     "metadata": {
      "needs_background": "light"
     },
     "output_type": "display_data"
    }
   ],
   "source": [
    "#plotting the frequency of overall SAT scores by intended Majors in 2019\n",
    "figure = make_hist(sat_2019_int_major['sat_total'])\n",
    "\n",
    "figure.set_title(label = 'Histogram of SAT Scores by Intended Major - 2019',\n",
    "                 fontdict = {'fontsize': 16,\n",
    "                             'fontweight': 'bold'},\n",
    "                 y = 1.10)\n",
    "\n",
    "figure.set_xlabel('SAT Total Score')\n",
    "\n",
    "figure.set_ylabel('Frequency (by Intended Major)');"
   ]
  },
  {
   "cell_type": "code",
   "execution_count": 80,
   "metadata": {},
   "outputs": [
    {
     "data": {
      "image/png": "[encoded data removed]",
      "text/plain": [
       "<Figure size 576x432 with 1 Axes>"
      ]
     },
     "metadata": {
      "needs_background": "light"
     },
     "output_type": "display_data"
    }
   ],
   "source": [
    "#plotting the frequency of overall SAT scores by intended STEM Majors in 2019\n",
    "# hist_int_major_stem = int_major_stem['sat_total'].hist().set(\n",
    "#     title = 'Histogram of SAT Scores by Intended STEM Major - 2019', xlabel = 'Score', ylabel = 'Frequency')\n",
    "\n",
    "figure = make_hist(int_major_stem['sat_total'])\n",
    "\n",
    "figure.set_title(label = 'Histogram of SAT Scores by Intended Major - 2019',\n",
    "                 fontdict = {'fontsize': 16,\n",
    "                             'fontweight': 'bold'},\n",
    "                 y = 1.10)\n",
    "\n",
    "figure.set_xlabel('SAT Total Score')\n",
    "\n",
    "figure.set_ylabel('Frequency (by STEM Intended Major)');"
   ]
  },
  {
   "cell_type": "code",
   "execution_count": 87,
   "metadata": {},
   "outputs": [
    {
     "data": {
      "image/png": "[encoded data removed]",
      "text/plain": [
       "<Figure size 1152x576 with 2 Axes>"
      ]
     },
     "metadata": {
      "needs_background": "light"
     },
     "output_type": "display_data"
    }
   ],
   "source": [
    "fig, axs = plt.subplots(figsize = (16, 8),\n",
    "                        nrows = 1,\n",
    "                        ncols = 2,\n",
    "                        sharex = True,\n",
    "                        sharey = True)\n",
    "plt.suptitle('SAT Total Scores (by Intended Major)',\n",
    "             fontsize = 16,\n",
    "             fontweight = 'bold')\n",
    "\n",
    "for ax in axs.flat:\n",
    "    ax.set(xlabel = 'SAT Total Score', ylabel = 'Frequency (by Intended Major)')\n",
    "    ax.tick_params(labelsize = 12)  \n",
    "\n",
    "#plot in position 1\n",
    "axs[0].hist(x = sat_2019_int_major['sat_total'])\n",
    "axs[0].set_title('SAT Total Score - All Intended Majors')\n",
    "axs[0].axvline(sat_2019_int_major['sat_total'].mean(),\n",
    "                color = 'red',\n",
    "                linestyle = 'dashed',\n",
    "                linewidth = 2)\n",
    "\n",
    "min_ylim, max_ylim = plt.ylim()  \n",
    "axs[0].text(sat_2019_int_major['sat_total'].mean()*1.01,\n",
    "            max_ylim*0.9,\n",
    "            'Mean: {:.2f}'.format(sat_2019_int_major['sat_total'].mean()))\n",
    "\n",
    "#plot in position 2\n",
    "axs[1].hist(x = int_major_stem['sat_total'])\n",
    "axs[1].set_title('SAT Total Score - STEM Majors')\n",
    "axs[1].axvline(int_major_stem['sat_total'].mean(),\n",
    "                color = 'red',\n",
    "                linestyle = 'dashed',\n",
    "                linewidth = 2)\n",
    "axs[1].text(int_major_stem['sat_total'].mean()*1.01,\n",
    "            max_ylim*0.9,\n",
    "            'Mean: {:.2f}'.format(int_major_stem['sat_total'].mean()));"
   ]
  },
  {
   "cell_type": "markdown",
   "metadata": {},
   "source": [
    "- The above two histograms show the distribution of SAT scores by intended college Major. STEM majors have a more narrow range of scores in addition to higher scores on average, which was expected. "
   ]
  },
  {
   "cell_type": "markdown",
   "metadata": {},
   "source": [
    "3. Plot and interpret boxplots. \n",
    "    - Boxplots demonstrate central tendency and spread in variables. In a certain sense, these are somewhat redundant with histograms, but you may be better able to identify clear outliers or differences in IQR, etc.\n",
    "    - Multiple values can be plotted to a single boxplot as long as they are of the same relative scale (meaning they have similar min/max values).\n",
    "    - Each boxplot should:\n",
    "        - Only include variables of a similar scale\n",
    "        - Have clear labels for each variable\n",
    "        - Have appropriate titles and labels"
   ]
  },
  {
   "cell_type": "code",
   "execution_count": 100,
   "metadata": {},
   "outputs": [
    {
     "data": {
      "image/png": "[encoded data removed]",
      "text/plain": [
       "<Figure size 576x576 with 1 Axes>"
      ]
     },
     "metadata": {
      "needs_background": "light"
     },
     "output_type": "display_data"
    }
   ],
   "source": [
    "#https://pandas.pydata.org/pandas-docs/stable/reference/api/pandas.DataFrame.boxplot.html\n",
    "plt.figure(figsize = (8, 8))\n",
    "\n",
    "boxplot_sat_2019 = sat_act_2019.boxplot(column = ['sat_total'],\n",
    "                                        grid = True).set(\n",
    "    title = 'Box-and-Whisker Plot of SAT Scores - 2019',\n",
    "    ylabel = 'Score')"
   ]
  },
  {
   "cell_type": "markdown",
   "metadata": {},
   "source": [
    "- When I first completed this project I used panda's built-in .boxplot() method in order to generate boxplots. Since that time I've come to prefer Seaborn's boxplot method which offers more figure customization. "
   ]
  },
  {
   "cell_type": "code",
   "execution_count": 132,
   "metadata": {},
   "outputs": [
    {
     "data": {
      "image/png": "[encoded data removed]",
      "text/plain": [
       "<Figure size 576x864 with 1 Axes>"
      ]
     },
     "metadata": {
      "needs_background": "light"
     },
     "output_type": "display_data"
    }
   ],
   "source": [
    "#https://seaborn.pydata.org/generated/seaborn.boxplot.html\n",
    "plt.figure(figsize = (8, 12))\n",
    "\n",
    "plt.title('Distribution of SAT Total Scores',\n",
    "          fontsize = 16,\n",
    "          fontweight = 'bold')\n",
    "\n",
    "sns.boxplot(y = 'sat_total',\n",
    "            data = sat_act_2019,\n",
    "            linewidth = 1.5)\n",
    "\n",
    "sns.swarmplot(y = 'sat_total',\n",
    "              data = sat_act_2019,\n",
    "              linewidth = 1.5,\n",
    "              color = 'red')\n",
    "\n",
    "plt.xlabel('SAT Total Score',\n",
    "           fontweight = 'bold');"
   ]
  },
  {
   "cell_type": "code",
   "execution_count": 157,
   "metadata": {},
   "outputs": [
    {
     "data": {
      "image/png": "[encoded data removed]",
      "text/plain": [
       "<Figure size 720x576 with 1 Axes>"
      ]
     },
     "metadata": {
      "needs_background": "light"
     },
     "output_type": "display_data"
    }
   ],
   "source": [
    "plt.figure(figsize = (10, 8))\n",
    "\n",
    "boxplot_sat_2019_sec = sat_act_2019.boxplot(column=['sat_reading_score',\n",
    "                                                    'sat_math_score']).set(\n",
    "    title = 'Box-and-Whisker Plot of SAT Scores by Subject - 2019',\n",
    "    ylabel = 'Score')\n",
    "\n",
    "plt.xticks(ticks = [1, 2], labels = ['Reading Score', 'Math Score']);"
   ]
  },
  {
   "cell_type": "markdown",
   "metadata": {},
   "source": [
    "- The above box plots confirm that there are no extreme outliers for States in either overall SAT score or SAT score brokedown by sbject. As confirmed by our summary statistics in our Exploratory Data Analysis (EDA) section, Math scores have a higher mean than Reading scores, however the boxplot shows that Reading scores have a higher median than Math scores. "
   ]
  },
  {
   "cell_type": "code",
   "execution_count": 133,
   "metadata": {},
   "outputs": [
    {
     "data": {
      "image/png": "[encoded data removed]",
      "text/plain": [
       "<Figure size 576x864 with 1 Axes>"
      ]
     },
     "metadata": {
      "needs_background": "light"
     },
     "output_type": "display_data"
    }
   ],
   "source": [
    "plt.figure(figsize = (8, 12))\n",
    "\n",
    "plt.title('Distribution of SAT Reading Scores',\n",
    "          fontsize = 16,\n",
    "          fontweight = 'bold')\n",
    "\n",
    "sns.boxplot(y = sat_act_2019['sat_reading_score'],\n",
    "            linewidth = 1.5)\n",
    "\n",
    "sns.swarmplot(y = 'sat_reading_score',\n",
    "              data = sat_act_2019,\n",
    "              linewidth = 1.5,\n",
    "              color = 'red')\n",
    "\n",
    "plt.xlabel('SAT Reading Score',\n",
    "           fontweight = 'bold');"
   ]
  },
  {
   "cell_type": "code",
   "execution_count": 134,
   "metadata": {},
   "outputs": [
    {
     "data": {
      "image/png": "[encoded data removed]",
      "text/plain": [
       "<Figure size 576x864 with 1 Axes>"
      ]
     },
     "metadata": {
      "needs_background": "light"
     },
     "output_type": "display_data"
    }
   ],
   "source": [
    "plt.figure(figsize = (8, 12))\n",
    "\n",
    "plt.title('Distribution of SAT Math Scores',\n",
    "          fontsize = 16,\n",
    "          fontweight = 'bold')\n",
    "\n",
    "sns.boxplot(y = sat_act_2019['sat_math_score'],\n",
    "            linewidth = 1.5)\n",
    "\n",
    "sns.swarmplot(y = 'sat_math_score',\n",
    "              data = sat_act_2019,\n",
    "              linewidth = 1.5,\n",
    "              color = 'red')\n",
    "\n",
    "plt.xlabel('SAT Math Score',\n",
    "           fontweight = 'bold');"
   ]
  },
  {
   "cell_type": "code",
   "execution_count": 156,
   "metadata": {},
   "outputs": [
    {
     "data": {
      "image/png": "[encoded data removed]",
      "text/plain": [
       "<Figure size 576x576 with 1 Axes>"
      ]
     },
     "metadata": {
      "needs_background": "light"
     },
     "output_type": "display_data"
    }
   ],
   "source": [
    "plt.figure(figsize = (8, 8))\n",
    "\n",
    "boxplot_act_2019 = sat_act_2019.boxplot(column=['act_composite_score']).set(\n",
    "    title = 'Box-and-Whisker Plot of ACT Scores - 2019',\n",
    "    ylabel = 'ACT Score')\n",
    "\n",
    "plt.xticks([]);"
   ]
  },
  {
   "cell_type": "markdown",
   "metadata": {},
   "source": [
    "- The above box plot is a visual representation of the spread of ACT composite scores. As our problem statement was specific to SAT and SAT section scores, this is provided simply for frame of reference. "
   ]
  },
  {
   "cell_type": "code",
   "execution_count": 158,
   "metadata": {},
   "outputs": [
    {
     "data": {
      "image/png": "[encoded data removed]",
      "text/plain": [
       "<Figure size 576x576 with 1 Axes>"
      ]
     },
     "metadata": {
      "needs_background": "light"
     },
     "output_type": "display_data"
    }
   ],
   "source": [
    "plt.figure(figsize = (8, 8))\n",
    "\n",
    "boxplot_sat_int_major = sat_2019_int_major.boxplot(column=['sat_total']).set(\n",
    "    title = 'Box-and-Whisker Plot of SAT Scores for All Intended Majors - 2019',\n",
    "    ylabel = 'SAT Score')\n",
    "\n",
    "plt.xticks([]);"
   ]
  },
  {
   "cell_type": "markdown",
   "metadata": {},
   "source": [
    "- This plot resembles 'Box-and-Whisker Plot of SAT Scores - 2019' as one would expect: this plot takes the SAT scores brokedown by Intended Major while the plot for 'Box-and-Whisker Plot of SAT Scores - 2019' takes SAT scores brokedown across states. "
   ]
  },
  {
   "cell_type": "code",
   "execution_count": 165,
   "metadata": {},
   "outputs": [
    {
     "data": {
      "image/png": "[encoded data removed]",
      "text/plain": [
       "<Figure size 576x864 with 1 Axes>"
      ]
     },
     "metadata": {
      "needs_background": "light"
     },
     "output_type": "display_data"
    }
   ],
   "source": [
    "plt.figure(figsize = (8, 12))\n",
    "\n",
    "plt.title('Distribution of SAT Total Scores (by Intended Major)',\n",
    "          fontsize = 16,\n",
    "          fontweight = 'bold')\n",
    "\n",
    "sns.boxplot(y = 'sat_total',\n",
    "            data = sat_2019_int_major,\n",
    "            linewidth = 1.5)\n",
    "\n",
    "sns.swarmplot(y = 'sat_total',\n",
    "              data = sat_2019_int_major,\n",
    "              linewidth = 1.5,\n",
    "              color = 'red')\n",
    "\n",
    "plt.xlabel(None)\n",
    "plt.ylabel('SAT Total Score',\n",
    "           fontweight = 'bold');"
   ]
  },
  {
   "cell_type": "code",
   "execution_count": 138,
   "metadata": {},
   "outputs": [
    {
     "data": {
      "image/png": "[encoded data removed]",
      "text/plain": [
       "<Figure size 576x576 with 1 Axes>"
      ]
     },
     "metadata": {
      "needs_background": "light"
     },
     "output_type": "display_data"
    }
   ],
   "source": [
    "plt.figure(figsize = (8, 8))\n",
    "\n",
    "boxplot_sat_int_major_subj = sat_2019_int_major.boxplot(column=['reading_score',\n",
    "                                                                'math_score']).set(\n",
    "    title = 'Box-and-Whisker Plot of SAT Scores by Subject for All Intended Majors - 2019',\n",
    "    ylabel = 'Score')\n",
    "\n",
    "#there's one outlier in Math Scores, this represents the 'Mathematics and Statistics' majors"
   ]
  },
  {
   "cell_type": "markdown",
   "metadata": {},
   "source": [
    "- Unlike 'Box-and-Whisker Plot of SAT Scores by Subject - 2019', which demonstrates there were no outlier states for either SAT section, the above plot confirms that at least one of the intended majors was an outlier for Math score. From our EDA section above, this is the intended major 'Mathematics and Statistics'."
   ]
  },
  {
   "cell_type": "code",
   "execution_count": 168,
   "metadata": {},
   "outputs": [
    {
     "data": {
      "image/png": "[encoded data removed]",
      "text/plain": [
       "<Figure size 576x576 with 1 Axes>"
      ]
     },
     "metadata": {
      "needs_background": "light"
     },
     "output_type": "display_data"
    }
   ],
   "source": [
    "plt.figure(figsize = (8, 8))\n",
    "\n",
    "boxplot_sat_int_major_stem = int_major_stem.boxplot(column=['sat_total']).set(\n",
    "    title = 'Box-and-Whisker Plot of SAT Scores for STEM Intended Majors - 2019',\n",
    "    ylabel = 'SAT Total Score')\n",
    "\n",
    "plt.xticks([]);"
   ]
  },
  {
   "cell_type": "code",
   "execution_count": 125,
   "metadata": {},
   "outputs": [
    {
     "data": {
      "image/png": "[encoded data removed]",
      "text/plain": [
       "<Figure size 432x288 with 1 Axes>"
      ]
     },
     "metadata": {
      "needs_background": "light"
     },
     "output_type": "display_data"
    }
   ],
   "source": [
    "boxplot_sat_int_major_stem_subj = int_major_stem.boxplot(column=['reading_score', 'math_score']).set(\n",
    "    title = 'Box-and-Whisker Plot of SAT Scores by Subject for STEM Intended Majors - 2019', ylabel = 'Score')"
   ]
  },
  {
   "cell_type": "markdown",
   "metadata": {},
   "source": [
    "- The above box plots look further at SAT scores for STEM intended majors, rather than all majors. While 'Mathematics and Statistics' majors were considered an outlier among all intended majors, they are not considered an outlier among STEM majors for SAT Math score. The second of these box plots also serves to demonstrate that, on average, STEM majors score lower in Reading than in Math on the SAT, helping to address our problem statement. "
   ]
  },
  {
   "cell_type": "markdown",
   "metadata": {},
   "source": [
    "4. Plot and interpret scatter plots to view relationships between features. Feel free to write a custom function, and subplot if you'd like. Functions save both time and space.\n",
    "    - Your plots should have:\n",
    "        - Two clearly labeled axes\n",
    "        - A proper title\n",
    "        - Colors and symbols that are clear and unmistakable"
   ]
  },
  {
   "cell_type": "code",
   "execution_count": 146,
   "metadata": {},
   "outputs": [
    {
     "data": {
      "image/png": "[encoded data removed]",
      "text/plain": [
       "<Figure size 432x288 with 1 Axes>"
      ]
     },
     "metadata": {
      "needs_background": "light"
     },
     "output_type": "display_data"
    }
   ],
   "source": [
    "#4. Plot and interpret scatter plots to view relationships between features. \n",
    "#Feel free to write a custom function, and subplot if you'd like. Functions save both time and space.\n",
    "\n",
    "#used https://pandas.pydata.org/pandas-docs/version/0.25.0/reference/api/pandas.DataFrame.plot.scatter.html\n",
    "#for information on scatter plots\n",
    "\n",
    "sat_act_2019.plot.scatter(x = 'act_composite_score', y = 'sat_total').set(title = 'SAT vs. ACT Scores');"
   ]
  },
  {
   "cell_type": "markdown",
   "metadata": {},
   "source": [
    "- This scatter plot shows there's no real relation between SAT and ACT scores among states: just because a state performs well on the SAT does not suggest that the state will also perform well on the ACT. "
   ]
  },
  {
   "cell_type": "code",
   "execution_count": null,
   "metadata": {},
   "outputs": [],
   "source": [
    "#plotting the relation between SAT Reading score and SAT Math score, by state\n",
    "sat_act_2019.plot.scatter(x = 'sat_evidence_based_reading_score', y = 'sat_math_score').set(\n",
    "    title = 'SAT Reading vs. Math Scores by State', xlabel = 'SAT Math Score', ylabel = 'SAT Reading Score');"
   ]
  },
  {
   "cell_type": "markdown",
   "metadata": {},
   "source": [
    "- This scatter plot shows the strong relation between a state's average SAT Reading and Math scores. If a state does well on the SAT Reading section, they are likely to do well on the SAT Math section and vice-versa."
   ]
  },
  {
   "cell_type": "code",
   "execution_count": null,
   "metadata": {},
   "outputs": [],
   "source": [
    "#plotting the relation between SAT Reading score and SAT Math score, by intended college major\n",
    "sat_2019_int_major.plot.scatter(x = 'reading_score', y = 'math_score').set(\n",
    "    title = 'SAT Reading vs. Math Scores by Intended Major', xlabel = 'SAT Math Score', ylabel = 'SAT Reading Score');"
   ]
  },
  {
   "cell_type": "markdown",
   "metadata": {},
   "source": [
    "- This scatter plot shows the strong relation between a particular declared Intended Major's average SAT Reading and Math scores. If a student declaring a particular intended major does well on the SAT Reading section, they are likely to do well on the SAT Math section and vice-versa."
   ]
  },
  {
   "cell_type": "code",
   "execution_count": null,
   "metadata": {},
   "outputs": [],
   "source": [
    "#plotting the relation between SAT Reading score and SAT Math score, by intended college STEM major\n",
    "int_major_stem.plot.scatter(x = 'reading_score', y = 'math_score').set(\n",
    "    title = 'SAT Reading vs. Math Scores by STEM Major', xlabel = 'SAT Math Score', ylabel = 'SAT Reading Score');"
   ]
  },
  {
   "cell_type": "markdown",
   "metadata": {},
   "source": [
    "- This scatter plot further examines the relationships presented in 'SAT Reading vs. Math Scores by Intended Major' by with sole respect to STEM Majors. "
   ]
  },
  {
   "cell_type": "markdown",
   "metadata": {},
   "source": [
    "5. Additional plots of your choosing.\n",
    "    - Are there any additional trends or relationships you haven't explored? Was there something interesting you saw that you'd like to dive further into? It's likely that there are a few more plots you might want to generate to support your narrative and recommendations that you are building toward. **As always, make sure you're interpreting your plots as you go**."
   ]
  },
  {
   "cell_type": "code",
   "execution_count": 172,
   "metadata": {},
   "outputs": [
    {
     "data": {
      "image/png": "[encoded data removed]",
      "text/plain": [
       "<Figure size 900x900 with 30 Axes>"
      ]
     },
     "metadata": {
      "needs_background": "light"
     },
     "output_type": "display_data"
    }
   ],
   "source": [
    "#https://seaborn.pydata.org/generated/seaborn.pairplot.html\n",
    "#https://stackoverflow.com/questions/36813396/how-to-show-the-title-for-the-diagram-of-seaborn-pairplot-or-pridgrid\n",
    "\n",
    "pp_sat_2019_int_major = sns.pairplot(sat_2019_int_major);\n",
    "pp_sat_2019_int_major.fig.suptitle('Pair Plot for SAT Scores for All Intended Majors', y = 1.02);"
   ]
  },
  {
   "cell_type": "code",
   "execution_count": 173,
   "metadata": {},
   "outputs": [
    {
     "data": {
      "image/png": "[encoded data removed]",
      "text/plain": [
       "<Figure size 900x900 with 30 Axes>"
      ]
     },
     "metadata": {
      "needs_background": "light"
     },
     "output_type": "display_data"
    }
   ],
   "source": [
    "pp_int_major_stem = sns.pairplot(int_major_stem);\n",
    "pp_int_major_stem.fig.suptitle('Pair Plot for SAT Scores for Intended STEM Majors', y = 1.02);"
   ]
  },
  {
   "cell_type": "markdown",
   "metadata": {},
   "source": [
    "## Conclusions and Recommendations"
   ]
  },
  {
   "cell_type": "markdown",
   "metadata": {},
   "source": [
    "Based on your exploration of the data, what are you key takeaways and recommendations? Make sure to answer your question of interest or address your problem statement here."
   ]
  },
  {
   "cell_type": "markdown",
   "metadata": {},
   "source": [
    "Let us return to our original supposition that we are starting a new tutoring service for the SAT and wish to make our service competitive by advertising ourselves as experts in getting STEM students success. Does the data analyzed above provided any meaningful insights into our business decisions? \n",
    "\n",
    "Although we attempted to look at states which scored the worst in the SAT and by SAT section, there was no way to account for how many STEM students were coming from each state. In a general sense, as those students from the District of Columbia and Delaware perform the worst on average, it may be a wise business decision to start our tutoring business in those markets. Again, however, as there's no way to account for what percent of STEM students are coming from what state, so this insight is not as valuable as it could be potentially. \n",
    "\n",
    "Based on the data synthesized, however, we were able to conclude that STEM majors typically perform worse on the Reading section of the SAT than on the Math section, although they still typically outperform their non-STEM peers. This could be attributable to a variety of reason, including personal interests, as explored in the study by Davison, Jew, and Davenport, under Outside Research. Overall, however, STEM students have the most area for improvement in the Reading section therefore it would benefit our potential tutoring business to design a module for STEM students and the reading section. "
   ]
  }
 ],
 "metadata": {
  "anaconda-cloud": {},
  "kernelspec": {
   "display_name": "Python 3",
   "language": "python",
   "name": "python3"
  },
  "language_info": {
   "codemirror_mode": {
    "name": "ipython",
    "version": 3
   },
   "file_extension": ".py",
   "mimetype": "text/x-python",
   "name": "python",
   "nbconvert_exporter": "python",
   "pygments_lexer": "ipython3",
   "version": "3.8.8"
  }
 },
 "nbformat": 4,
 "nbformat_minor": 4
}
